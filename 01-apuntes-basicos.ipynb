{
 "cells": [
  {
   "cell_type": "code",
   "execution_count": 6,
   "id": "efd8309f-29d6-4cae-95d6-6e866e972075",
   "metadata": {},
   "outputs": [
    {
     "name": "stdout",
     "output_type": "stream",
     "text": [
      "Bienvenido, persona de nombre Lucia y apellido Perez\n",
      "Bienvenido, persona de nombre Lucia y apellido Perez\n"
     ]
    }
   ],
   "source": [
    "#variables con formato, rellenamos los {} con format e indicando la variable\n",
    "nombre ='Lucia'\n",
    "apellido ='Perez'\n",
    "print(\"Bienvenido, persona de nombre {} y apellido {}\".format(nombre, apellido))\n",
    "\n",
    "#otro modo marcando que variables (para el caso de tener muchas y no liarla)\n",
    "print(\"Bienvenido, persona de nombre {var1} y apellido {var2}\".format(var1=nombre, var2=apellido))"
   ]
  },
  {
   "cell_type": "code",
   "execution_count": 12,
   "id": "c3885871-b373-4c70-b02a-2df136c41146",
   "metadata": {},
   "outputs": [
    {
     "data": {
      "text/plain": [
       "'ae'"
      ]
     },
     "execution_count": 12,
     "metadata": {},
     "output_type": "execute_result"
    }
   ],
   "source": [
    "cadena ='cadena'\n",
    "cadena[4]\n",
    "cadena[-1]\n",
    "cadena[1:4:2]"
   ]
  },
  {
   "cell_type": "code",
   "execution_count": 24,
   "id": "0a65837f-1b09-4c55-bc9f-5cc600689213",
   "metadata": {},
   "outputs": [
    {
     "data": {
      "text/plain": [
       "['a', 'b', 'c', 'e', [1, 2, 3, 4, 5]]"
      ]
     },
     "execution_count": 24,
     "metadata": {},
     "output_type": "execute_result"
    }
   ],
   "source": [
    "#listas []\n",
    "lista =['a','b','c']\n",
    "#append() - añadir elementos --añade en ultima posición. \n",
    "lista.append('e')\n",
    "lista\n",
    "#se pueden indexar con [::] primera posicion, ultima posicion y salto\n",
    "#una lista puede contener listas\n",
    "lista2=[1,2,3,4,5]\n",
    "lista.append(lista2)\n",
    "lista"
   ]
  },
  {
   "cell_type": "code",
   "execution_count": 47,
   "id": "a7ef2b4b-0391-421c-af08-954df8db4753",
   "metadata": {},
   "outputs": [
    {
     "data": {
      "text/plain": [
       "2"
      ]
     },
     "execution_count": 47,
     "metadata": {},
     "output_type": "execute_result"
    }
   ],
   "source": [
    "#acceder a lista dobe, a un elto de una lista dentro de otra lista. primero se da la posicion de la 2 lista y luego la posc del elto\n",
    "#para ver el elemnto 2 de la lista dentro de la lista\n",
    "lista[4][1]"
   ]
  },
  {
   "cell_type": "code",
   "execution_count": 49,
   "id": "4ec801f1-9713-4d28-9825-ae39e34ff07e",
   "metadata": {},
   "outputs": [],
   "source": [
    "#Tuplas, lista de valores INALTERABLES (a,b,c,d)\n",
    "tupla = (1,2,3,4)"
   ]
  },
  {
   "cell_type": "code",
   "execution_count": 39,
   "id": "1122f0af-51ca-41dc-bf1d-b7a54b0aa4b3",
   "metadata": {},
   "outputs": [
    {
     "data": {
      "text/plain": [
       "'Perez'"
      ]
     },
     "execution_count": 39,
     "metadata": {},
     "output_type": "execute_result"
    }
   ],
   "source": [
    "#DICCIONARIOS: {'Clave':'valor','a':'1'} etc, se accede al valor a traves de la clave\n",
    "dicc = {\"nombre\":\"pepe\",\"apellido\":\"Perez\",\"edad\":18}\n",
    "dicc['apellido'] "
   ]
  },
  {
   "cell_type": "code",
   "execution_count": 54,
   "id": "5f24c7a2-6db4-4cd3-9f48-090ec242a305",
   "metadata": {},
   "outputs": [
    {
     "data": {
      "text/plain": [
       "{1, 2, 3, 4}"
      ]
     },
     "execution_count": 54,
     "metadata": {},
     "output_type": "execute_result"
    }
   ],
   "source": [
    "#CONJUNTOS -- colecc de eltos UNICOS y van entre {} no se pueden repetir\n",
    "\n",
    "conjunto= {1,2,3,4}\n",
    "conjunto"
   ]
  },
  {
   "cell_type": "code",
   "execution_count": 62,
   "id": "ee8993e6-23d0-44fd-a299-2521cf7cfbda",
   "metadata": {},
   "outputs": [
    {
     "data": {
      "text/plain": [
       "{1, 2, 3, 4}"
      ]
     },
     "execution_count": 62,
     "metadata": {},
     "output_type": "execute_result"
    }
   ],
   "source": [
    "conjunto2 = {1,1,2,3,3,3,2,1,2,4}\n",
    "conjunto2  #vemos se elimina los eltos duplicados y deja solo eltos únicos"
   ]
  },
  {
   "cell_type": "code",
   "execution_count": 66,
   "id": "c1f9129a-026f-4e6d-ad2e-a5645fa32927",
   "metadata": {},
   "outputs": [
    {
     "data": {
      "text/plain": [
       "{1, 2, 3, 4, 5, 6, 7}"
      ]
     },
     "execution_count": 66,
     "metadata": {},
     "output_type": "execute_result"
    }
   ],
   "source": [
    "#se puede crear un conjunto a partir de una lista\n",
    "lista = [1,2,3,4,5,6,7,2,3,4,5,3,4,1]\n",
    "conjunto = set (lista)\n",
    "conjunto  #nos devuelve una conjunto con los valores UNICOS de la lista con la que se ha creado el conjunto\n",
    "#sirve para eliminar duplicados de la lista"
   ]
  },
  {
   "cell_type": "code",
   "execution_count": 72,
   "id": "2c00691f-0fba-4581-a6ac-a86723b8c03a",
   "metadata": {},
   "outputs": [
    {
     "data": {
      "text/plain": [
       "False"
      ]
     },
     "execution_count": 72,
     "metadata": {},
     "output_type": "execute_result"
    }
   ],
   "source": [
    "#Operadores de comparación\n",
    "#  ==(igual) <(menor) >(mayor) <=(menor o igual) >=(mayor o igual) !=(distinto)\n",
    "lista != conjunto\n"
   ]
  },
  {
   "cell_type": "code",
   "execution_count": 94,
   "id": "a4f21200-0d13-411f-8fdb-ce7565bb9968",
   "metadata": {},
   "outputs": [
    {
     "data": {
      "text/plain": [
       "[2, 4, 6, 8, 10]"
      ]
     },
     "execution_count": 94,
     "metadata": {},
     "output_type": "execute_result"
    }
   ],
   "source": [
    "#comprensión de lista - crear una lista a partir de otra, se crea la lista vacia y se crea a partir de la otra\n",
    "lista1 = [1,2,3,4,5]\n",
    "lista2= []\n",
    "for  numero in lista1:\n",
    "    valor = numero *2\n",
    "    lista2.append(valor)\n",
    "\n",
    "lista2"
   ]
  },
  {
   "cell_type": "code",
   "execution_count": 102,
   "id": "881d2b81-d45c-4bea-95a4-8b63a2a5e0e5",
   "metadata": {},
   "outputs": [
    {
     "data": {
      "text/plain": [
       "[4, 8, 12, 16, 20]"
      ]
     },
     "execution_count": 102,
     "metadata": {},
     "output_type": "execute_result"
    }
   ],
   "source": [
    "#esto se puede hacer con la comprensión de lista\n",
    "lista3 = [numero*2 for numero in lista2]\n",
    "lista3"
   ]
  },
  {
   "cell_type": "markdown",
   "id": "1b5c2cf0-d4a5-4371-9848-c6acf23b1ecf",
   "metadata": {},
   "source": [
    "---"
   ]
  },
  {
   "cell_type": "code",
   "execution_count": 11,
   "id": "96aa2264-2549-42f8-a91e-85fdfd10f071",
   "metadata": {},
   "outputs": [],
   "source": [
    "A = 10\n",
    "B = 5\n"
   ]
  },
  {
   "cell_type": "code",
   "execution_count": null,
   "id": "154b928e-ba7b-4e6b-9a41-05d0384e9f4a",
   "metadata": {},
   "outputs": [],
   "source": [
    "#Aritmetica simple"
   ]
  },
  {
   "cell_type": "code",
   "execution_count": 13,
   "id": "d4ef0562-2306-4e53-bbee-9e0276ad0c9a",
   "metadata": {},
   "outputs": [],
   "source": [
    "c = A + B"
   ]
  },
  {
   "cell_type": "code",
   "execution_count": 17,
   "id": "b102ccc4-f973-4c4c-94fa-13cb9554c304",
   "metadata": {},
   "outputs": [
    {
     "name": "stdout",
     "output_type": "stream",
     "text": [
      "15\n"
     ]
    }
   ],
   "source": [
    "print(c)  #esto es diferente a python 2\n"
   ]
  },
  {
   "cell_type": "code",
   "execution_count": 19,
   "id": "f058fbfd-11ae-4b73-88ef-d216205ef1c0",
   "metadata": {},
   "outputs": [],
   "source": [
    "import math"
   ]
  },
  {
   "cell_type": "code",
   "execution_count": 25,
   "id": "152f391c-0cfd-47ac-aa14-041b7096ab21",
   "metadata": {},
   "outputs": [
    {
     "data": {
      "text/plain": [
       "3.1622776601683795"
      ]
     },
     "execution_count": 25,
     "metadata": {},
     "output_type": "execute_result"
    }
   ],
   "source": [
    "math.sqrt(A)\n"
   ]
  },
  {
   "cell_type": "code",
   "execution_count": 27,
   "id": "cb0b34a2-547e-4d74-98ec-f9c02ddf97fa",
   "metadata": {},
   "outputs": [
    {
     "data": {
      "text/plain": [
       "3"
      ]
     },
     "execution_count": 27,
     "metadata": {},
     "output_type": "execute_result"
    }
   ],
   "source": [
    "round(math.sqrt(A))"
   ]
  },
  {
   "cell_type": "code",
   "execution_count": 10,
   "id": "e2ed1c91-7efb-4773-9a07-4d6d59b8a43c",
   "metadata": {},
   "outputs": [
    {
     "name": "stdout",
     "output_type": "stream",
     "text": [
      "0\n",
      "1\n",
      "2\n",
      "3\n",
      "4\n",
      "5\n",
      "6\n",
      "7\n",
      "8\n",
      "9\n",
      "fuera de bucle, FIN\n"
     ]
    }
   ],
   "source": [
    "i = 0\n",
    "while i<10:\n",
    "    print(i)\n",
    "    i +=1\n",
    "print(\"fuera de bucle, FIN\")"
   ]
  },
  {
   "cell_type": "markdown",
   "id": "7db097c7-dd27-4017-a8d1-4cb7bb70f73f",
   "metadata": {},
   "source": [
    "BUCLE FOR "
   ]
  },
  {
   "cell_type": "code",
   "execution_count": 12,
   "id": "17f90290-71ef-4c48-a528-41ab21d30b07",
   "metadata": {},
   "outputs": [
    {
     "name": "stdout",
     "output_type": "stream",
     "text": [
      "Hola Py\n",
      "Hola Py\n",
      "Hola Py\n",
      "Hola Py\n",
      "Hola Py\n"
     ]
    }
   ],
   "source": [
    "#vamos a escribir un for loop\n",
    "for i in range(5):\n",
    "    print(\"Hola Py\")\n",
    "    "
   ]
  },
  {
   "cell_type": "code",
   "execution_count": 90,
   "id": "21e77351-3d89-4fc5-b9f8-00ca291b6e9f",
   "metadata": {},
   "outputs": [
    {
     "data": {
      "text/plain": [
       "[0, 1, 2, 3, 4]"
      ]
     },
     "execution_count": 90,
     "metadata": {},
     "output_type": "execute_result"
    }
   ],
   "source": [
    "#range(5) #diferente a python 2.7\n",
    "list(range(5))  #empieza en 0 y cuenta 5, es una lista no inclusiva"
   ]
  },
  {
   "cell_type": "code",
   "execution_count": 92,
   "id": "f841c540-fbd9-42bd-a422-529de442663b",
   "metadata": {},
   "outputs": [
    {
     "data": {
      "text/plain": [
       "[5, 7, 9]"
      ]
     },
     "execution_count": 92,
     "metadata": {},
     "output_type": "execute_result"
    }
   ],
   "source": [
    "list(range(5,10,2))  #pasando valor inicial y final y salto"
   ]
  },
  {
   "cell_type": "code",
   "execution_count": 16,
   "id": "272ee187-d59f-4388-9d2b-6bdc4fc1299f",
   "metadata": {},
   "outputs": [
    {
     "name": "stdout",
     "output_type": "stream",
     "text": [
      "Hola, contando 0\n",
      "Hola, contando 1\n",
      "Hola, contando 2\n",
      "Hola, contando 3\n",
      "Hola, contando 4\n"
     ]
    }
   ],
   "source": [
    "for i in range(5):\n",
    "    print(\"Hola, contando \", i)"
   ]
  },
  {
   "cell_type": "markdown",
   "id": "d55671f6-a457-4ac0-a6b7-e4757adbb813",
   "metadata": {},
   "source": [
    "---"
   ]
  },
  {
   "cell_type": "code",
   "execution_count": 78,
   "id": "9ccd5cce-b5ce-493d-ab3e-a2eb54a84483",
   "metadata": {},
   "outputs": [
    {
     "name": "stdout",
     "output_type": "stream",
     "text": [
      "[10, 100, 10000]\n"
     ]
    }
   ],
   "source": [
    "myList=[10,100,10000]\n",
    "print(myList)"
   ]
  },
  {
   "cell_type": "code",
   "execution_count": 82,
   "id": "6b89fe57-0a11-44a3-b8fb-7f8be53e5ae0",
   "metadata": {},
   "outputs": [
    {
     "name": "stdout",
     "output_type": "stream",
     "text": [
      "item, es igual a: 10\n",
      "item, es igual a: 100\n",
      "item, es igual a: 10000\n"
     ]
    }
   ],
   "source": [
    "for item in myList:\n",
    "    print(\"item, es igual a:\", item )"
   ]
  },
  {
   "cell_type": "markdown",
   "id": "ac678d39-1adb-4f57-88ba-3a6cdf5a5236",
   "metadata": {},
   "source": [
    "---"
   ]
  },
  {
   "cell_type": "markdown",
   "id": "3c75e776-ae37-4308-a091-4f9deaa75692",
   "metadata": {},
   "source": [
    "### Para crear una linea para dividir el código en jupyter. en Markcode datos --- y alt+enter y crea una línea\n",
    "---"
   ]
  },
  {
   "cell_type": "markdown",
   "id": "35c71705-11cd-4c27-b6de-19a7b4cde418",
   "metadata": {},
   "source": [
    "---"
   ]
  },
  {
   "cell_type": "markdown",
   "id": "3cb94e67-df65-4b40-b4b6-7371f7b04bce",
   "metadata": {},
   "source": [
    "If, else, y numply"
   ]
  },
  {
   "cell_type": "code",
   "execution_count": 40,
   "id": "d470f1af-cf62-48d9-b143-3cebde131c88",
   "metadata": {},
   "outputs": [
    {
     "data": {
      "text/plain": [
       "-0.4657334501457818"
      ]
     },
     "execution_count": 40,
     "metadata": {},
     "output_type": "execute_result"
    }
   ],
   "source": [
    "#importamos el paquete numpy\n",
    "import numpy as np #le asignamos un alias 'np'\n",
    "\n",
    "from numpy.random import randn #importamos la función random del pquete numpy\n",
    "\n",
    "randn()"
   ]
  },
  {
   "cell_type": "code",
   "execution_count": 63,
   "id": "ebcac24a-6f84-4c72-80be-20f22451f799",
   "metadata": {},
   "outputs": [
    {
     "name": "stdout",
     "output_type": "stream",
     "text": [
      "-0.1363672580384036\n",
      "No es mayor de 2\n"
     ]
    }
   ],
   "source": [
    "x = randn()\n",
    "\n",
    "if x > 2:     respuesta =\"Mayor a 2\"\n",
    "else: respuesta =\"No es mayor de 2\"\n",
    "print(x)\n",
    "print(respuesta)"
   ]
  },
  {
   "cell_type": "code",
   "execution_count": 73,
   "id": "5b149425-3a0f-4f00-82bc-8e8a0e332ac2",
   "metadata": {},
   "outputs": [
    {
     "name": "stdout",
     "output_type": "stream",
     "text": [
      "1.6981438202611863\n",
      "Mayor de 1\n"
     ]
    }
   ],
   "source": [
    "#CONDICIONES ANIDADOS \n",
    "x = randn()\n",
    "\n",
    "if x > 1:\n",
    "    respuesta =\"Mayor de 1\"\n",
    "else:\n",
    "    if x >-1:\n",
    "        respuesta =\"Entre -1 y 1\"\n",
    "    else:\n",
    "        respuesta =\"Menor a -1\"\n",
    "        \n",
    "print(x)\n",
    "print(respuesta)"
   ]
  },
  {
   "cell_type": "code",
   "execution_count": 75,
   "id": "aa5c35ca-fb02-471e-a0f4-c049ee9a7759",
   "metadata": {},
   "outputs": [
    {
     "name": "stdout",
     "output_type": "stream",
     "text": [
      "-1.4388268989208093\n",
      "Menor a -1\n"
     ]
    }
   ],
   "source": [
    "# condiciones encadenados (más limpio)\n",
    "x = randn()\n",
    "\n",
    "if x > 1:\n",
    "    respuesta =\"Mayor de 1\"\n",
    "elif x >-1:\n",
    "   respuesta =\"Entre -1 y 1\"\n",
    "else:\n",
    "   respuesta =\"Menor a -1\"\n",
    "        \n",
    "print(x)\n",
    "print(respuesta)"
   ]
  },
  {
   "cell_type": "markdown",
   "id": "da5062f4-fa94-464f-b721-1ff9f4da2fec",
   "metadata": {},
   "source": [
    "---"
   ]
  },
  {
   "cell_type": "code",
   "execution_count": null,
   "id": "f3b7245f-f27a-4fb7-9964-7be576628a5e",
   "metadata": {},
   "outputs": [],
   "source": []
  },
  {
   "cell_type": "code",
   "execution_count": 105,
   "id": "e8ad9ac8-1768-4be3-b17c-2be5fb32b745",
   "metadata": {},
   "outputs": [
    {
     "ename": "SyntaxError",
     "evalue": "invalid syntax (3630690201.py, line 8)",
     "output_type": "error",
     "traceback": [
      "\u001b[1;36m  Cell \u001b[1;32mIn[105], line 8\u001b[1;36m\u001b[0m\n\u001b[1;33m    if( and ):\u001b[0m\n\u001b[1;37m        ^\u001b[0m\n\u001b[1;31mSyntaxError\u001b[0m\u001b[1;31m:\u001b[0m invalid syntax\n"
     ]
    }
   ],
   "source": [
    "#solución al problema 1\n",
    "import numpy as np\n",
    "from numpy.random import randn\n",
    "N = 50  #especifica el tamaño de la muestra\n",
    "contador = 0 #reinicio el contador\n",
    "\n",
    "for contador in randn(N):\n",
    "    if( and ):\n",
    "        contador += 1\n",
    "\n",
    "repuesta = contador /N\n",
    "print (respuesta)\n",
    "    \n"
   ]
  },
  {
   "cell_type": "markdown",
   "id": "686f759f-6591-4bdc-9e1e-85e84825b793",
   "metadata": {},
   "source": [
    "---"
   ]
  },
  {
   "cell_type": "markdown",
   "id": "4636d294-ce85-4dc3-a060-e31c2282b163",
   "metadata": {},
   "source": [
    "## FUNCIONES"
   ]
  },
  {
   "cell_type": "code",
   "execution_count": 113,
   "id": "ed45830f-b045-45ce-9325-e6a4e75d7fea",
   "metadata": {},
   "outputs": [
    {
     "name": "stdout",
     "output_type": "stream",
     "text": [
      "holita\n"
     ]
    }
   ],
   "source": [
    "def funcion():\n",
    "    print(\"holita\")\n",
    "\n",
    "funcion()"
   ]
  },
  {
   "cell_type": "code",
   "execution_count": 121,
   "id": "74df9ce2-8d24-4693-bce5-e768bc560337",
   "metadata": {},
   "outputs": [
    {
     "name": "stdout",
     "output_type": "stream",
     "text": [
      "Hola, buenos días Tony\n"
     ]
    }
   ],
   "source": [
    "def saludar(nombre):\n",
    "    print('Hola, buenos días ' + nombre)\n",
    "\n",
    "saludar('Tony')"
   ]
  },
  {
   "cell_type": "code",
   "execution_count": 139,
   "id": "b353c29b-cea5-464a-a5dc-55da41f8756d",
   "metadata": {},
   "outputs": [
    {
     "name": "stdout",
     "output_type": "stream",
     "text": [
      "el resultado de sumar es  11\n"
     ]
    }
   ],
   "source": [
    "def sumar(num1, num2):\n",
    "    \"\"\"Funcion para sumar dos números, \n",
    "    comentario propio para consultar shift+tab\n",
    "    \"\"\"\n",
    "    resultado = num1 + num2\n",
    "    return resultado\n",
    "\n",
    "print(\"el resultado de sumar es \", sumar(5,6))\n"
   ]
  },
  {
   "cell_type": "code",
   "execution_count": null,
   "id": "59866492-b00f-4d69-af00-06bf6957b5ab",
   "metadata": {},
   "outputs": [],
   "source": [
    "''' para consultar las opciones de la documentacion SHIFT+TAB y si le damos poniendo la funcion nuestra sumar()\n",
    "nos saldrán los comentarios que hemos añadido entre los triples comillados'''\n",
    "sumar"
   ]
  },
  {
   "cell_type": "markdown",
   "id": "0e3f8c80-539a-495e-ae1f-d3860cefafbe",
   "metadata": {},
   "source": [
    " **Funcion map()**\n",
    "  map( ) sirve para mapear una función sobre todos los elementos de un objeto, como una lista"
   ]
  },
  {
   "cell_type": "code",
   "execution_count": 148,
   "id": "53a017cb-208c-42b9-9d39-551d9181fc13",
   "metadata": {},
   "outputs": [
    {
     "data": {
      "text/plain": [
       "[2, 4, 6, 8, 10]"
      ]
     },
     "execution_count": 148,
     "metadata": {},
     "output_type": "execute_result"
    }
   ],
   "source": [
    "def multiplicar(numero):\n",
    "    return numero *2\n",
    "    \n",
    "lista =[1,2,3,4,5]\n",
    "lista2= list(map(multiplicar, lista))\n",
    "lista2"
   ]
  },
  {
   "cell_type": "code",
   "execution_count": 152,
   "id": "98ddb614-34f8-4da0-baa9-c51dfab7d103",
   "metadata": {},
   "outputs": [],
   "source": [
    "# ha aplicado la funcion multiplicar sobre cada elemento de una lista, luego el restultao lo hemos pasado a una lista para verlo"
   ]
  },
  {
   "cell_type": "markdown",
   "id": "2ed5dad2-7d4e-428a-bbdc-165d58ffd381",
   "metadata": {},
   "source": [
    "**FUNCION LAMBDA**  \n",
    "Es una función anónima, se usa para simplicar codigo, puede tener cualquier numero de argumentos pero solo puede tener una expresión.\n",
    "\n",
    "\n"
   ]
  },
  {
   "cell_type": "code",
   "execution_count": 165,
   "id": "c27a06aa-d819-406b-8345-84114f9c5a77",
   "metadata": {},
   "outputs": [
    {
     "data": {
      "text/plain": [
       "[2, 4, 6, 8, 10]"
      ]
     },
     "execution_count": 165,
     "metadata": {},
     "output_type": "execute_result"
    }
   ],
   "source": [
    "lista1 = [1,2,3,4,5]\n",
    "lista3 =list(map(lambda numero: numero*2, lista1))\n",
    "lista3"
   ]
  },
  {
   "cell_type": "markdown",
   "id": "c18c7740-6892-4009-9db4-a53c4065c557",
   "metadata": {},
   "source": [
    "**FILTROS**"
   ]
  },
  {
   "cell_type": "code",
   "execution_count": 177,
   "id": "3d9c666c-71ba-49b1-8e63-28308f6d8f1d",
   "metadata": {},
   "outputs": [
    {
     "data": {
      "text/plain": [
       "[2, 4, 6, 8]"
      ]
     },
     "execution_count": 177,
     "metadata": {},
     "output_type": "execute_result"
    }
   ],
   "source": [
    "def pares(numero):  #esta func devuelve los números que sean pares\n",
    "    if (numero % 2 == 0): \n",
    "        return numero\n",
    "\n",
    "lista1 =[1,2,3,4,5,6,7,8,9]\n",
    "lista_pares = list(filter(pares,lista1))\n",
    "lista_pares"
   ]
  },
  {
   "cell_type": "code",
   "execution_count": 183,
   "id": "95a2f87b-066b-45f3-a889-c4a21a23b697",
   "metadata": {},
   "outputs": [
    {
     "data": {
      "text/plain": [
       "[22, 60, 92]"
      ]
     },
     "execution_count": 183,
     "metadata": {},
     "output_type": "execute_result"
    }
   ],
   "source": [
    "#igual pero con una función lambda\n",
    "lista1 =[11,22,33,45,60,71,83,92]\n",
    "\n",
    "lista_pares_lambda = list(filter(lambda numero: numero%2 == 0, lista1))\n",
    "lista_pares_lambda"
   ]
  },
  {
   "cell_type": "markdown",
   "id": "0c765dad-f7a6-4022-a614-43b42cbec2ae",
   "metadata": {},
   "source": [
    "**funciona de cadenas de caracteres**"
   ]
  },
  {
   "cell_type": "code",
   "execution_count": 186,
   "id": "d909ea40-5d60-4379-96ae-25bb8605f281",
   "metadata": {},
   "outputs": [
    {
     "data": {
      "text/plain": [
       "'Hola, buenos días, bienvenido'"
      ]
     },
     "execution_count": 186,
     "metadata": {},
     "output_type": "execute_result"
    }
   ],
   "source": [
    "cadena =\"Hola, buenos días, bienvenido\"\n",
    "cadena"
   ]
  },
  {
   "cell_type": "code",
   "execution_count": 200,
   "id": "9941454e-bf39-49fd-b2b3-a537f8e36b3a",
   "metadata": {},
   "outputs": [
    {
     "data": {
      "text/plain": [
       "'HOLA, BUENOS DÍAS, BIENVENIDO'"
      ]
     },
     "execution_count": 200,
     "metadata": {},
     "output_type": "execute_result"
    }
   ],
   "source": [
    "cadena_mayus = cadena.upper()\n",
    "cadena_mayus"
   ]
  },
  {
   "cell_type": "code",
   "execution_count": 202,
   "id": "6a3bf23c-5e15-44d6-a37a-76dd3791ea40",
   "metadata": {},
   "outputs": [
    {
     "data": {
      "text/plain": [
       "['Hola,', 'buenos', 'días,', 'bienvenido']"
      ]
     },
     "execution_count": 202,
     "metadata": {},
     "output_type": "execute_result"
    }
   ],
   "source": [
    "cadena.split() #nos devuelve una lista de las palabras separadas por espacio"
   ]
  },
  {
   "cell_type": "code",
   "execution_count": 204,
   "id": "897f3d16-f2e6-40db-9c36-8b477b1b4c6b",
   "metadata": {},
   "outputs": [
    {
     "data": {
      "text/plain": [
       "['Hola', ' buenos días', ' bienvenido']"
      ]
     },
     "execution_count": 204,
     "metadata": {},
     "output_type": "execute_result"
    }
   ],
   "source": [
    "cadena.split(',') #igual pero marcando la ', ' como elto de separación"
   ]
  },
  {
   "cell_type": "code",
   "execution_count": 214,
   "id": "cb108723-15f4-41a2-948d-504a7fd46195",
   "metadata": {},
   "outputs": [
    {
     "name": "stdout",
     "output_type": "stream",
     "text": [
      "El número de palabras es de ... 8\n"
     ]
    }
   ],
   "source": [
    "frase = 'Hola, este es un curso básico de Python'\n",
    "print(\"El número de palabras es de ...\",len(frase.split()))"
   ]
  },
  {
   "cell_type": "code",
   "execution_count": 224,
   "id": "df64356c-ee56-4c6a-ad5c-2037662ee01e",
   "metadata": {},
   "outputs": [
    {
     "data": {
      "text/plain": [
       "[11, 22, 33, 45, 60, 71, 83, 92]"
      ]
     },
     "execution_count": 224,
     "metadata": {},
     "output_type": "execute_result"
    }
   ],
   "source": [
    "lista =[1,-1,4,-15,9,7,6,-3,2,-20]\n",
    "#crear una func 'positivo' que devuelva los número positivos y crear la lista2 con solo los positivos\n",
    "def positivo(numero):  #esta func devuelve los números que sean pares\n",
    "    if (numero >= 0): \n",
    "        return numero\n",
    "\n",
    "lista2 = list(filter(positivo,lista1))\n",
    "lista2\n"
   ]
  },
  {
   "cell_type": "code",
   "execution_count": 222,
   "id": "c1b3d354-9c41-41da-9552-4c4b5a42da63",
   "metadata": {},
   "outputs": [
    {
     "data": {
      "text/plain": [
       "[1, 4, 9, 7, 6, 2]"
      ]
     },
     "execution_count": 222,
     "metadata": {},
     "output_type": "execute_result"
    }
   ],
   "source": [
    "lista2 = list(filter(lambda numero: numero>=0, lista))\n",
    "lista2"
   ]
  },
  {
   "cell_type": "code",
   "execution_count": 236,
   "id": "b3b4fa94-2f72-4792-a998-8eff465e2bb4",
   "metadata": {},
   "outputs": [
    {
     "data": {
      "text/plain": [
       "['limon', 'pera', 'naranja', 'platano', 'manzana']"
      ]
     },
     "execution_count": 236,
     "metadata": {},
     "output_type": "execute_result"
    }
   ],
   "source": [
    "lista =['manzana','platano','pera','manzana','limon','pera','platano','naranja']\n",
    "#crear una nueva lista eliminado los repetidos\n",
    "conjunto = set(lista)  #esto devuelve el conjunto y luego hay que pasar el conjunto a una lista\n",
    "lista2 = list(conjunto)\n",
    "lista2"
   ]
  },
  {
   "cell_type": "code",
   "execution_count": 240,
   "id": "e8907b60-5025-48d7-a417-ed1c0b16de41",
   "metadata": {},
   "outputs": [
    {
     "data": {
      "text/plain": [
       "['limon', 'pera', 'naranja', 'platano', 'manzana']"
      ]
     },
     "execution_count": 240,
     "metadata": {},
     "output_type": "execute_result"
    }
   ],
   "source": [
    "# o se puede hacer con un for y el mtd append.\n",
    "lista_sin_duplicado = []\n",
    "for i in conjunto:\n",
    "    lista_sin_duplicado.append(i)\n",
    "\n",
    "lista_sin_duplicado"
   ]
  },
  {
   "cell_type": "code",
   "execution_count": 247,
   "id": "e20939b9-b391-45f6-91a6-c43b41537390",
   "metadata": {},
   "outputs": [
    {
     "data": {
      "text/plain": [
       "['limon', 'pera', 'naranja', 'platano', 'manzana']"
      ]
     },
     "execution_count": 247,
     "metadata": {},
     "output_type": "execute_result"
    }
   ],
   "source": [
    "#simplificado\n",
    "lista =['manzana','platano','pera','manzana','limon','pera','platano','naranja']\n",
    "lista3 = list(set(lista))\n",
    "lista3\n"
   ]
  },
  {
   "cell_type": "code",
   "execution_count": 257,
   "id": "05be9e66-8c3b-42a4-81e7-d95972ad5eb2",
   "metadata": {},
   "outputs": [
    {
     "data": {
      "text/plain": [
       "[10.0, 9.0, 4.0, 2.0, 5.0, 20.0, 3.0]"
      ]
     },
     "execution_count": 257,
     "metadata": {},
     "output_type": "execute_result"
    }
   ],
   "source": [
    "#crear una func 'dividir_entre_dos' que dive el numero entre '2' y devuelve el resultado\n",
    "lista =[20,18,8,4,10,40,6]\n",
    "#crear una nueva lista2 que mediante map() aplique la funcion 'dividir_entre_dos'\n",
    "def dividir_entre_dos(numero):\n",
    "    return numero/2\n",
    "\n",
    "lista2= list(map(dividir_entre_dos,lista))\n",
    "lista2\n"
   ]
  },
  {
   "cell_type": "markdown",
   "id": "0a6ab16f-d328-4708-9233-f1a40c75986a",
   "metadata": {},
   "source": [
    "Ejercicio de codificación : Operaciones Matemáticas  \n",
    "\n",
    "Crear una función que reciba 2 números como parámetros y que devuelva la suma, resta, multiplicación, división y resto de las operaciones entre ambos números"
   ]
  },
  {
   "cell_type": "code",
   "execution_count": null,
   "id": "8edf1739-234c-44f3-8437-bbe1d981bc8b",
   "metadata": {},
   "outputs": [],
   "source": [
    "def operaciones_matematicas(a,b):\n",
    "    suma = a + b\n",
    "    resta = a - b\n",
    "    multiplicacion = a * b\n",
    "    division = a / b \n",
    "    residuo = a % b \n",
    "    return (suma, resta, multiplicacion, division, residuo)\n",
    "\n",
    "# Prueba la función con valores específicos\n",
    "a = 10\n",
    "b = 3\n",
    "\n",
    "resultado = operaciones_matematicas(a, b)\n",
    "print(\"Suma:\", resultado[0])\n",
    "print(\"Resta:\", resultado[1])\n",
    "print(\"Multiplicación:\", resultado[2])\n",
    "print(\"División:\", resultado[3])\n",
    "print(\"Residuo:\", resultado[4])"
   ]
  },
  {
   "cell_type": "markdown",
   "id": "3c0fa812-172e-448e-8692-640aa41ce235",
   "metadata": {},
   "source": [
    "Calcular la suma y promedio de una lista de números\n",
    "Desarrolla una función llamada 'calcular_suma_y_promedio' que tome como entrada una lista de números y calcule la suma de todos los números de la lista y el promedio de esos números.\n",
    "\n",
    "La función devolverá un diccionario con los resultados de la suma y el promedio"
   ]
  },
  {
   "cell_type": "code",
   "execution_count": 268,
   "id": "7d6ea688-7c8c-4516-af64-35fc77bb45b2",
   "metadata": {},
   "outputs": [
    {
     "name": "stdout",
     "output_type": "stream",
     "text": [
      "Suma: 15\n",
      "Promedio: 3.0\n"
     ]
    }
   ],
   "source": [
    "def calcular_suma_y_promedio(lista_numeros):\n",
    "    suma = sum(lista_numeros)\n",
    "    promedio = suma / len(lista_numeros) if lista_numeros else 0\n",
    "    return {\"suma\": suma, \"promedio\": promedio}\n",
    "\n",
    "# Pruebas\n",
    "numeros = [1, 2, 3, 4, 5]\n",
    "resultado = calcular_suma_y_promedio(numeros)\n",
    "print(\"Suma:\", resultado[\"suma\"])\n",
    "print(\"Promedio:\", resultado[\"promedio\"])"
   ]
  },
  {
   "cell_type": "markdown",
   "id": "e69fc2d8-0891-47a6-ba16-29e3d5f40aaa",
   "metadata": {},
   "source": [
    "Frecuencia de elementos en una lista  \r\n",
    "Crear una función denominada 'contar_frecuencia' que tome una lista de números y calcule las veces (frecuencia) que aparece cada número en la lista y devuelva los resultados en forma de diccionario, donde cada clave será cada número distinto de la lista y cada valor será el número de veces que aparece ese número en la lista."
   ]
  },
  {
   "cell_type": "code",
   "execution_count": null,
   "id": "cd50954d-6a65-4b01-b0b5-8ba1d1adb78c",
   "metadata": {},
   "outputs": [],
   "source": []
  }
 ],
 "metadata": {
  "kernelspec": {
   "display_name": "Python 3 (ipykernel)",
   "language": "python",
   "name": "python3"
  },
  "language_info": {
   "codemirror_mode": {
    "name": "ipython",
    "version": 3
   },
   "file_extension": ".py",
   "mimetype": "text/x-python",
   "name": "python",
   "nbconvert_exporter": "python",
   "pygments_lexer": "ipython3",
   "version": "3.11.7"
  }
 },
 "nbformat": 4,
 "nbformat_minor": 5
}
