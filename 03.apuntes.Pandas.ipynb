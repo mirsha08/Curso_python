{
 "cells": [
  {
   "cell_type": "markdown",
   "id": "dfc75015-756b-44e8-8030-8cda8f1e3143",
   "metadata": {},
   "source": [
    "# PANDAS\n",
    "\n",
    "Pandas es una librería escrita como extensión de NumPy para manipulación y análisis de Datos en Python.  \n",
    "**coda install pandas** // **pip install pandas** \n",
    "\n"
   ]
  },
  {
   "cell_type": "code",
   "execution_count": 5,
   "id": "66c33e9e-b9d1-4ef1-bdb4-5bd3ec594b42",
   "metadata": {},
   "outputs": [],
   "source": [
    "import numpy as np\n",
    "import pandas as pd"
   ]
  },
  {
   "cell_type": "code",
   "execution_count": 7,
   "id": "cbc41e5f-2a7a-4662-876a-74cdc4a62b99",
   "metadata": {},
   "outputs": [
    {
     "data": {
      "text/plain": [
       "a    2\n",
       "b    4\n",
       "c    6\n",
       "dtype: int64"
      ]
     },
     "execution_count": 7,
     "metadata": {},
     "output_type": "execute_result"
    }
   ],
   "source": [
    "#Series\n",
    "etiquetas = ['a', 'b', 'c']\n",
    "datos = [2,4,6]\n",
    "#creamos ahora una serie mediante pandas, pasando los datos y los valores\n",
    "pd.Series(data=datos, index=etiquetas)\n"
   ]
  },
  {
   "cell_type": "code",
   "execution_count": 9,
   "id": "72bbc905-1d71-4478-911e-6d99161c721e",
   "metadata": {},
   "outputs": [],
   "source": [
    "#se puede construir a partir de una array"
   ]
  },
  {
   "cell_type": "code",
   "execution_count": 15,
   "id": "f0a47c96-2a3d-484c-900d-08c9c3e068b0",
   "metadata": {},
   "outputs": [
    {
     "data": {
      "text/plain": [
       "0    5\n",
       "1    6\n",
       "2    7\n",
       "3    8\n",
       "dtype: int32"
      ]
     },
     "execution_count": 15,
     "metadata": {},
     "output_type": "execute_result"
    }
   ],
   "source": [
    "array = np.arange(5,9)\n",
    "pd.Series(array)\n",
    "#al no pasar etiquetas pone secuencial desde 0 las etiquetas."
   ]
  },
  {
   "cell_type": "code",
   "execution_count": 21,
   "id": "8d655910-184a-4fdf-ae08-b7b1d3a97adf",
   "metadata": {},
   "outputs": [
    {
     "data": {
      "text/plain": [
       "venta1    5\n",
       "venta2    6\n",
       "venta3    7\n",
       "venta4    8\n",
       "dtype: int32"
      ]
     },
     "execution_count": 21,
     "metadata": {},
     "output_type": "execute_result"
    }
   ],
   "source": [
    "array = np.arange(5,9)\n",
    "etiquetas = ['venta1', 'venta2', 'venta3','venta4']\n",
    "serie1= pd.Series(array,etiquetas)\n",
    "serie1"
   ]
  },
  {
   "cell_type": "code",
   "execution_count": 27,
   "id": "50ed7d5d-041a-45a0-81a4-75515e8b1524",
   "metadata": {},
   "outputs": [
    {
     "data": {
      "text/plain": [
       "6"
      ]
     },
     "execution_count": 27,
     "metadata": {},
     "output_type": "execute_result"
    }
   ],
   "source": [
    "serie1['venta2']  #accedemos a los datos a trave´s de su etiqueta"
   ]
  },
  {
   "cell_type": "code",
   "execution_count": 33,
   "id": "fc6d0ff9-86c2-4610-830e-eef5995482af",
   "metadata": {},
   "outputs": [
    {
     "name": "stderr",
     "output_type": "stream",
     "text": [
      "C:\\Users\\CPU\\AppData\\Local\\Temp\\ipykernel_16804\\2518977759.py:2: FutureWarning: Series.__getitem__ treating keys as positions is deprecated. In a future version, integer keys will always be treated as labels (consistent with DataFrame behavior). To access a value by position, use `ser.iloc[pos]`\n",
      "  serie1[0]\n"
     ]
    },
    {
     "data": {
      "text/plain": [
       "5"
      ]
     },
     "execution_count": 33,
     "metadata": {},
     "output_type": "execute_result"
    }
   ],
   "source": [
    "#acceder por posicion\n",
    "serie1[0]"
   ]
  },
  {
   "cell_type": "code",
   "execution_count": 35,
   "id": "caf578d5-20ac-4497-891c-ca12bf391d2e",
   "metadata": {},
   "outputs": [
    {
     "data": {
      "text/plain": [
       "venta1    informatica\n",
       "venta2            300\n",
       "venta3           rrhh\n",
       "venta4           25.5\n",
       "dtype: object"
      ]
     },
     "execution_count": 35,
     "metadata": {},
     "output_type": "execute_result"
    }
   ],
   "source": [
    "#los datos dentro de una serie pueden ser de diferntes tipos.\n",
    "\n",
    "datos2 = ['informatica',300, 'rrhh',25.5]\n",
    "pd.Series(datos2,etiquetas)"
   ]
  },
  {
   "cell_type": "code",
   "execution_count": 65,
   "id": "66a263ee-076d-46e0-aede-49f57ade6fdb",
   "metadata": {},
   "outputs": [
    {
     "data": {
      "text/plain": [
       "ventas1     6.0\n",
       "ventas2    11.0\n",
       "ventas3     9.0\n",
       "ventas4     NaN\n",
       "dtype: float64"
      ]
     },
     "execution_count": 65,
     "metadata": {},
     "output_type": "execute_result"
    }
   ],
   "source": [
    "#se pueden sumar las series\n",
    "\n",
    "serie1= pd.Series([1,2,3,4],['ventas1','ventas2','ventas3','ventas4'])\n",
    "serie2= pd.Series([5,9,6],['ventas1','ventas2','ventas3'])\n",
    "\n",
    "serie_suma = serie1 + serie2  #suma los valores del data en cada serie apoyandose en las etiquetas, si no tiene asignada da valor nulo\n",
    "serie_suma"
   ]
  },
  {
   "cell_type": "code",
   "execution_count": 55,
   "id": "63033bac-3f06-46f4-9c57-efbb195d2cf6",
   "metadata": {},
   "outputs": [
    {
     "data": {
      "text/plain": [
       "a    1\n",
       "b    2\n",
       "c    3\n",
       "dtype: int64"
      ]
     },
     "execution_count": 55,
     "metadata": {},
     "output_type": "execute_result"
    }
   ],
   "source": [
    "#crear una serie desde un diccionario\n",
    "dicc = {'a': 1, 'b': 2, 'c': 3}\n",
    "tabla = pd.Series(data=dicc, index=['a', 'b', 'c'])\n",
    "tabla\n"
   ]
  },
  {
   "cell_type": "markdown",
   "id": "bb748a3c-597f-440b-b16b-7b59c8ab580f",
   "metadata": {},
   "source": [
    "## DATAFRAMES"
   ]
  },
  {
   "cell_type": "code",
   "execution_count": 68,
   "id": "3b2cd44b-4b86-40a5-a91e-b00ab0066c69",
   "metadata": {},
   "outputs": [],
   "source": [
    "import numpy as np\n",
    "import pandas as pd"
   ]
  },
  {
   "cell_type": "code",
   "execution_count": 70,
   "id": "60c8bd9b-172b-4ea0-9862-32a0c7118b50",
   "metadata": {},
   "outputs": [],
   "source": [
    "filas = ['ventas1','ventas2','ventas3']\n",
    "columnas = ['zonaA','zonaB','zonaC']\n",
    "datos = [[123,456,789],[100,200,300],[10,20,30]]  #datos en este caso 3x3"
   ]
  },
  {
   "cell_type": "code",
   "execution_count": 76,
   "id": "1a2789e6-9033-45ee-86be-6ec0e3511e4d",
   "metadata": {},
   "outputs": [
    {
     "data": {
      "text/html": [
       "<div>\n",
       "<style scoped>\n",
       "    .dataframe tbody tr th:only-of-type {\n",
       "        vertical-align: middle;\n",
       "    }\n",
       "\n",
       "    .dataframe tbody tr th {\n",
       "        vertical-align: top;\n",
       "    }\n",
       "\n",
       "    .dataframe thead th {\n",
       "        text-align: right;\n",
       "    }\n",
       "</style>\n",
       "<table border=\"1\" class=\"dataframe\">\n",
       "  <thead>\n",
       "    <tr style=\"text-align: right;\">\n",
       "      <th></th>\n",
       "      <th>zonaA</th>\n",
       "      <th>zonaB</th>\n",
       "      <th>zonaC</th>\n",
       "    </tr>\n",
       "  </thead>\n",
       "  <tbody>\n",
       "    <tr>\n",
       "      <th>ventas1</th>\n",
       "      <td>123</td>\n",
       "      <td>456</td>\n",
       "      <td>789</td>\n",
       "    </tr>\n",
       "    <tr>\n",
       "      <th>ventas2</th>\n",
       "      <td>100</td>\n",
       "      <td>200</td>\n",
       "      <td>300</td>\n",
       "    </tr>\n",
       "    <tr>\n",
       "      <th>ventas3</th>\n",
       "      <td>10</td>\n",
       "      <td>20</td>\n",
       "      <td>30</td>\n",
       "    </tr>\n",
       "  </tbody>\n",
       "</table>\n",
       "</div>"
      ],
      "text/plain": [
       "         zonaA  zonaB  zonaC\n",
       "ventas1    123    456    789\n",
       "ventas2    100    200    300\n",
       "ventas3     10     20     30"
      ]
     },
     "execution_count": 76,
     "metadata": {},
     "output_type": "execute_result"
    }
   ],
   "source": [
    "dataframe = pd.DataFrame(datos,filas, columnas)\n",
    "#me crea la tabla con las filas, las columnas y los datos\n",
    "dataframe"
   ]
  },
  {
   "cell_type": "code",
   "execution_count": 82,
   "id": "614c2d3b-3e49-488c-84f1-43f70969d215",
   "metadata": {},
   "outputs": [
    {
     "data": {
      "text/plain": [
       "zonaA    123\n",
       "zonaB    456\n",
       "zonaC    789\n",
       "Name: ventas1, dtype: int64"
      ]
     },
     "execution_count": 82,
     "metadata": {},
     "output_type": "execute_result"
    }
   ],
   "source": [
    "# para seleccionar la primera fila\n",
    "dataframe.loc['ventas1']"
   ]
  },
  {
   "cell_type": "code",
   "execution_count": 86,
   "id": "b5eacd12-f7ba-427b-8890-06a72ea0109a",
   "metadata": {},
   "outputs": [
    {
     "data": {
      "text/html": [
       "<div>\n",
       "<style scoped>\n",
       "    .dataframe tbody tr th:only-of-type {\n",
       "        vertical-align: middle;\n",
       "    }\n",
       "\n",
       "    .dataframe tbody tr th {\n",
       "        vertical-align: top;\n",
       "    }\n",
       "\n",
       "    .dataframe thead th {\n",
       "        text-align: right;\n",
       "    }\n",
       "</style>\n",
       "<table border=\"1\" class=\"dataframe\">\n",
       "  <thead>\n",
       "    <tr style=\"text-align: right;\">\n",
       "      <th></th>\n",
       "      <th>zonaA</th>\n",
       "      <th>zonaB</th>\n",
       "      <th>zonaC</th>\n",
       "    </tr>\n",
       "  </thead>\n",
       "  <tbody>\n",
       "    <tr>\n",
       "      <th>ventas1</th>\n",
       "      <td>123</td>\n",
       "      <td>456</td>\n",
       "      <td>789</td>\n",
       "    </tr>\n",
       "    <tr>\n",
       "      <th>ventas3</th>\n",
       "      <td>10</td>\n",
       "      <td>20</td>\n",
       "      <td>30</td>\n",
       "    </tr>\n",
       "  </tbody>\n",
       "</table>\n",
       "</div>"
      ],
      "text/plain": [
       "         zonaA  zonaB  zonaC\n",
       "ventas1    123    456    789\n",
       "ventas3     10     20     30"
      ]
     },
     "execution_count": 86,
     "metadata": {},
     "output_type": "execute_result"
    }
   ],
   "source": [
    "dataframe.loc[['ventas1','ventas3']] #para sacar dos filas de valoers, dobles []ya que es una lista de valores"
   ]
  },
  {
   "cell_type": "code",
   "execution_count": 88,
   "id": "8acf4c83-456f-4481-b68b-b2b349ec2a25",
   "metadata": {},
   "outputs": [
    {
     "data": {
      "text/html": [
       "<div>\n",
       "<style scoped>\n",
       "    .dataframe tbody tr th:only-of-type {\n",
       "        vertical-align: middle;\n",
       "    }\n",
       "\n",
       "    .dataframe tbody tr th {\n",
       "        vertical-align: top;\n",
       "    }\n",
       "\n",
       "    .dataframe thead th {\n",
       "        text-align: right;\n",
       "    }\n",
       "</style>\n",
       "<table border=\"1\" class=\"dataframe\">\n",
       "  <thead>\n",
       "    <tr style=\"text-align: right;\">\n",
       "      <th></th>\n",
       "      <th>zonaA</th>\n",
       "      <th>zonaB</th>\n",
       "      <th>zonaC</th>\n",
       "    </tr>\n",
       "  </thead>\n",
       "  <tbody>\n",
       "    <tr>\n",
       "      <th>ventas1</th>\n",
       "      <td>123</td>\n",
       "      <td>456</td>\n",
       "      <td>789</td>\n",
       "    </tr>\n",
       "    <tr>\n",
       "      <th>ventas2</th>\n",
       "      <td>100</td>\n",
       "      <td>200</td>\n",
       "      <td>300</td>\n",
       "    </tr>\n",
       "    <tr>\n",
       "      <th>ventas3</th>\n",
       "      <td>10</td>\n",
       "      <td>20</td>\n",
       "      <td>30</td>\n",
       "    </tr>\n",
       "  </tbody>\n",
       "</table>\n",
       "</div>"
      ],
      "text/plain": [
       "         zonaA  zonaB  zonaC\n",
       "ventas1    123    456    789\n",
       "ventas2    100    200    300\n",
       "ventas3     10     20     30"
      ]
     },
     "execution_count": 88,
     "metadata": {},
     "output_type": "execute_result"
    }
   ],
   "source": [
    "dataframe\n"
   ]
  },
  {
   "cell_type": "code",
   "execution_count": 90,
   "id": "2ced526d-0ec8-40fa-bc00-4e5d9ac2c5a9",
   "metadata": {},
   "outputs": [
    {
     "data": {
      "text/plain": [
       "ventas1    456\n",
       "ventas2    200\n",
       "ventas3     20\n",
       "Name: zonaB, dtype: int64"
      ]
     },
     "execution_count": 90,
     "metadata": {},
     "output_type": "execute_result"
    }
   ],
   "source": [
    "#columna\n",
    "dataframe['zonaB']"
   ]
  },
  {
   "cell_type": "code",
   "execution_count": 92,
   "id": "3463bb73-4af0-438e-8fe0-af91a9fe5028",
   "metadata": {},
   "outputs": [
    {
     "data": {
      "text/html": [
       "<div>\n",
       "<style scoped>\n",
       "    .dataframe tbody tr th:only-of-type {\n",
       "        vertical-align: middle;\n",
       "    }\n",
       "\n",
       "    .dataframe tbody tr th {\n",
       "        vertical-align: top;\n",
       "    }\n",
       "\n",
       "    .dataframe thead th {\n",
       "        text-align: right;\n",
       "    }\n",
       "</style>\n",
       "<table border=\"1\" class=\"dataframe\">\n",
       "  <thead>\n",
       "    <tr style=\"text-align: right;\">\n",
       "      <th></th>\n",
       "      <th>zonaA</th>\n",
       "      <th>zonaC</th>\n",
       "    </tr>\n",
       "  </thead>\n",
       "  <tbody>\n",
       "    <tr>\n",
       "      <th>ventas1</th>\n",
       "      <td>123</td>\n",
       "      <td>789</td>\n",
       "    </tr>\n",
       "    <tr>\n",
       "      <th>ventas2</th>\n",
       "      <td>100</td>\n",
       "      <td>300</td>\n",
       "    </tr>\n",
       "    <tr>\n",
       "      <th>ventas3</th>\n",
       "      <td>10</td>\n",
       "      <td>30</td>\n",
       "    </tr>\n",
       "  </tbody>\n",
       "</table>\n",
       "</div>"
      ],
      "text/plain": [
       "         zonaA  zonaC\n",
       "ventas1    123    789\n",
       "ventas2    100    300\n",
       "ventas3     10     30"
      ]
     },
     "execution_count": 92,
     "metadata": {},
     "output_type": "execute_result"
    }
   ],
   "source": [
    "dataframe[['zonaA','zonaC']]"
   ]
  },
  {
   "cell_type": "code",
   "execution_count": 100,
   "id": "d5f7aa30-7708-4e50-b658-0e7c36ffa95a",
   "metadata": {},
   "outputs": [
    {
     "data": {
      "text/plain": [
       "300"
      ]
     },
     "execution_count": 100,
     "metadata": {},
     "output_type": "execute_result"
    }
   ],
   "source": [
    "dataframe.loc['ventas2','zonaC'] #tambien sirve con ['ventas1']['zonaA']"
   ]
  },
  {
   "cell_type": "code",
   "execution_count": 128,
   "id": "9209b671-ba62-487b-a357-98b94c1d9ef7",
   "metadata": {},
   "outputs": [
    {
     "data": {
      "text/html": [
       "<div>\n",
       "<style scoped>\n",
       "    .dataframe tbody tr th:only-of-type {\n",
       "        vertical-align: middle;\n",
       "    }\n",
       "\n",
       "    .dataframe tbody tr th {\n",
       "        vertical-align: top;\n",
       "    }\n",
       "\n",
       "    .dataframe thead th {\n",
       "        text-align: right;\n",
       "    }\n",
       "</style>\n",
       "<table border=\"1\" class=\"dataframe\">\n",
       "  <thead>\n",
       "    <tr style=\"text-align: right;\">\n",
       "      <th></th>\n",
       "      <th>zonaA</th>\n",
       "      <th>zonaB</th>\n",
       "      <th>zonaC</th>\n",
       "      <th>TotalZona</th>\n",
       "      <th>TotalVentas</th>\n",
       "    </tr>\n",
       "  </thead>\n",
       "  <tbody>\n",
       "    <tr>\n",
       "      <th>ventas1</th>\n",
       "      <td>123</td>\n",
       "      <td>456</td>\n",
       "      <td>789</td>\n",
       "      <td>1368</td>\n",
       "      <td>1368</td>\n",
       "    </tr>\n",
       "    <tr>\n",
       "      <th>ventas2</th>\n",
       "      <td>100</td>\n",
       "      <td>200</td>\n",
       "      <td>300</td>\n",
       "      <td>600</td>\n",
       "      <td>600</td>\n",
       "    </tr>\n",
       "    <tr>\n",
       "      <th>ventas3</th>\n",
       "      <td>10</td>\n",
       "      <td>20</td>\n",
       "      <td>30</td>\n",
       "      <td>60</td>\n",
       "      <td>60</td>\n",
       "    </tr>\n",
       "  </tbody>\n",
       "</table>\n",
       "</div>"
      ],
      "text/plain": [
       "         zonaA  zonaB  zonaC  TotalZona  TotalVentas\n",
       "ventas1    123    456    789       1368         1368\n",
       "ventas2    100    200    300        600          600\n",
       "ventas3     10     20     30         60           60"
      ]
     },
     "execution_count": 128,
     "metadata": {},
     "output_type": "execute_result"
    }
   ],
   "source": [
    "#añadir una fila nueva, se llama al dataframe y se le asigna el nombre y se le asignan los valores\n",
    "dataframe['TotalVentas'] = dataframe['zonaA'] +dataframe['zonaB']+dataframe['zonaC']\n",
    "dataframe"
   ]
  },
  {
   "cell_type": "code",
   "execution_count": 130,
   "id": "489af265-8a1f-4459-af8a-9f2fe0a5d615",
   "metadata": {},
   "outputs": [
    {
     "data": {
      "text/html": [
       "<div>\n",
       "<style scoped>\n",
       "    .dataframe tbody tr th:only-of-type {\n",
       "        vertical-align: middle;\n",
       "    }\n",
       "\n",
       "    .dataframe tbody tr th {\n",
       "        vertical-align: top;\n",
       "    }\n",
       "\n",
       "    .dataframe thead th {\n",
       "        text-align: right;\n",
       "    }\n",
       "</style>\n",
       "<table border=\"1\" class=\"dataframe\">\n",
       "  <thead>\n",
       "    <tr style=\"text-align: right;\">\n",
       "      <th></th>\n",
       "      <th>zonaA</th>\n",
       "      <th>zonaB</th>\n",
       "      <th>zonaC</th>\n",
       "      <th>TotalZona</th>\n",
       "    </tr>\n",
       "  </thead>\n",
       "  <tbody>\n",
       "    <tr>\n",
       "      <th>ventas1</th>\n",
       "      <td>123</td>\n",
       "      <td>456</td>\n",
       "      <td>789</td>\n",
       "      <td>1368</td>\n",
       "    </tr>\n",
       "    <tr>\n",
       "      <th>ventas2</th>\n",
       "      <td>100</td>\n",
       "      <td>200</td>\n",
       "      <td>300</td>\n",
       "      <td>600</td>\n",
       "    </tr>\n",
       "    <tr>\n",
       "      <th>ventas3</th>\n",
       "      <td>10</td>\n",
       "      <td>20</td>\n",
       "      <td>30</td>\n",
       "      <td>60</td>\n",
       "    </tr>\n",
       "  </tbody>\n",
       "</table>\n",
       "</div>"
      ],
      "text/plain": [
       "         zonaA  zonaB  zonaC  TotalZona\n",
       "ventas1    123    456    789       1368\n",
       "ventas2    100    200    300        600\n",
       "ventas3     10     20     30         60"
      ]
     },
     "execution_count": 130,
     "metadata": {},
     "output_type": "execute_result"
    }
   ],
   "source": [
    "#Borrar de la visulaciación\n",
    "dataframe.drop('TotalVentas', axis=1)  #axis=1 indica que es una columna"
   ]
  },
  {
   "cell_type": "code",
   "execution_count": 132,
   "id": "c2afa996-0191-4989-8905-4580ee42964f",
   "metadata": {},
   "outputs": [],
   "source": [
    "#Borrar definitivamente\n",
    "dataframe.drop('TotalVentas', axis=1, inplace=True)  #axis=1 indica que es una columna"
   ]
  },
  {
   "cell_type": "code",
   "execution_count": 134,
   "id": "1212dcac-72e7-40d3-aa32-ed73361dc6a1",
   "metadata": {},
   "outputs": [
    {
     "data": {
      "text/html": [
       "<div>\n",
       "<style scoped>\n",
       "    .dataframe tbody tr th:only-of-type {\n",
       "        vertical-align: middle;\n",
       "    }\n",
       "\n",
       "    .dataframe tbody tr th {\n",
       "        vertical-align: top;\n",
       "    }\n",
       "\n",
       "    .dataframe thead th {\n",
       "        text-align: right;\n",
       "    }\n",
       "</style>\n",
       "<table border=\"1\" class=\"dataframe\">\n",
       "  <thead>\n",
       "    <tr style=\"text-align: right;\">\n",
       "      <th></th>\n",
       "      <th>zonaA</th>\n",
       "      <th>zonaB</th>\n",
       "      <th>zonaC</th>\n",
       "      <th>TotalZona</th>\n",
       "    </tr>\n",
       "  </thead>\n",
       "  <tbody>\n",
       "    <tr>\n",
       "      <th>ventas1</th>\n",
       "      <td>123</td>\n",
       "      <td>456</td>\n",
       "      <td>789</td>\n",
       "      <td>1368</td>\n",
       "    </tr>\n",
       "    <tr>\n",
       "      <th>ventas2</th>\n",
       "      <td>100</td>\n",
       "      <td>200</td>\n",
       "      <td>300</td>\n",
       "      <td>600</td>\n",
       "    </tr>\n",
       "    <tr>\n",
       "      <th>ventas3</th>\n",
       "      <td>10</td>\n",
       "      <td>20</td>\n",
       "      <td>30</td>\n",
       "      <td>60</td>\n",
       "    </tr>\n",
       "  </tbody>\n",
       "</table>\n",
       "</div>"
      ],
      "text/plain": [
       "         zonaA  zonaB  zonaC  TotalZona\n",
       "ventas1    123    456    789       1368\n",
       "ventas2    100    200    300        600\n",
       "ventas3     10     20     30         60"
      ]
     },
     "execution_count": 134,
     "metadata": {},
     "output_type": "execute_result"
    }
   ],
   "source": [
    "dataframe"
   ]
  },
  {
   "cell_type": "code",
   "execution_count": 136,
   "id": "add68ce6-6feb-4e37-950a-a487ae7c47bb",
   "metadata": {},
   "outputs": [
    {
     "data": {
      "text/html": [
       "<div>\n",
       "<style scoped>\n",
       "    .dataframe tbody tr th:only-of-type {\n",
       "        vertical-align: middle;\n",
       "    }\n",
       "\n",
       "    .dataframe tbody tr th {\n",
       "        vertical-align: top;\n",
       "    }\n",
       "\n",
       "    .dataframe thead th {\n",
       "        text-align: right;\n",
       "    }\n",
       "</style>\n",
       "<table border=\"1\" class=\"dataframe\">\n",
       "  <thead>\n",
       "    <tr style=\"text-align: right;\">\n",
       "      <th></th>\n",
       "      <th>zonaA</th>\n",
       "      <th>zonaB</th>\n",
       "      <th>zonaC</th>\n",
       "      <th>TotalZona</th>\n",
       "    </tr>\n",
       "  </thead>\n",
       "  <tbody>\n",
       "    <tr>\n",
       "      <th>ventas1</th>\n",
       "      <td>123</td>\n",
       "      <td>456</td>\n",
       "      <td>789</td>\n",
       "      <td>1368</td>\n",
       "    </tr>\n",
       "    <tr>\n",
       "      <th>ventas2</th>\n",
       "      <td>100</td>\n",
       "      <td>200</td>\n",
       "      <td>300</td>\n",
       "      <td>600</td>\n",
       "    </tr>\n",
       "  </tbody>\n",
       "</table>\n",
       "</div>"
      ],
      "text/plain": [
       "         zonaA  zonaB  zonaC  TotalZona\n",
       "ventas1    123    456    789       1368\n",
       "ventas2    100    200    300        600"
      ]
     },
     "execution_count": 136,
     "metadata": {},
     "output_type": "execute_result"
    }
   ],
   "source": [
    "#borrar una fila-->\n",
    "dataframe.drop('ventas3') #no hace falta poner axis ya que por defente es axis=0"
   ]
  },
  {
   "cell_type": "code",
   "execution_count": 138,
   "id": "768ff0d5-bf92-4f0a-a199-c9c91cbdeb17",
   "metadata": {},
   "outputs": [],
   "source": [
    "#lo mismo para borrar definitivamente\n",
    "dataframe.drop('ventas3', inplace=True)"
   ]
  },
  {
   "cell_type": "code",
   "execution_count": 140,
   "id": "b8277cd3-c378-453a-985b-d8f8ac01b508",
   "metadata": {},
   "outputs": [
    {
     "data": {
      "text/html": [
       "<div>\n",
       "<style scoped>\n",
       "    .dataframe tbody tr th:only-of-type {\n",
       "        vertical-align: middle;\n",
       "    }\n",
       "\n",
       "    .dataframe tbody tr th {\n",
       "        vertical-align: top;\n",
       "    }\n",
       "\n",
       "    .dataframe thead th {\n",
       "        text-align: right;\n",
       "    }\n",
       "</style>\n",
       "<table border=\"1\" class=\"dataframe\">\n",
       "  <thead>\n",
       "    <tr style=\"text-align: right;\">\n",
       "      <th></th>\n",
       "      <th>zonaA</th>\n",
       "      <th>zonaB</th>\n",
       "      <th>zonaC</th>\n",
       "      <th>TotalZona</th>\n",
       "    </tr>\n",
       "  </thead>\n",
       "  <tbody>\n",
       "    <tr>\n",
       "      <th>ventas1</th>\n",
       "      <td>123</td>\n",
       "      <td>456</td>\n",
       "      <td>789</td>\n",
       "      <td>1368</td>\n",
       "    </tr>\n",
       "    <tr>\n",
       "      <th>ventas2</th>\n",
       "      <td>100</td>\n",
       "      <td>200</td>\n",
       "      <td>300</td>\n",
       "      <td>600</td>\n",
       "    </tr>\n",
       "  </tbody>\n",
       "</table>\n",
       "</div>"
      ],
      "text/plain": [
       "         zonaA  zonaB  zonaC  TotalZona\n",
       "ventas1    123    456    789       1368\n",
       "ventas2    100    200    300        600"
      ]
     },
     "execution_count": 140,
     "metadata": {},
     "output_type": "execute_result"
    }
   ],
   "source": [
    "dataframe"
   ]
  },
  {
   "cell_type": "code",
   "execution_count": 144,
   "id": "f6ad2818-d01a-4f72-8ab2-bf558c906668",
   "metadata": {},
   "outputs": [
    {
     "data": {
      "text/plain": [
       "(2, 4)"
      ]
     },
     "execution_count": 144,
     "metadata": {},
     "output_type": "execute_result"
    }
   ],
   "source": [
    "#ver el tamaño del dataframe\n",
    "dataframe.shape  "
   ]
  },
  {
   "cell_type": "markdown",
   "id": "58fee605-5050-4e68-af5e-cab17e97ebdc",
   "metadata": {},
   "source": [
    "### Dataframes: Selección de datos con una condición"
   ]
  },
  {
   "cell_type": "code",
   "execution_count": 153,
   "id": "23138755-f186-4f15-9f7f-4fde66c463b2",
   "metadata": {},
   "outputs": [],
   "source": [
    "import pandas as pd\n"
   ]
  },
  {
   "cell_type": "code",
   "execution_count": 157,
   "id": "7317b5c8-1eb6-4a3e-a7e1-eb963b855d44",
   "metadata": {},
   "outputs": [
    {
     "data": {
      "text/plain": [
       "['ventas1', 'ventas2', 'ventas3']"
      ]
     },
     "execution_count": 157,
     "metadata": {},
     "output_type": "execute_result"
    }
   ],
   "source": [
    "filas = 'ventas1 ventas2 ventas3'.split()  \n",
    "#con el mtd split creamos una lista de valores con palabras separadas por espacio, es más cómodo\n",
    "filas"
   ]
  },
  {
   "cell_type": "code",
   "execution_count": 163,
   "id": "27d76f49-8be4-44d5-b936-88158d7e8bd2",
   "metadata": {},
   "outputs": [
    {
     "data": {
      "text/plain": [
       "['zonaA', 'zonaB', 'zonaC']"
      ]
     },
     "execution_count": 163,
     "metadata": {},
     "output_type": "execute_result"
    }
   ],
   "source": [
    "columnas = 'zonaA zonaB zonaC '.split()\n",
    "columnas"
   ]
  },
  {
   "cell_type": "code",
   "execution_count": 171,
   "id": "3dd24729-800c-48de-9d95-b429437d7457",
   "metadata": {},
   "outputs": [
    {
     "data": {
      "text/plain": [
       "[[120, 130, 140], [50, 55, 60], [100, 200, 30]]"
      ]
     },
     "execution_count": 171,
     "metadata": {},
     "output_type": "execute_result"
    }
   ],
   "source": [
    "datos = [[120,130,140],[50,55,60],[100,200,30]]\n",
    "datos"
   ]
  },
  {
   "cell_type": "code",
   "execution_count": 175,
   "id": "9be6df58-f4a2-4eb6-8f01-ccf47f68989b",
   "metadata": {},
   "outputs": [],
   "source": [
    "dataframe=pd.DataFrame(datos,filas,columnas)"
   ]
  },
  {
   "cell_type": "code",
   "execution_count": 177,
   "id": "49c283f0-b48a-40fa-bf2e-868a8d46f579",
   "metadata": {},
   "outputs": [
    {
     "data": {
      "text/html": [
       "<div>\n",
       "<style scoped>\n",
       "    .dataframe tbody tr th:only-of-type {\n",
       "        vertical-align: middle;\n",
       "    }\n",
       "\n",
       "    .dataframe tbody tr th {\n",
       "        vertical-align: top;\n",
       "    }\n",
       "\n",
       "    .dataframe thead th {\n",
       "        text-align: right;\n",
       "    }\n",
       "</style>\n",
       "<table border=\"1\" class=\"dataframe\">\n",
       "  <thead>\n",
       "    <tr style=\"text-align: right;\">\n",
       "      <th></th>\n",
       "      <th>zonaA</th>\n",
       "      <th>zonaB</th>\n",
       "      <th>zonaC</th>\n",
       "    </tr>\n",
       "  </thead>\n",
       "  <tbody>\n",
       "    <tr>\n",
       "      <th>ventas1</th>\n",
       "      <td>120</td>\n",
       "      <td>130</td>\n",
       "      <td>140</td>\n",
       "    </tr>\n",
       "    <tr>\n",
       "      <th>ventas2</th>\n",
       "      <td>50</td>\n",
       "      <td>55</td>\n",
       "      <td>60</td>\n",
       "    </tr>\n",
       "    <tr>\n",
       "      <th>ventas3</th>\n",
       "      <td>100</td>\n",
       "      <td>200</td>\n",
       "      <td>30</td>\n",
       "    </tr>\n",
       "  </tbody>\n",
       "</table>\n",
       "</div>"
      ],
      "text/plain": [
       "         zonaA  zonaB  zonaC\n",
       "ventas1    120    130    140\n",
       "ventas2     50     55     60\n",
       "ventas3    100    200     30"
      ]
     },
     "execution_count": 177,
     "metadata": {},
     "output_type": "execute_result"
    }
   ],
   "source": [
    "dataframe"
   ]
  },
  {
   "cell_type": "code",
   "execution_count": 181,
   "id": "b75fb01f-ce77-4939-afff-044fbc4a5a8e",
   "metadata": {},
   "outputs": [
    {
     "data": {
      "text/html": [
       "<div>\n",
       "<style scoped>\n",
       "    .dataframe tbody tr th:only-of-type {\n",
       "        vertical-align: middle;\n",
       "    }\n",
       "\n",
       "    .dataframe tbody tr th {\n",
       "        vertical-align: top;\n",
       "    }\n",
       "\n",
       "    .dataframe thead th {\n",
       "        text-align: right;\n",
       "    }\n",
       "</style>\n",
       "<table border=\"1\" class=\"dataframe\">\n",
       "  <thead>\n",
       "    <tr style=\"text-align: right;\">\n",
       "      <th></th>\n",
       "      <th>zonaA</th>\n",
       "      <th>zonaB</th>\n",
       "      <th>zonaC</th>\n",
       "    </tr>\n",
       "  </thead>\n",
       "  <tbody>\n",
       "    <tr>\n",
       "      <th>ventas1</th>\n",
       "      <td>120.0</td>\n",
       "      <td>130.0</td>\n",
       "      <td>140.0</td>\n",
       "    </tr>\n",
       "    <tr>\n",
       "      <th>ventas2</th>\n",
       "      <td>NaN</td>\n",
       "      <td>NaN</td>\n",
       "      <td>NaN</td>\n",
       "    </tr>\n",
       "    <tr>\n",
       "      <th>ventas3</th>\n",
       "      <td>NaN</td>\n",
       "      <td>200.0</td>\n",
       "      <td>NaN</td>\n",
       "    </tr>\n",
       "  </tbody>\n",
       "</table>\n",
       "</div>"
      ],
      "text/plain": [
       "         zonaA  zonaB  zonaC\n",
       "ventas1  120.0  130.0  140.0\n",
       "ventas2    NaN    NaN    NaN\n",
       "ventas3    NaN  200.0    NaN"
      ]
     },
     "execution_count": 181,
     "metadata": {},
     "output_type": "execute_result"
    }
   ],
   "source": [
    "#condición\n",
    "condicion = dataframe >100\n",
    "dataframe[condicion]  #donde no se cumple la condición devuelve NaN"
   ]
  },
  {
   "cell_type": "code",
   "execution_count": 187,
   "id": "6833e9ad-dffc-45b9-afbd-53e8090eb4f6",
   "metadata": {},
   "outputs": [
    {
     "data": {
      "text/html": [
       "<div>\n",
       "<style scoped>\n",
       "    .dataframe tbody tr th:only-of-type {\n",
       "        vertical-align: middle;\n",
       "    }\n",
       "\n",
       "    .dataframe tbody tr th {\n",
       "        vertical-align: top;\n",
       "    }\n",
       "\n",
       "    .dataframe thead th {\n",
       "        text-align: right;\n",
       "    }\n",
       "</style>\n",
       "<table border=\"1\" class=\"dataframe\">\n",
       "  <thead>\n",
       "    <tr style=\"text-align: right;\">\n",
       "      <th></th>\n",
       "      <th>zonaA</th>\n",
       "      <th>zonaB</th>\n",
       "      <th>zonaC</th>\n",
       "    </tr>\n",
       "  </thead>\n",
       "  <tbody>\n",
       "    <tr>\n",
       "      <th>ventas1</th>\n",
       "      <td>120</td>\n",
       "      <td>130</td>\n",
       "      <td>140</td>\n",
       "    </tr>\n",
       "    <tr>\n",
       "      <th>ventas3</th>\n",
       "      <td>100</td>\n",
       "      <td>200</td>\n",
       "      <td>30</td>\n",
       "    </tr>\n",
       "  </tbody>\n",
       "</table>\n",
       "</div>"
      ],
      "text/plain": [
       "         zonaA  zonaB  zonaC\n",
       "ventas1    120    130    140\n",
       "ventas3    100    200     30"
      ]
     },
     "execution_count": 187,
     "metadata": {},
     "output_type": "execute_result"
    }
   ],
   "source": [
    "condicion = dataframe['zonaA']>=100\n",
    "dataframe[condicion]"
   ]
  },
  {
   "cell_type": "code",
   "execution_count": 199,
   "id": "08b4b656-7df1-4601-a56f-b7bd4b21683f",
   "metadata": {},
   "outputs": [
    {
     "data": {
      "text/html": [
       "<div>\n",
       "<style scoped>\n",
       "    .dataframe tbody tr th:only-of-type {\n",
       "        vertical-align: middle;\n",
       "    }\n",
       "\n",
       "    .dataframe tbody tr th {\n",
       "        vertical-align: top;\n",
       "    }\n",
       "\n",
       "    .dataframe thead th {\n",
       "        text-align: right;\n",
       "    }\n",
       "</style>\n",
       "<table border=\"1\" class=\"dataframe\">\n",
       "  <thead>\n",
       "    <tr style=\"text-align: right;\">\n",
       "      <th></th>\n",
       "      <th>zonaA</th>\n",
       "      <th>zonaB</th>\n",
       "      <th>zonaC</th>\n",
       "    </tr>\n",
       "  </thead>\n",
       "  <tbody>\n",
       "    <tr>\n",
       "      <th>ventas1</th>\n",
       "      <td>120</td>\n",
       "      <td>130</td>\n",
       "      <td>140</td>\n",
       "    </tr>\n",
       "    <tr>\n",
       "      <th>ventas2</th>\n",
       "      <td>50</td>\n",
       "      <td>55</td>\n",
       "      <td>60</td>\n",
       "    </tr>\n",
       "    <tr>\n",
       "      <th>ventas3</th>\n",
       "      <td>100</td>\n",
       "      <td>200</td>\n",
       "      <td>30</td>\n",
       "    </tr>\n",
       "  </tbody>\n",
       "</table>\n",
       "</div>"
      ],
      "text/plain": [
       "         zonaA  zonaB  zonaC\n",
       "ventas1    120    130    140\n",
       "ventas2     50     55     60\n",
       "ventas3    100    200     30"
      ]
     },
     "execution_count": 199,
     "metadata": {},
     "output_type": "execute_result"
    }
   ],
   "source": [
    "dataframe"
   ]
  },
  {
   "cell_type": "code",
   "execution_count": 201,
   "id": "deabc004-133c-45a6-abf2-f57d2697a23d",
   "metadata": {},
   "outputs": [
    {
     "data": {
      "text/html": [
       "<div>\n",
       "<style scoped>\n",
       "    .dataframe tbody tr th:only-of-type {\n",
       "        vertical-align: middle;\n",
       "    }\n",
       "\n",
       "    .dataframe tbody tr th {\n",
       "        vertical-align: top;\n",
       "    }\n",
       "\n",
       "    .dataframe thead th {\n",
       "        text-align: right;\n",
       "    }\n",
       "</style>\n",
       "<table border=\"1\" class=\"dataframe\">\n",
       "  <thead>\n",
       "    <tr style=\"text-align: right;\">\n",
       "      <th></th>\n",
       "      <th>zonaA</th>\n",
       "      <th>zonaB</th>\n",
       "      <th>zonaC</th>\n",
       "    </tr>\n",
       "  </thead>\n",
       "  <tbody>\n",
       "    <tr>\n",
       "      <th>ventas3</th>\n",
       "      <td>100</td>\n",
       "      <td>200</td>\n",
       "      <td>30</td>\n",
       "    </tr>\n",
       "  </tbody>\n",
       "</table>\n",
       "</div>"
      ],
      "text/plain": [
       "         zonaA  zonaB  zonaC\n",
       "ventas3    100    200     30"
      ]
     },
     "execution_count": 201,
     "metadata": {},
     "output_type": "execute_result"
    }
   ],
   "source": [
    "#condicion doble ()&()\n",
    "condicion = (dataframe['zonaA']>=100) &(dataframe['zonaB']>150)\n",
    "dataframe[condicion]"
   ]
  },
  {
   "cell_type": "code",
   "execution_count": 203,
   "id": "c5dbd6c9-97c2-44fb-9c32-a74f6d4f7a11",
   "metadata": {},
   "outputs": [
    {
     "data": {
      "text/html": [
       "<div>\n",
       "<style scoped>\n",
       "    .dataframe tbody tr th:only-of-type {\n",
       "        vertical-align: middle;\n",
       "    }\n",
       "\n",
       "    .dataframe tbody tr th {\n",
       "        vertical-align: top;\n",
       "    }\n",
       "\n",
       "    .dataframe thead th {\n",
       "        text-align: right;\n",
       "    }\n",
       "</style>\n",
       "<table border=\"1\" class=\"dataframe\">\n",
       "  <thead>\n",
       "    <tr style=\"text-align: right;\">\n",
       "      <th></th>\n",
       "      <th>zonaA</th>\n",
       "      <th>zonaB</th>\n",
       "      <th>zonaC</th>\n",
       "    </tr>\n",
       "  </thead>\n",
       "  <tbody>\n",
       "    <tr>\n",
       "      <th>ventas1</th>\n",
       "      <td>120</td>\n",
       "      <td>130</td>\n",
       "      <td>140</td>\n",
       "    </tr>\n",
       "    <tr>\n",
       "      <th>ventas3</th>\n",
       "      <td>100</td>\n",
       "      <td>200</td>\n",
       "      <td>30</td>\n",
       "    </tr>\n",
       "  </tbody>\n",
       "</table>\n",
       "</div>"
      ],
      "text/plain": [
       "         zonaA  zonaB  zonaC\n",
       "ventas1    120    130    140\n",
       "ventas3    100    200     30"
      ]
     },
     "execution_count": 203,
     "metadata": {},
     "output_type": "execute_result"
    }
   ],
   "source": [
    "#condicion OR\n",
    "condicion = (dataframe['zonaA']>=100) | (dataframe['zonaB']>150)\n",
    "dataframe[condicion]"
   ]
  },
  {
   "cell_type": "code",
   "execution_count": 205,
   "id": "f0f26fe5-b4fe-4348-80db-bc9485073b9f",
   "metadata": {},
   "outputs": [
    {
     "data": {
      "text/plain": [
       "ventas1    130\n",
       "ventas3    200\n",
       "Name: zonaB, dtype: int64"
      ]
     },
     "execution_count": 205,
     "metadata": {},
     "output_type": "execute_result"
    }
   ],
   "source": [
    "dataframe[condicion]['zonaB'] #hacemos la selección y luego muestra la columna que queremos\n"
   ]
  },
  {
   "cell_type": "code",
   "execution_count": 207,
   "id": "eca8b672-9fd0-430a-9856-2b2c7f105166",
   "metadata": {},
   "outputs": [
    {
     "data": {
      "text/html": [
       "<div>\n",
       "<style scoped>\n",
       "    .dataframe tbody tr th:only-of-type {\n",
       "        vertical-align: middle;\n",
       "    }\n",
       "\n",
       "    .dataframe tbody tr th {\n",
       "        vertical-align: top;\n",
       "    }\n",
       "\n",
       "    .dataframe thead th {\n",
       "        text-align: right;\n",
       "    }\n",
       "</style>\n",
       "<table border=\"1\" class=\"dataframe\">\n",
       "  <thead>\n",
       "    <tr style=\"text-align: right;\">\n",
       "      <th></th>\n",
       "      <th>zonaB</th>\n",
       "      <th>zonaC</th>\n",
       "    </tr>\n",
       "  </thead>\n",
       "  <tbody>\n",
       "    <tr>\n",
       "      <th>ventas1</th>\n",
       "      <td>130</td>\n",
       "      <td>140</td>\n",
       "    </tr>\n",
       "    <tr>\n",
       "      <th>ventas3</th>\n",
       "      <td>200</td>\n",
       "      <td>30</td>\n",
       "    </tr>\n",
       "  </tbody>\n",
       "</table>\n",
       "</div>"
      ],
      "text/plain": [
       "         zonaB  zonaC\n",
       "ventas1    130    140\n",
       "ventas3    200     30"
      ]
     },
     "execution_count": 207,
     "metadata": {},
     "output_type": "execute_result"
    }
   ],
   "source": [
    "dataframe[condicion][['zonaB','zonaC']]"
   ]
  },
  {
   "cell_type": "markdown",
   "id": "b88c1565-71cd-4813-b8a5-28824642949d",
   "metadata": {},
   "source": [
    "### Dataframes: modificación de los nombres de las filas"
   ]
  },
  {
   "cell_type": "code",
   "execution_count": 212,
   "id": "122f92a8-fb57-4971-998a-c5681b89c9c7",
   "metadata": {},
   "outputs": [
    {
     "data": {
      "text/html": [
       "<div>\n",
       "<style scoped>\n",
       "    .dataframe tbody tr th:only-of-type {\n",
       "        vertical-align: middle;\n",
       "    }\n",
       "\n",
       "    .dataframe tbody tr th {\n",
       "        vertical-align: top;\n",
       "    }\n",
       "\n",
       "    .dataframe thead th {\n",
       "        text-align: right;\n",
       "    }\n",
       "</style>\n",
       "<table border=\"1\" class=\"dataframe\">\n",
       "  <thead>\n",
       "    <tr style=\"text-align: right;\">\n",
       "      <th></th>\n",
       "      <th>zonaA</th>\n",
       "      <th>zonaB</th>\n",
       "      <th>zonaC</th>\n",
       "    </tr>\n",
       "  </thead>\n",
       "  <tbody>\n",
       "    <tr>\n",
       "      <th>ventas1</th>\n",
       "      <td>120</td>\n",
       "      <td>130</td>\n",
       "      <td>140</td>\n",
       "    </tr>\n",
       "    <tr>\n",
       "      <th>ventas2</th>\n",
       "      <td>50</td>\n",
       "      <td>55</td>\n",
       "      <td>60</td>\n",
       "    </tr>\n",
       "    <tr>\n",
       "      <th>ventas3</th>\n",
       "      <td>100</td>\n",
       "      <td>200</td>\n",
       "      <td>30</td>\n",
       "    </tr>\n",
       "  </tbody>\n",
       "</table>\n",
       "</div>"
      ],
      "text/plain": [
       "         zonaA  zonaB  zonaC\n",
       "ventas1    120    130    140\n",
       "ventas2     50     55     60\n",
       "ventas3    100    200     30"
      ]
     },
     "execution_count": 212,
     "metadata": {},
     "output_type": "execute_result"
    }
   ],
   "source": [
    "dataframe"
   ]
  },
  {
   "cell_type": "code",
   "execution_count": 218,
   "id": "a0faaa9d-5ee4-4ea8-99d4-98a40fe53bc5",
   "metadata": {},
   "outputs": [],
   "source": [
    "nuevas_filas ='dia1 dia2 dia3'.split()"
   ]
  },
  {
   "cell_type": "code",
   "execution_count": 222,
   "id": "9c8be10e-f507-44fe-becc-4d97f3f6b361",
   "metadata": {},
   "outputs": [],
   "source": [
    "dataframe['dias'] = nuevas_filas  #creamos una nueva columna con esos valores"
   ]
  },
  {
   "cell_type": "code",
   "execution_count": 224,
   "id": "ddf0e05c-ac85-4323-982c-fc99000e0b97",
   "metadata": {},
   "outputs": [
    {
     "data": {
      "text/html": [
       "<div>\n",
       "<style scoped>\n",
       "    .dataframe tbody tr th:only-of-type {\n",
       "        vertical-align: middle;\n",
       "    }\n",
       "\n",
       "    .dataframe tbody tr th {\n",
       "        vertical-align: top;\n",
       "    }\n",
       "\n",
       "    .dataframe thead th {\n",
       "        text-align: right;\n",
       "    }\n",
       "</style>\n",
       "<table border=\"1\" class=\"dataframe\">\n",
       "  <thead>\n",
       "    <tr style=\"text-align: right;\">\n",
       "      <th></th>\n",
       "      <th>zonaA</th>\n",
       "      <th>zonaB</th>\n",
       "      <th>zonaC</th>\n",
       "      <th>dias</th>\n",
       "    </tr>\n",
       "  </thead>\n",
       "  <tbody>\n",
       "    <tr>\n",
       "      <th>ventas1</th>\n",
       "      <td>120</td>\n",
       "      <td>130</td>\n",
       "      <td>140</td>\n",
       "      <td>dia1</td>\n",
       "    </tr>\n",
       "    <tr>\n",
       "      <th>ventas2</th>\n",
       "      <td>50</td>\n",
       "      <td>55</td>\n",
       "      <td>60</td>\n",
       "      <td>dia2</td>\n",
       "    </tr>\n",
       "    <tr>\n",
       "      <th>ventas3</th>\n",
       "      <td>100</td>\n",
       "      <td>200</td>\n",
       "      <td>30</td>\n",
       "      <td>dia3</td>\n",
       "    </tr>\n",
       "  </tbody>\n",
       "</table>\n",
       "</div>"
      ],
      "text/plain": [
       "         zonaA  zonaB  zonaC  dias\n",
       "ventas1    120    130    140  dia1\n",
       "ventas2     50     55     60  dia2\n",
       "ventas3    100    200     30  dia3"
      ]
     },
     "execution_count": 224,
     "metadata": {},
     "output_type": "execute_result"
    }
   ],
   "source": [
    "dataframe"
   ]
  },
  {
   "cell_type": "code",
   "execution_count": 233,
   "id": "143ea940-32ab-4dfc-9031-9d24774fba65",
   "metadata": {},
   "outputs": [
    {
     "data": {
      "text/html": [
       "<div>\n",
       "<style scoped>\n",
       "    .dataframe tbody tr th:only-of-type {\n",
       "        vertical-align: middle;\n",
       "    }\n",
       "\n",
       "    .dataframe tbody tr th {\n",
       "        vertical-align: top;\n",
       "    }\n",
       "\n",
       "    .dataframe thead th {\n",
       "        text-align: right;\n",
       "    }\n",
       "</style>\n",
       "<table border=\"1\" class=\"dataframe\">\n",
       "  <thead>\n",
       "    <tr style=\"text-align: right;\">\n",
       "      <th></th>\n",
       "      <th>zonaA</th>\n",
       "      <th>zonaB</th>\n",
       "      <th>zonaC</th>\n",
       "    </tr>\n",
       "    <tr>\n",
       "      <th>dias</th>\n",
       "      <th></th>\n",
       "      <th></th>\n",
       "      <th></th>\n",
       "    </tr>\n",
       "  </thead>\n",
       "  <tbody>\n",
       "    <tr>\n",
       "      <th>dia1</th>\n",
       "      <td>120</td>\n",
       "      <td>130</td>\n",
       "      <td>140</td>\n",
       "    </tr>\n",
       "    <tr>\n",
       "      <th>dia2</th>\n",
       "      <td>50</td>\n",
       "      <td>55</td>\n",
       "      <td>60</td>\n",
       "    </tr>\n",
       "    <tr>\n",
       "      <th>dia3</th>\n",
       "      <td>100</td>\n",
       "      <td>200</td>\n",
       "      <td>30</td>\n",
       "    </tr>\n",
       "  </tbody>\n",
       "</table>\n",
       "</div>"
      ],
      "text/plain": [
       "      zonaA  zonaB  zonaC\n",
       "dias                     \n",
       "dia1    120    130    140\n",
       "dia2     50     55     60\n",
       "dia3    100    200     30"
      ]
     },
     "execution_count": 233,
     "metadata": {},
     "output_type": "execute_result"
    }
   ],
   "source": [
    "dataframe.set_index('dias')  #le pasamos los valores de la columna dias a index del dataframe"
   ]
  },
  {
   "cell_type": "code",
   "execution_count": 235,
   "id": "2446568d-1532-49aa-a36c-36233fa7dd3e",
   "metadata": {},
   "outputs": [
    {
     "data": {
      "text/html": [
       "<div>\n",
       "<style scoped>\n",
       "    .dataframe tbody tr th:only-of-type {\n",
       "        vertical-align: middle;\n",
       "    }\n",
       "\n",
       "    .dataframe tbody tr th {\n",
       "        vertical-align: top;\n",
       "    }\n",
       "\n",
       "    .dataframe thead th {\n",
       "        text-align: right;\n",
       "    }\n",
       "</style>\n",
       "<table border=\"1\" class=\"dataframe\">\n",
       "  <thead>\n",
       "    <tr style=\"text-align: right;\">\n",
       "      <th></th>\n",
       "      <th>zonaA</th>\n",
       "      <th>zonaB</th>\n",
       "      <th>zonaC</th>\n",
       "      <th>dias</th>\n",
       "    </tr>\n",
       "  </thead>\n",
       "  <tbody>\n",
       "    <tr>\n",
       "      <th>ventas1</th>\n",
       "      <td>120</td>\n",
       "      <td>130</td>\n",
       "      <td>140</td>\n",
       "      <td>dia1</td>\n",
       "    </tr>\n",
       "    <tr>\n",
       "      <th>ventas2</th>\n",
       "      <td>50</td>\n",
       "      <td>55</td>\n",
       "      <td>60</td>\n",
       "      <td>dia2</td>\n",
       "    </tr>\n",
       "    <tr>\n",
       "      <th>ventas3</th>\n",
       "      <td>100</td>\n",
       "      <td>200</td>\n",
       "      <td>30</td>\n",
       "      <td>dia3</td>\n",
       "    </tr>\n",
       "  </tbody>\n",
       "</table>\n",
       "</div>"
      ],
      "text/plain": [
       "         zonaA  zonaB  zonaC  dias\n",
       "ventas1    120    130    140  dia1\n",
       "ventas2     50     55     60  dia2\n",
       "ventas3    100    200     30  dia3"
      ]
     },
     "execution_count": 235,
     "metadata": {},
     "output_type": "execute_result"
    }
   ],
   "source": [
    "#si vemos el dataframe sigue igual, no lo sobreescribe, para ello\n",
    "dataframe"
   ]
  },
  {
   "cell_type": "code",
   "execution_count": 237,
   "id": "c6f298fe-0f92-4a36-8ba9-d1ebe2895943",
   "metadata": {},
   "outputs": [],
   "source": [
    "#ejecutar de forma permanente\n",
    "dataframe = dataframe.set_index('dias')"
   ]
  },
  {
   "cell_type": "code",
   "execution_count": 239,
   "id": "dfd34278-72ef-490e-a76a-7d97f87ebc89",
   "metadata": {},
   "outputs": [
    {
     "data": {
      "text/html": [
       "<div>\n",
       "<style scoped>\n",
       "    .dataframe tbody tr th:only-of-type {\n",
       "        vertical-align: middle;\n",
       "    }\n",
       "\n",
       "    .dataframe tbody tr th {\n",
       "        vertical-align: top;\n",
       "    }\n",
       "\n",
       "    .dataframe thead th {\n",
       "        text-align: right;\n",
       "    }\n",
       "</style>\n",
       "<table border=\"1\" class=\"dataframe\">\n",
       "  <thead>\n",
       "    <tr style=\"text-align: right;\">\n",
       "      <th></th>\n",
       "      <th>zonaA</th>\n",
       "      <th>zonaB</th>\n",
       "      <th>zonaC</th>\n",
       "    </tr>\n",
       "    <tr>\n",
       "      <th>dias</th>\n",
       "      <th></th>\n",
       "      <th></th>\n",
       "      <th></th>\n",
       "    </tr>\n",
       "  </thead>\n",
       "  <tbody>\n",
       "    <tr>\n",
       "      <th>dia1</th>\n",
       "      <td>120</td>\n",
       "      <td>130</td>\n",
       "      <td>140</td>\n",
       "    </tr>\n",
       "    <tr>\n",
       "      <th>dia2</th>\n",
       "      <td>50</td>\n",
       "      <td>55</td>\n",
       "      <td>60</td>\n",
       "    </tr>\n",
       "    <tr>\n",
       "      <th>dia3</th>\n",
       "      <td>100</td>\n",
       "      <td>200</td>\n",
       "      <td>30</td>\n",
       "    </tr>\n",
       "  </tbody>\n",
       "</table>\n",
       "</div>"
      ],
      "text/plain": [
       "      zonaA  zonaB  zonaC\n",
       "dias                     \n",
       "dia1    120    130    140\n",
       "dia2     50     55     60\n",
       "dia3    100    200     30"
      ]
     },
     "execution_count": 239,
     "metadata": {},
     "output_type": "execute_result"
    }
   ],
   "source": [
    "dataframe"
   ]
  },
  {
   "cell_type": "markdown",
   "id": "49e9fb43-a660-4544-a90a-27dd73f8027e",
   "metadata": {},
   "source": [
    "### Dataframes: tratamiento datos nulos o sin valor dentro de Pandas"
   ]
  },
  {
   "cell_type": "code",
   "execution_count": null,
   "id": "5dd39c3a-29d4-487b-a4db-e375382b3de9",
   "metadata": {},
   "outputs": [],
   "source": [
    "#creamos un dataframe a partir de un dicc"
   ]
  },
  {
   "cell_type": "code",
   "execution_count": 242,
   "id": "340afa17-f9d3-4414-88f6-f08ed3b5c389",
   "metadata": {},
   "outputs": [],
   "source": [
    "import numpy as np\n",
    "import pandas as pd"
   ]
  },
  {
   "cell_type": "code",
   "execution_count": 254,
   "id": "40ffab60-480a-4a56-a139-7e6701680aa8",
   "metadata": {},
   "outputs": [],
   "source": [
    "diccionario ={'A':[4,5,np.nan],'B':[60,30,20],'C':[np.nan, 8, np.nan]}\n",
    "#np.nan representa un valor nulo en numpy"
   ]
  },
  {
   "cell_type": "code",
   "execution_count": 260,
   "id": "af3a0f13-6225-40b4-9131-3c77190e193c",
   "metadata": {},
   "outputs": [],
   "source": [
    "dataframe=pd.DataFrame(diccionario)"
   ]
  },
  {
   "cell_type": "code",
   "execution_count": 262,
   "id": "ee8e231d-a89d-496e-9365-f101ac3d3df5",
   "metadata": {},
   "outputs": [
    {
     "data": {
      "text/html": [
       "<div>\n",
       "<style scoped>\n",
       "    .dataframe tbody tr th:only-of-type {\n",
       "        vertical-align: middle;\n",
       "    }\n",
       "\n",
       "    .dataframe tbody tr th {\n",
       "        vertical-align: top;\n",
       "    }\n",
       "\n",
       "    .dataframe thead th {\n",
       "        text-align: right;\n",
       "    }\n",
       "</style>\n",
       "<table border=\"1\" class=\"dataframe\">\n",
       "  <thead>\n",
       "    <tr style=\"text-align: right;\">\n",
       "      <th></th>\n",
       "      <th>A</th>\n",
       "      <th>B</th>\n",
       "      <th>C</th>\n",
       "    </tr>\n",
       "  </thead>\n",
       "  <tbody>\n",
       "    <tr>\n",
       "      <th>0</th>\n",
       "      <td>4.0</td>\n",
       "      <td>60</td>\n",
       "      <td>NaN</td>\n",
       "    </tr>\n",
       "    <tr>\n",
       "      <th>1</th>\n",
       "      <td>5.0</td>\n",
       "      <td>30</td>\n",
       "      <td>8.0</td>\n",
       "    </tr>\n",
       "    <tr>\n",
       "      <th>2</th>\n",
       "      <td>NaN</td>\n",
       "      <td>20</td>\n",
       "      <td>NaN</td>\n",
       "    </tr>\n",
       "  </tbody>\n",
       "</table>\n",
       "</div>"
      ],
      "text/plain": [
       "     A   B    C\n",
       "0  4.0  60  NaN\n",
       "1  5.0  30  8.0\n",
       "2  NaN  20  NaN"
      ]
     },
     "execution_count": 262,
     "metadata": {},
     "output_type": "execute_result"
    }
   ],
   "source": [
    "dataframe"
   ]
  },
  {
   "cell_type": "code",
   "execution_count": 264,
   "id": "c1871975-36d5-4ba3-983f-591d191251f2",
   "metadata": {},
   "outputs": [
    {
     "data": {
      "text/html": [
       "<div>\n",
       "<style scoped>\n",
       "    .dataframe tbody tr th:only-of-type {\n",
       "        vertical-align: middle;\n",
       "    }\n",
       "\n",
       "    .dataframe tbody tr th {\n",
       "        vertical-align: top;\n",
       "    }\n",
       "\n",
       "    .dataframe thead th {\n",
       "        text-align: right;\n",
       "    }\n",
       "</style>\n",
       "<table border=\"1\" class=\"dataframe\">\n",
       "  <thead>\n",
       "    <tr style=\"text-align: right;\">\n",
       "      <th></th>\n",
       "      <th>A</th>\n",
       "      <th>B</th>\n",
       "      <th>C</th>\n",
       "    </tr>\n",
       "  </thead>\n",
       "  <tbody>\n",
       "    <tr>\n",
       "      <th>1</th>\n",
       "      <td>5.0</td>\n",
       "      <td>30</td>\n",
       "      <td>8.0</td>\n",
       "    </tr>\n",
       "  </tbody>\n",
       "</table>\n",
       "</div>"
      ],
      "text/plain": [
       "     A   B    C\n",
       "1  5.0  30  8.0"
      ]
     },
     "execution_count": 264,
     "metadata": {},
     "output_type": "execute_result"
    }
   ],
   "source": [
    "dataframe.dropna()  #borra los datos perdidos o sin valor"
   ]
  },
  {
   "cell_type": "code",
   "execution_count": 266,
   "id": "5eee0db7-057a-4f11-bd73-2e2f5ba178c8",
   "metadata": {},
   "outputs": [
    {
     "data": {
      "text/html": [
       "<div>\n",
       "<style scoped>\n",
       "    .dataframe tbody tr th:only-of-type {\n",
       "        vertical-align: middle;\n",
       "    }\n",
       "\n",
       "    .dataframe tbody tr th {\n",
       "        vertical-align: top;\n",
       "    }\n",
       "\n",
       "    .dataframe thead th {\n",
       "        text-align: right;\n",
       "    }\n",
       "</style>\n",
       "<table border=\"1\" class=\"dataframe\">\n",
       "  <thead>\n",
       "    <tr style=\"text-align: right;\">\n",
       "      <th></th>\n",
       "      <th>B</th>\n",
       "    </tr>\n",
       "  </thead>\n",
       "  <tbody>\n",
       "    <tr>\n",
       "      <th>0</th>\n",
       "      <td>60</td>\n",
       "    </tr>\n",
       "    <tr>\n",
       "      <th>1</th>\n",
       "      <td>30</td>\n",
       "    </tr>\n",
       "    <tr>\n",
       "      <th>2</th>\n",
       "      <td>20</td>\n",
       "    </tr>\n",
       "  </tbody>\n",
       "</table>\n",
       "</div>"
      ],
      "text/plain": [
       "    B\n",
       "0  60\n",
       "1  30\n",
       "2  20"
      ]
     },
     "execution_count": 266,
     "metadata": {},
     "output_type": "execute_result"
    }
   ],
   "source": [
    "dataframe.dropna(axis=1)  #elimina las columnas con valores nulos"
   ]
  },
  {
   "cell_type": "code",
   "execution_count": 268,
   "id": "d47106cc-6e5a-4bf7-bc9c-142bc8774c99",
   "metadata": {},
   "outputs": [
    {
     "data": {
      "text/html": [
       "<div>\n",
       "<style scoped>\n",
       "    .dataframe tbody tr th:only-of-type {\n",
       "        vertical-align: middle;\n",
       "    }\n",
       "\n",
       "    .dataframe tbody tr th {\n",
       "        vertical-align: top;\n",
       "    }\n",
       "\n",
       "    .dataframe thead th {\n",
       "        text-align: right;\n",
       "    }\n",
       "</style>\n",
       "<table border=\"1\" class=\"dataframe\">\n",
       "  <thead>\n",
       "    <tr style=\"text-align: right;\">\n",
       "      <th></th>\n",
       "      <th>A</th>\n",
       "      <th>B</th>\n",
       "      <th>C</th>\n",
       "    </tr>\n",
       "  </thead>\n",
       "  <tbody>\n",
       "    <tr>\n",
       "      <th>0</th>\n",
       "      <td>4.0</td>\n",
       "      <td>60</td>\n",
       "      <td>NaN</td>\n",
       "    </tr>\n",
       "    <tr>\n",
       "      <th>1</th>\n",
       "      <td>5.0</td>\n",
       "      <td>30</td>\n",
       "      <td>8.0</td>\n",
       "    </tr>\n",
       "    <tr>\n",
       "      <th>2</th>\n",
       "      <td>NaN</td>\n",
       "      <td>20</td>\n",
       "      <td>NaN</td>\n",
       "    </tr>\n",
       "  </tbody>\n",
       "</table>\n",
       "</div>"
      ],
      "text/plain": [
       "     A   B    C\n",
       "0  4.0  60  NaN\n",
       "1  5.0  30  8.0\n",
       "2  NaN  20  NaN"
      ]
     },
     "execution_count": 268,
     "metadata": {},
     "output_type": "execute_result"
    }
   ],
   "source": [
    "dataframe"
   ]
  },
  {
   "cell_type": "code",
   "execution_count": null,
   "id": "fd35b315-3df1-46f1-b337-224109daa843",
   "metadata": {},
   "outputs": [],
   "source": [
    "#si queremos que el cambio sea definitivo inplace=True"
   ]
  },
  {
   "cell_type": "code",
   "execution_count": 270,
   "id": "afbc213a-4f0d-41b1-ab4e-fe02de939566",
   "metadata": {},
   "outputs": [],
   "source": [
    "#si queremos darle valor a los valores Nulos\n",
    "#Fill NA/NaN values using the specified method.\n"
   ]
  },
  {
   "cell_type": "code",
   "execution_count": 278,
   "id": "b81b887b-ab6d-4125-b848-e5faf3b7addd",
   "metadata": {},
   "outputs": [
    {
     "data": {
      "text/html": [
       "<div>\n",
       "<style scoped>\n",
       "    .dataframe tbody tr th:only-of-type {\n",
       "        vertical-align: middle;\n",
       "    }\n",
       "\n",
       "    .dataframe tbody tr th {\n",
       "        vertical-align: top;\n",
       "    }\n",
       "\n",
       "    .dataframe thead th {\n",
       "        text-align: right;\n",
       "    }\n",
       "</style>\n",
       "<table border=\"1\" class=\"dataframe\">\n",
       "  <thead>\n",
       "    <tr style=\"text-align: right;\">\n",
       "      <th></th>\n",
       "      <th>A</th>\n",
       "      <th>B</th>\n",
       "      <th>C</th>\n",
       "    </tr>\n",
       "  </thead>\n",
       "  <tbody>\n",
       "    <tr>\n",
       "      <th>0</th>\n",
       "      <td>4.0</td>\n",
       "      <td>60</td>\n",
       "      <td>100.0</td>\n",
       "    </tr>\n",
       "    <tr>\n",
       "      <th>1</th>\n",
       "      <td>5.0</td>\n",
       "      <td>30</td>\n",
       "      <td>8.0</td>\n",
       "    </tr>\n",
       "    <tr>\n",
       "      <th>2</th>\n",
       "      <td>100.0</td>\n",
       "      <td>20</td>\n",
       "      <td>100.0</td>\n",
       "    </tr>\n",
       "  </tbody>\n",
       "</table>\n",
       "</div>"
      ],
      "text/plain": [
       "       A   B      C\n",
       "0    4.0  60  100.0\n",
       "1    5.0  30    8.0\n",
       "2  100.0  20  100.0"
      ]
     },
     "execution_count": 278,
     "metadata": {},
     "output_type": "execute_result"
    }
   ],
   "source": [
    "dataframe.fillna(value=100)"
   ]
  },
  {
   "cell_type": "code",
   "execution_count": 280,
   "id": "d9d27293-d387-4360-9f30-ca3fac608aa6",
   "metadata": {},
   "outputs": [
    {
     "data": {
      "text/plain": [
       "A     4.500000\n",
       "B    36.666667\n",
       "C     8.000000\n",
       "dtype: float64"
      ]
     },
     "execution_count": 280,
     "metadata": {},
     "output_type": "execute_result"
    }
   ],
   "source": [
    "valor_medio = dataframe.mean()\n",
    "valor_medio"
   ]
  },
  {
   "cell_type": "code",
   "execution_count": 284,
   "id": "2b31ff5e-c33d-44e5-9455-f1dcc7b8b8d0",
   "metadata": {},
   "outputs": [
    {
     "data": {
      "text/html": [
       "<div>\n",
       "<style scoped>\n",
       "    .dataframe tbody tr th:only-of-type {\n",
       "        vertical-align: middle;\n",
       "    }\n",
       "\n",
       "    .dataframe tbody tr th {\n",
       "        vertical-align: top;\n",
       "    }\n",
       "\n",
       "    .dataframe thead th {\n",
       "        text-align: right;\n",
       "    }\n",
       "</style>\n",
       "<table border=\"1\" class=\"dataframe\">\n",
       "  <thead>\n",
       "    <tr style=\"text-align: right;\">\n",
       "      <th></th>\n",
       "      <th>A</th>\n",
       "      <th>B</th>\n",
       "      <th>C</th>\n",
       "    </tr>\n",
       "  </thead>\n",
       "  <tbody>\n",
       "    <tr>\n",
       "      <th>0</th>\n",
       "      <td>4.0</td>\n",
       "      <td>60</td>\n",
       "      <td>8.0</td>\n",
       "    </tr>\n",
       "    <tr>\n",
       "      <th>1</th>\n",
       "      <td>5.0</td>\n",
       "      <td>30</td>\n",
       "      <td>8.0</td>\n",
       "    </tr>\n",
       "    <tr>\n",
       "      <th>2</th>\n",
       "      <td>4.5</td>\n",
       "      <td>20</td>\n",
       "      <td>8.0</td>\n",
       "    </tr>\n",
       "  </tbody>\n",
       "</table>\n",
       "</div>"
      ],
      "text/plain": [
       "     A   B    C\n",
       "0  4.0  60  8.0\n",
       "1  5.0  30  8.0\n",
       "2  4.5  20  8.0"
      ]
     },
     "execution_count": 284,
     "metadata": {},
     "output_type": "execute_result"
    }
   ],
   "source": [
    "dataframe.fillna(value=valor_medio) #rellena con el valor medio por columna"
   ]
  },
  {
   "cell_type": "markdown",
   "id": "0bdc89ad-bc2c-4c0b-9668-df996ab1fb78",
   "metadata": {},
   "source": [
    "### Agrupación de los datos"
   ]
  },
  {
   "cell_type": "code",
   "execution_count": 289,
   "id": "664fa865-f01d-47b4-b777-9131dbc84549",
   "metadata": {},
   "outputs": [],
   "source": [
    "import numpy as np\n",
    "import pandas as pd"
   ]
  },
  {
   "cell_type": "code",
   "execution_count": 293,
   "id": "89ba7486-143f-4c19-b2e0-9b36b724952b",
   "metadata": {},
   "outputs": [],
   "source": [
    "diccionario ={'dias':['dia1','dia1','dia2','dia2','dia3'],\\\n",
    "              'vendedores':['Tonio','Maria','Jose','Marta','Juan'],\\\n",
    "             'ventas':[100,400,200,500,300,]}"
   ]
  },
  {
   "cell_type": "code",
   "execution_count": 295,
   "id": "3aed055d-610f-435d-a318-914ed450439c",
   "metadata": {},
   "outputs": [
    {
     "data": {
      "text/html": [
       "<div>\n",
       "<style scoped>\n",
       "    .dataframe tbody tr th:only-of-type {\n",
       "        vertical-align: middle;\n",
       "    }\n",
       "\n",
       "    .dataframe tbody tr th {\n",
       "        vertical-align: top;\n",
       "    }\n",
       "\n",
       "    .dataframe thead th {\n",
       "        text-align: right;\n",
       "    }\n",
       "</style>\n",
       "<table border=\"1\" class=\"dataframe\">\n",
       "  <thead>\n",
       "    <tr style=\"text-align: right;\">\n",
       "      <th></th>\n",
       "      <th>dias</th>\n",
       "      <th>vendedores</th>\n",
       "      <th>ventas</th>\n",
       "    </tr>\n",
       "  </thead>\n",
       "  <tbody>\n",
       "    <tr>\n",
       "      <th>0</th>\n",
       "      <td>dia1</td>\n",
       "      <td>Tonio</td>\n",
       "      <td>100</td>\n",
       "    </tr>\n",
       "    <tr>\n",
       "      <th>1</th>\n",
       "      <td>dia1</td>\n",
       "      <td>Maria</td>\n",
       "      <td>400</td>\n",
       "    </tr>\n",
       "    <tr>\n",
       "      <th>2</th>\n",
       "      <td>dia2</td>\n",
       "      <td>Jose</td>\n",
       "      <td>200</td>\n",
       "    </tr>\n",
       "    <tr>\n",
       "      <th>3</th>\n",
       "      <td>dia2</td>\n",
       "      <td>Marta</td>\n",
       "      <td>500</td>\n",
       "    </tr>\n",
       "    <tr>\n",
       "      <th>4</th>\n",
       "      <td>dia3</td>\n",
       "      <td>Juan</td>\n",
       "      <td>300</td>\n",
       "    </tr>\n",
       "  </tbody>\n",
       "</table>\n",
       "</div>"
      ],
      "text/plain": [
       "   dias vendedores  ventas\n",
       "0  dia1      Tonio     100\n",
       "1  dia1      Maria     400\n",
       "2  dia2       Jose     200\n",
       "3  dia2      Marta     500\n",
       "4  dia3       Juan     300"
      ]
     },
     "execution_count": 295,
     "metadata": {},
     "output_type": "execute_result"
    }
   ],
   "source": [
    "dataframe = pd.DataFrame(diccionario)\n",
    "dataframe"
   ]
  },
  {
   "cell_type": "code",
   "execution_count": 297,
   "id": "6a22457f-ac20-43c6-a9f4-cd81359c83b5",
   "metadata": {},
   "outputs": [],
   "source": [
    "#si queremos agrupar los datos de ventas por dias, por ejemplo"
   ]
  },
  {
   "cell_type": "code",
   "execution_count": 328,
   "id": "cb7aaf64-6172-4ceb-81af-72766c9a2091",
   "metadata": {},
   "outputs": [
    {
     "data": {
      "text/plain": [
       "<pandas.core.groupby.generic.DataFrameGroupBy object at 0x0000019307259190>"
      ]
     },
     "execution_count": 328,
     "metadata": {},
     "output_type": "execute_result"
    }
   ],
   "source": [
    "dataframe.groupby('dias') #esto genera un objeto de tipo groupby y podemos calcular la suma"
   ]
  },
  {
   "cell_type": "code",
   "execution_count": 324,
   "id": "476ce9b1-caf5-4a2d-82bb-e4a736c5fb23",
   "metadata": {},
   "outputs": [
    {
     "data": {
      "text/html": [
       "<div>\n",
       "<style scoped>\n",
       "    .dataframe tbody tr th:only-of-type {\n",
       "        vertical-align: middle;\n",
       "    }\n",
       "\n",
       "    .dataframe tbody tr th {\n",
       "        vertical-align: top;\n",
       "    }\n",
       "\n",
       "    .dataframe thead th {\n",
       "        text-align: right;\n",
       "    }\n",
       "</style>\n",
       "<table border=\"1\" class=\"dataframe\">\n",
       "  <thead>\n",
       "    <tr style=\"text-align: right;\">\n",
       "      <th></th>\n",
       "      <th>vendedores</th>\n",
       "      <th>ventas</th>\n",
       "    </tr>\n",
       "    <tr>\n",
       "      <th>dias</th>\n",
       "      <th></th>\n",
       "      <th></th>\n",
       "    </tr>\n",
       "  </thead>\n",
       "  <tbody>\n",
       "    <tr>\n",
       "      <th>dia1</th>\n",
       "      <td>TonioMaria</td>\n",
       "      <td>500</td>\n",
       "    </tr>\n",
       "    <tr>\n",
       "      <th>dia2</th>\n",
       "      <td>JoseMarta</td>\n",
       "      <td>700</td>\n",
       "    </tr>\n",
       "    <tr>\n",
       "      <th>dia3</th>\n",
       "      <td>Juan</td>\n",
       "      <td>300</td>\n",
       "    </tr>\n",
       "  </tbody>\n",
       "</table>\n",
       "</div>"
      ],
      "text/plain": [
       "      vendedores  ventas\n",
       "dias                    \n",
       "dia1  TonioMaria     500\n",
       "dia2   JoseMarta     700\n",
       "dia3        Juan     300"
      ]
     },
     "execution_count": 324,
     "metadata": {},
     "output_type": "execute_result"
    }
   ],
   "source": [
    "dataframe.groupby('dias').sum()"
   ]
  },
  {
   "cell_type": "code",
   "execution_count": 330,
   "id": "9a7416f3-3407-4965-babd-ff13d5edf1f9",
   "metadata": {},
   "outputs": [
    {
     "data": {
      "text/html": [
       "<div>\n",
       "<style scoped>\n",
       "    .dataframe tbody tr th:only-of-type {\n",
       "        vertical-align: middle;\n",
       "    }\n",
       "\n",
       "    .dataframe tbody tr th {\n",
       "        vertical-align: top;\n",
       "    }\n",
       "\n",
       "    .dataframe thead tr th {\n",
       "        text-align: left;\n",
       "    }\n",
       "\n",
       "    .dataframe thead tr:last-of-type th {\n",
       "        text-align: right;\n",
       "    }\n",
       "</style>\n",
       "<table border=\"1\" class=\"dataframe\">\n",
       "  <thead>\n",
       "    <tr>\n",
       "      <th></th>\n",
       "      <th colspan=\"8\" halign=\"left\">ventas</th>\n",
       "    </tr>\n",
       "    <tr>\n",
       "      <th></th>\n",
       "      <th>count</th>\n",
       "      <th>mean</th>\n",
       "      <th>std</th>\n",
       "      <th>min</th>\n",
       "      <th>25%</th>\n",
       "      <th>50%</th>\n",
       "      <th>75%</th>\n",
       "      <th>max</th>\n",
       "    </tr>\n",
       "    <tr>\n",
       "      <th>dias</th>\n",
       "      <th></th>\n",
       "      <th></th>\n",
       "      <th></th>\n",
       "      <th></th>\n",
       "      <th></th>\n",
       "      <th></th>\n",
       "      <th></th>\n",
       "      <th></th>\n",
       "    </tr>\n",
       "  </thead>\n",
       "  <tbody>\n",
       "    <tr>\n",
       "      <th>dia1</th>\n",
       "      <td>2.0</td>\n",
       "      <td>250.0</td>\n",
       "      <td>212.132034</td>\n",
       "      <td>100.0</td>\n",
       "      <td>175.0</td>\n",
       "      <td>250.0</td>\n",
       "      <td>325.0</td>\n",
       "      <td>400.0</td>\n",
       "    </tr>\n",
       "    <tr>\n",
       "      <th>dia2</th>\n",
       "      <td>2.0</td>\n",
       "      <td>350.0</td>\n",
       "      <td>212.132034</td>\n",
       "      <td>200.0</td>\n",
       "      <td>275.0</td>\n",
       "      <td>350.0</td>\n",
       "      <td>425.0</td>\n",
       "      <td>500.0</td>\n",
       "    </tr>\n",
       "    <tr>\n",
       "      <th>dia3</th>\n",
       "      <td>1.0</td>\n",
       "      <td>300.0</td>\n",
       "      <td>NaN</td>\n",
       "      <td>300.0</td>\n",
       "      <td>300.0</td>\n",
       "      <td>300.0</td>\n",
       "      <td>300.0</td>\n",
       "      <td>300.0</td>\n",
       "    </tr>\n",
       "  </tbody>\n",
       "</table>\n",
       "</div>"
      ],
      "text/plain": [
       "     ventas                                                      \n",
       "      count   mean         std    min    25%    50%    75%    max\n",
       "dias                                                             \n",
       "dia1    2.0  250.0  212.132034  100.0  175.0  250.0  325.0  400.0\n",
       "dia2    2.0  350.0  212.132034  200.0  275.0  350.0  425.0  500.0\n",
       "dia3    1.0  300.0         NaN  300.0  300.0  300.0  300.0  300.0"
      ]
     },
     "execution_count": 330,
     "metadata": {},
     "output_type": "execute_result"
    }
   ],
   "source": [
    "dataframe.groupby('dias').describe()  #nos da estadísticas"
   ]
  },
  {
   "cell_type": "markdown",
   "id": "ef79af21-3c4d-4504-a784-f296251cf37a",
   "metadata": {},
   "source": [
    "### Combinar Dataframres"
   ]
  },
  {
   "cell_type": "code",
   "execution_count": 333,
   "id": "96494d89-2c13-4021-b873-ffe65b2f82fe",
   "metadata": {},
   "outputs": [],
   "source": [
    "diccionario ={'A':[1,2,3],'B':[4,5,6],'C':[7,8,9]}"
   ]
  },
  {
   "cell_type": "code",
   "execution_count": 335,
   "id": "3b0e37ba-59f0-4933-a5a3-2c9cacb727ee",
   "metadata": {},
   "outputs": [],
   "source": [
    "dataframe1 = pd.DataFrame(diccionario)"
   ]
  },
  {
   "cell_type": "code",
   "execution_count": 337,
   "id": "dbca8d5a-7be8-44b5-95d4-40e4fd860d84",
   "metadata": {},
   "outputs": [
    {
     "data": {
      "text/html": [
       "<div>\n",
       "<style scoped>\n",
       "    .dataframe tbody tr th:only-of-type {\n",
       "        vertical-align: middle;\n",
       "    }\n",
       "\n",
       "    .dataframe tbody tr th {\n",
       "        vertical-align: top;\n",
       "    }\n",
       "\n",
       "    .dataframe thead th {\n",
       "        text-align: right;\n",
       "    }\n",
       "</style>\n",
       "<table border=\"1\" class=\"dataframe\">\n",
       "  <thead>\n",
       "    <tr style=\"text-align: right;\">\n",
       "      <th></th>\n",
       "      <th>A</th>\n",
       "      <th>B</th>\n",
       "      <th>C</th>\n",
       "    </tr>\n",
       "  </thead>\n",
       "  <tbody>\n",
       "    <tr>\n",
       "      <th>0</th>\n",
       "      <td>1</td>\n",
       "      <td>4</td>\n",
       "      <td>7</td>\n",
       "    </tr>\n",
       "    <tr>\n",
       "      <th>1</th>\n",
       "      <td>2</td>\n",
       "      <td>5</td>\n",
       "      <td>8</td>\n",
       "    </tr>\n",
       "    <tr>\n",
       "      <th>2</th>\n",
       "      <td>3</td>\n",
       "      <td>6</td>\n",
       "      <td>9</td>\n",
       "    </tr>\n",
       "  </tbody>\n",
       "</table>\n",
       "</div>"
      ],
      "text/plain": [
       "   A  B  C\n",
       "0  1  4  7\n",
       "1  2  5  8\n",
       "2  3  6  9"
      ]
     },
     "execution_count": 337,
     "metadata": {},
     "output_type": "execute_result"
    }
   ],
   "source": [
    "dataframe1"
   ]
  },
  {
   "cell_type": "code",
   "execution_count": 341,
   "id": "9573a930-43d4-4451-9338-41465a816200",
   "metadata": {},
   "outputs": [
    {
     "data": {
      "text/html": [
       "<div>\n",
       "<style scoped>\n",
       "    .dataframe tbody tr th:only-of-type {\n",
       "        vertical-align: middle;\n",
       "    }\n",
       "\n",
       "    .dataframe tbody tr th {\n",
       "        vertical-align: top;\n",
       "    }\n",
       "\n",
       "    .dataframe thead th {\n",
       "        text-align: right;\n",
       "    }\n",
       "</style>\n",
       "<table border=\"1\" class=\"dataframe\">\n",
       "  <thead>\n",
       "    <tr style=\"text-align: right;\">\n",
       "      <th></th>\n",
       "      <th>A</th>\n",
       "      <th>B</th>\n",
       "      <th>C</th>\n",
       "    </tr>\n",
       "  </thead>\n",
       "  <tbody>\n",
       "    <tr>\n",
       "      <th>0</th>\n",
       "      <td>11</td>\n",
       "      <td>14</td>\n",
       "      <td>17</td>\n",
       "    </tr>\n",
       "    <tr>\n",
       "      <th>1</th>\n",
       "      <td>12</td>\n",
       "      <td>15</td>\n",
       "      <td>18</td>\n",
       "    </tr>\n",
       "    <tr>\n",
       "      <th>2</th>\n",
       "      <td>13</td>\n",
       "      <td>16</td>\n",
       "      <td>19</td>\n",
       "    </tr>\n",
       "  </tbody>\n",
       "</table>\n",
       "</div>"
      ],
      "text/plain": [
       "    A   B   C\n",
       "0  11  14  17\n",
       "1  12  15  18\n",
       "2  13  16  19"
      ]
     },
     "execution_count": 341,
     "metadata": {},
     "output_type": "execute_result"
    }
   ],
   "source": [
    "diccionario2 ={'A':[11,12,13],'B':[14,15,16],'C':[17,18,19]}\n",
    "dataframe2 = pd.DataFrame(diccionario2)\n",
    "dataframe2"
   ]
  },
  {
   "cell_type": "code",
   "execution_count": 343,
   "id": "c2d072c4-f3e2-4f80-bfe1-6a1466e175a4",
   "metadata": {},
   "outputs": [
    {
     "data": {
      "text/html": [
       "<div>\n",
       "<style scoped>\n",
       "    .dataframe tbody tr th:only-of-type {\n",
       "        vertical-align: middle;\n",
       "    }\n",
       "\n",
       "    .dataframe tbody tr th {\n",
       "        vertical-align: top;\n",
       "    }\n",
       "\n",
       "    .dataframe thead th {\n",
       "        text-align: right;\n",
       "    }\n",
       "</style>\n",
       "<table border=\"1\" class=\"dataframe\">\n",
       "  <thead>\n",
       "    <tr style=\"text-align: right;\">\n",
       "      <th></th>\n",
       "      <th>A</th>\n",
       "      <th>B</th>\n",
       "      <th>C</th>\n",
       "    </tr>\n",
       "  </thead>\n",
       "  <tbody>\n",
       "    <tr>\n",
       "      <th>0</th>\n",
       "      <td>1</td>\n",
       "      <td>4</td>\n",
       "      <td>7</td>\n",
       "    </tr>\n",
       "    <tr>\n",
       "      <th>1</th>\n",
       "      <td>2</td>\n",
       "      <td>5</td>\n",
       "      <td>8</td>\n",
       "    </tr>\n",
       "    <tr>\n",
       "      <th>2</th>\n",
       "      <td>3</td>\n",
       "      <td>6</td>\n",
       "      <td>9</td>\n",
       "    </tr>\n",
       "    <tr>\n",
       "      <th>0</th>\n",
       "      <td>11</td>\n",
       "      <td>14</td>\n",
       "      <td>17</td>\n",
       "    </tr>\n",
       "    <tr>\n",
       "      <th>1</th>\n",
       "      <td>12</td>\n",
       "      <td>15</td>\n",
       "      <td>18</td>\n",
       "    </tr>\n",
       "    <tr>\n",
       "      <th>2</th>\n",
       "      <td>13</td>\n",
       "      <td>16</td>\n",
       "      <td>19</td>\n",
       "    </tr>\n",
       "  </tbody>\n",
       "</table>\n",
       "</div>"
      ],
      "text/plain": [
       "    A   B   C\n",
       "0   1   4   7\n",
       "1   2   5   8\n",
       "2   3   6   9\n",
       "0  11  14  17\n",
       "1  12  15  18\n",
       "2  13  16  19"
      ]
     },
     "execution_count": 343,
     "metadata": {},
     "output_type": "execute_result"
    }
   ],
   "source": [
    "#concatenar dataframes ya que tienen el mismo numero de columnas y filas\n",
    "pd.concat([dataframe1,dataframe2])\n",
    "#pone uno debajo del otro"
   ]
  },
  {
   "cell_type": "code",
   "execution_count": 353,
   "id": "89813c12-9738-45a6-a9cc-7c5793d0726c",
   "metadata": {},
   "outputs": [
    {
     "data": {
      "text/html": [
       "<div>\n",
       "<style scoped>\n",
       "    .dataframe tbody tr th:only-of-type {\n",
       "        vertical-align: middle;\n",
       "    }\n",
       "\n",
       "    .dataframe tbody tr th {\n",
       "        vertical-align: top;\n",
       "    }\n",
       "\n",
       "    .dataframe thead th {\n",
       "        text-align: right;\n",
       "    }\n",
       "</style>\n",
       "<table border=\"1\" class=\"dataframe\">\n",
       "  <thead>\n",
       "    <tr style=\"text-align: right;\">\n",
       "      <th></th>\n",
       "      <th>A</th>\n",
       "      <th>B</th>\n",
       "      <th>C</th>\n",
       "      <th>A</th>\n",
       "      <th>B</th>\n",
       "      <th>C</th>\n",
       "    </tr>\n",
       "  </thead>\n",
       "  <tbody>\n",
       "    <tr>\n",
       "      <th>0</th>\n",
       "      <td>1</td>\n",
       "      <td>4</td>\n",
       "      <td>7</td>\n",
       "      <td>11</td>\n",
       "      <td>14</td>\n",
       "      <td>17</td>\n",
       "    </tr>\n",
       "    <tr>\n",
       "      <th>1</th>\n",
       "      <td>2</td>\n",
       "      <td>5</td>\n",
       "      <td>8</td>\n",
       "      <td>12</td>\n",
       "      <td>15</td>\n",
       "      <td>18</td>\n",
       "    </tr>\n",
       "    <tr>\n",
       "      <th>2</th>\n",
       "      <td>3</td>\n",
       "      <td>6</td>\n",
       "      <td>9</td>\n",
       "      <td>13</td>\n",
       "      <td>16</td>\n",
       "      <td>19</td>\n",
       "    </tr>\n",
       "  </tbody>\n",
       "</table>\n",
       "</div>"
      ],
      "text/plain": [
       "   A  B  C   A   B   C\n",
       "0  1  4  7  11  14  17\n",
       "1  2  5  8  12  15  18\n",
       "2  3  6  9  13  16  19"
      ]
     },
     "execution_count": 353,
     "metadata": {},
     "output_type": "execute_result"
    }
   ],
   "source": [
    "#para hacerlo al lado del otro\n",
    "pd.concat([dataframe1,dataframe2], axis=1)"
   ]
  },
  {
   "cell_type": "markdown",
   "id": "244d562f-2941-41e5-ad6c-0417255ae227",
   "metadata": {},
   "source": [
    "### Merge Dataframes"
   ]
  },
  {
   "cell_type": "code",
   "execution_count": 367,
   "id": "d171d8f2-26ab-4ce2-9a29-74f20cc3e82b",
   "metadata": {},
   "outputs": [],
   "source": [
    "diccionario1 ={'A':[11,12,13],'B':[14,15,16],'Clave':['c1','c2','c3']}\n",
    "dataframe1 = pd.DataFrame(diccionario1)\n"
   ]
  },
  {
   "cell_type": "code",
   "execution_count": 369,
   "id": "b6d3d876-c081-4c02-b521-baef8c0a9b07",
   "metadata": {},
   "outputs": [
    {
     "data": {
      "text/html": [
       "<div>\n",
       "<style scoped>\n",
       "    .dataframe tbody tr th:only-of-type {\n",
       "        vertical-align: middle;\n",
       "    }\n",
       "\n",
       "    .dataframe tbody tr th {\n",
       "        vertical-align: top;\n",
       "    }\n",
       "\n",
       "    .dataframe thead th {\n",
       "        text-align: right;\n",
       "    }\n",
       "</style>\n",
       "<table border=\"1\" class=\"dataframe\">\n",
       "  <thead>\n",
       "    <tr style=\"text-align: right;\">\n",
       "      <th></th>\n",
       "      <th>A</th>\n",
       "      <th>B</th>\n",
       "      <th>Clave</th>\n",
       "    </tr>\n",
       "  </thead>\n",
       "  <tbody>\n",
       "    <tr>\n",
       "      <th>0</th>\n",
       "      <td>11</td>\n",
       "      <td>14</td>\n",
       "      <td>c1</td>\n",
       "    </tr>\n",
       "    <tr>\n",
       "      <th>1</th>\n",
       "      <td>12</td>\n",
       "      <td>15</td>\n",
       "      <td>c2</td>\n",
       "    </tr>\n",
       "    <tr>\n",
       "      <th>2</th>\n",
       "      <td>13</td>\n",
       "      <td>16</td>\n",
       "      <td>c3</td>\n",
       "    </tr>\n",
       "  </tbody>\n",
       "</table>\n",
       "</div>"
      ],
      "text/plain": [
       "    A   B Clave\n",
       "0  11  14    c1\n",
       "1  12  15    c2\n",
       "2  13  16    c3"
      ]
     },
     "execution_count": 369,
     "metadata": {},
     "output_type": "execute_result"
    }
   ],
   "source": [
    "dataframe1"
   ]
  },
  {
   "cell_type": "code",
   "execution_count": 373,
   "id": "0e090380-0281-48f3-ad97-4f7455af584d",
   "metadata": {},
   "outputs": [
    {
     "data": {
      "text/html": [
       "<div>\n",
       "<style scoped>\n",
       "    .dataframe tbody tr th:only-of-type {\n",
       "        vertical-align: middle;\n",
       "    }\n",
       "\n",
       "    .dataframe tbody tr th {\n",
       "        vertical-align: top;\n",
       "    }\n",
       "\n",
       "    .dataframe thead th {\n",
       "        text-align: right;\n",
       "    }\n",
       "</style>\n",
       "<table border=\"1\" class=\"dataframe\">\n",
       "  <thead>\n",
       "    <tr style=\"text-align: right;\">\n",
       "      <th></th>\n",
       "      <th>C</th>\n",
       "      <th>D</th>\n",
       "      <th>Clave</th>\n",
       "    </tr>\n",
       "  </thead>\n",
       "  <tbody>\n",
       "    <tr>\n",
       "      <th>0</th>\n",
       "      <td>1</td>\n",
       "      <td>4</td>\n",
       "      <td>c1</td>\n",
       "    </tr>\n",
       "    <tr>\n",
       "      <th>1</th>\n",
       "      <td>2</td>\n",
       "      <td>5</td>\n",
       "      <td>c2</td>\n",
       "    </tr>\n",
       "    <tr>\n",
       "      <th>2</th>\n",
       "      <td>3</td>\n",
       "      <td>6</td>\n",
       "      <td>c3</td>\n",
       "    </tr>\n",
       "  </tbody>\n",
       "</table>\n",
       "</div>"
      ],
      "text/plain": [
       "   C  D Clave\n",
       "0  1  4    c1\n",
       "1  2  5    c2\n",
       "2  3  6    c3"
      ]
     },
     "execution_count": 373,
     "metadata": {},
     "output_type": "execute_result"
    }
   ],
   "source": [
    "diccionario2 ={'C':[1,2,3],'D':[4,5,6],'Clave':['c1','c2','c3']}\n",
    "dataframe2 = pd.DataFrame(diccionario2)\n",
    "dataframe2"
   ]
  },
  {
   "cell_type": "code",
   "execution_count": null,
   "id": "75d23bc1-1b35-47a2-b8b4-434c6617f4e1",
   "metadata": {},
   "outputs": [],
   "source": [
    "#dos dataframe con las mismas columna de Clave"
   ]
  },
  {
   "cell_type": "code",
   "execution_count": 375,
   "id": "41dde7d7-f44d-4546-a1bc-cd03195b8c4f",
   "metadata": {},
   "outputs": [
    {
     "data": {
      "text/html": [
       "<div>\n",
       "<style scoped>\n",
       "    .dataframe tbody tr th:only-of-type {\n",
       "        vertical-align: middle;\n",
       "    }\n",
       "\n",
       "    .dataframe tbody tr th {\n",
       "        vertical-align: top;\n",
       "    }\n",
       "\n",
       "    .dataframe thead th {\n",
       "        text-align: right;\n",
       "    }\n",
       "</style>\n",
       "<table border=\"1\" class=\"dataframe\">\n",
       "  <thead>\n",
       "    <tr style=\"text-align: right;\">\n",
       "      <th></th>\n",
       "      <th>A</th>\n",
       "      <th>B</th>\n",
       "      <th>Clave</th>\n",
       "      <th>C</th>\n",
       "      <th>D</th>\n",
       "    </tr>\n",
       "  </thead>\n",
       "  <tbody>\n",
       "    <tr>\n",
       "      <th>0</th>\n",
       "      <td>11</td>\n",
       "      <td>14</td>\n",
       "      <td>c1</td>\n",
       "      <td>1</td>\n",
       "      <td>4</td>\n",
       "    </tr>\n",
       "    <tr>\n",
       "      <th>1</th>\n",
       "      <td>12</td>\n",
       "      <td>15</td>\n",
       "      <td>c2</td>\n",
       "      <td>2</td>\n",
       "      <td>5</td>\n",
       "    </tr>\n",
       "    <tr>\n",
       "      <th>2</th>\n",
       "      <td>13</td>\n",
       "      <td>16</td>\n",
       "      <td>c3</td>\n",
       "      <td>3</td>\n",
       "      <td>6</td>\n",
       "    </tr>\n",
       "  </tbody>\n",
       "</table>\n",
       "</div>"
      ],
      "text/plain": [
       "    A   B Clave  C  D\n",
       "0  11  14    c1  1  4\n",
       "1  12  15    c2  2  5\n",
       "2  13  16    c3  3  6"
      ]
     },
     "execution_count": 375,
     "metadata": {},
     "output_type": "execute_result"
    }
   ],
   "source": [
    "pd.merge(dataframe1, dataframe2, on='Clave')\n",
    "#usamos la columna Clave para unir ambos dataframes"
   ]
  },
  {
   "cell_type": "markdown",
   "id": "6c1ad6e2-4060-4761-8bc9-eaa1fcb03453",
   "metadata": {},
   "source": [
    "### Join Dataframes"
   ]
  },
  {
   "cell_type": "code",
   "execution_count": 380,
   "id": "c8151aff-3ac8-4586-b3b3-fbdb863ef7c9",
   "metadata": {},
   "outputs": [
    {
     "data": {
      "text/html": [
       "<div>\n",
       "<style scoped>\n",
       "    .dataframe tbody tr th:only-of-type {\n",
       "        vertical-align: middle;\n",
       "    }\n",
       "\n",
       "    .dataframe tbody tr th {\n",
       "        vertical-align: top;\n",
       "    }\n",
       "\n",
       "    .dataframe thead th {\n",
       "        text-align: right;\n",
       "    }\n",
       "</style>\n",
       "<table border=\"1\" class=\"dataframe\">\n",
       "  <thead>\n",
       "    <tr style=\"text-align: right;\">\n",
       "      <th></th>\n",
       "      <th>A</th>\n",
       "      <th>B</th>\n",
       "    </tr>\n",
       "  </thead>\n",
       "  <tbody>\n",
       "    <tr>\n",
       "      <th>0</th>\n",
       "      <td>1</td>\n",
       "      <td>4</td>\n",
       "    </tr>\n",
       "    <tr>\n",
       "      <th>1</th>\n",
       "      <td>2</td>\n",
       "      <td>5</td>\n",
       "    </tr>\n",
       "    <tr>\n",
       "      <th>2</th>\n",
       "      <td>3</td>\n",
       "      <td>6</td>\n",
       "    </tr>\n",
       "  </tbody>\n",
       "</table>\n",
       "</div>"
      ],
      "text/plain": [
       "   A  B\n",
       "0  1  4\n",
       "1  2  5\n",
       "2  3  6"
      ]
     },
     "execution_count": 380,
     "metadata": {},
     "output_type": "execute_result"
    }
   ],
   "source": [
    "diccionario ={'A':[1,2,3],'B':[4,5,6]}\n",
    "dataframe1 = pd.DataFrame(diccionario)\n",
    "dataframe1"
   ]
  },
  {
   "cell_type": "code",
   "execution_count": 388,
   "id": "a166dfd3-def6-4512-a2d8-922953119b08",
   "metadata": {},
   "outputs": [
    {
     "data": {
      "text/html": [
       "<div>\n",
       "<style scoped>\n",
       "    .dataframe tbody tr th:only-of-type {\n",
       "        vertical-align: middle;\n",
       "    }\n",
       "\n",
       "    .dataframe tbody tr th {\n",
       "        vertical-align: top;\n",
       "    }\n",
       "\n",
       "    .dataframe thead th {\n",
       "        text-align: right;\n",
       "    }\n",
       "</style>\n",
       "<table border=\"1\" class=\"dataframe\">\n",
       "  <thead>\n",
       "    <tr style=\"text-align: right;\">\n",
       "      <th></th>\n",
       "      <th>A</th>\n",
       "      <th>B</th>\n",
       "    </tr>\n",
       "  </thead>\n",
       "  <tbody>\n",
       "    <tr>\n",
       "      <th>fila1</th>\n",
       "      <td>1</td>\n",
       "      <td>4</td>\n",
       "    </tr>\n",
       "    <tr>\n",
       "      <th>fila2</th>\n",
       "      <td>2</td>\n",
       "      <td>5</td>\n",
       "    </tr>\n",
       "    <tr>\n",
       "      <th>fila3</th>\n",
       "      <td>3</td>\n",
       "      <td>6</td>\n",
       "    </tr>\n",
       "  </tbody>\n",
       "</table>\n",
       "</div>"
      ],
      "text/plain": [
       "       A  B\n",
       "fila1  1  4\n",
       "fila2  2  5\n",
       "fila3  3  6"
      ]
     },
     "execution_count": 388,
     "metadata": {},
     "output_type": "execute_result"
    }
   ],
   "source": [
    "diccionario ={'A':[1,2,3],'B':[4,5,6]}\n",
    "dataframe1 = pd.DataFrame(diccionario, index = ['fila1','fila2','fila3'])  #le pasamos unos indices a las filas\n",
    "dataframe1"
   ]
  },
  {
   "cell_type": "code",
   "execution_count": 398,
   "id": "d455a687-bb32-44de-ae76-da53a54f85dc",
   "metadata": {},
   "outputs": [
    {
     "data": {
      "text/html": [
       "<div>\n",
       "<style scoped>\n",
       "    .dataframe tbody tr th:only-of-type {\n",
       "        vertical-align: middle;\n",
       "    }\n",
       "\n",
       "    .dataframe tbody tr th {\n",
       "        vertical-align: top;\n",
       "    }\n",
       "\n",
       "    .dataframe thead th {\n",
       "        text-align: right;\n",
       "    }\n",
       "</style>\n",
       "<table border=\"1\" class=\"dataframe\">\n",
       "  <thead>\n",
       "    <tr style=\"text-align: right;\">\n",
       "      <th></th>\n",
       "      <th>C</th>\n",
       "      <th>D</th>\n",
       "    </tr>\n",
       "  </thead>\n",
       "  <tbody>\n",
       "    <tr>\n",
       "      <th>fila1</th>\n",
       "      <td>10</td>\n",
       "      <td>40</td>\n",
       "    </tr>\n",
       "    <tr>\n",
       "      <th>fila2</th>\n",
       "      <td>20</td>\n",
       "      <td>50</td>\n",
       "    </tr>\n",
       "    <tr>\n",
       "      <th>fila3</th>\n",
       "      <td>30</td>\n",
       "      <td>60</td>\n",
       "    </tr>\n",
       "  </tbody>\n",
       "</table>\n",
       "</div>"
      ],
      "text/plain": [
       "        C   D\n",
       "fila1  10  40\n",
       "fila2  20  50\n",
       "fila3  30  60"
      ]
     },
     "execution_count": 398,
     "metadata": {},
     "output_type": "execute_result"
    }
   ],
   "source": [
    "diccionario2 ={'C':[10,20,30],'D':[40,50,60]}\n",
    "dataframe2 = pd.DataFrame(diccionario2, index = ['fila1','fila2','fila3'])  #le ponemos el mismo indice que antes\n",
    "dataframe2"
   ]
  },
  {
   "cell_type": "code",
   "execution_count": 402,
   "id": "6abf7c0d-61e3-459d-8d3d-fcfb0bdeb0c9",
   "metadata": {},
   "outputs": [
    {
     "data": {
      "text/html": [
       "<div>\n",
       "<style scoped>\n",
       "    .dataframe tbody tr th:only-of-type {\n",
       "        vertical-align: middle;\n",
       "    }\n",
       "\n",
       "    .dataframe tbody tr th {\n",
       "        vertical-align: top;\n",
       "    }\n",
       "\n",
       "    .dataframe thead th {\n",
       "        text-align: right;\n",
       "    }\n",
       "</style>\n",
       "<table border=\"1\" class=\"dataframe\">\n",
       "  <thead>\n",
       "    <tr style=\"text-align: right;\">\n",
       "      <th></th>\n",
       "      <th>A</th>\n",
       "      <th>B</th>\n",
       "      <th>C</th>\n",
       "      <th>D</th>\n",
       "    </tr>\n",
       "  </thead>\n",
       "  <tbody>\n",
       "    <tr>\n",
       "      <th>fila1</th>\n",
       "      <td>1</td>\n",
       "      <td>4</td>\n",
       "      <td>10</td>\n",
       "      <td>40</td>\n",
       "    </tr>\n",
       "    <tr>\n",
       "      <th>fila2</th>\n",
       "      <td>2</td>\n",
       "      <td>5</td>\n",
       "      <td>20</td>\n",
       "      <td>50</td>\n",
       "    </tr>\n",
       "    <tr>\n",
       "      <th>fila3</th>\n",
       "      <td>3</td>\n",
       "      <td>6</td>\n",
       "      <td>30</td>\n",
       "      <td>60</td>\n",
       "    </tr>\n",
       "  </tbody>\n",
       "</table>\n",
       "</div>"
      ],
      "text/plain": [
       "       A  B   C   D\n",
       "fila1  1  4  10  40\n",
       "fila2  2  5  20  50\n",
       "fila3  3  6  30  60"
      ]
     },
     "execution_count": 402,
     "metadata": {},
     "output_type": "execute_result"
    }
   ],
   "source": [
    "#dos dataframes con los mismo indices y diferentes columnas, hacemos un join\n",
    "\n",
    "dataframe1.join(dataframe2)"
   ]
  },
  {
   "cell_type": "markdown",
   "id": "4e95a676-4eaf-4687-9855-a8278c2ffb43",
   "metadata": {},
   "source": [
    "## Operaciones con Dataframes"
   ]
  },
  {
   "cell_type": "code",
   "execution_count": 412,
   "id": "01885801-e605-4f1e-97ea-c65a2bd4063c",
   "metadata": {},
   "outputs": [
    {
     "data": {
      "text/html": [
       "<div>\n",
       "<style scoped>\n",
       "    .dataframe tbody tr th:only-of-type {\n",
       "        vertical-align: middle;\n",
       "    }\n",
       "\n",
       "    .dataframe tbody tr th {\n",
       "        vertical-align: top;\n",
       "    }\n",
       "\n",
       "    .dataframe thead th {\n",
       "        text-align: right;\n",
       "    }\n",
       "</style>\n",
       "<table border=\"1\" class=\"dataframe\">\n",
       "  <thead>\n",
       "    <tr style=\"text-align: right;\">\n",
       "      <th></th>\n",
       "      <th>A</th>\n",
       "      <th>B</th>\n",
       "    </tr>\n",
       "  </thead>\n",
       "  <tbody>\n",
       "    <tr>\n",
       "      <th>i1</th>\n",
       "      <td>11</td>\n",
       "      <td>14</td>\n",
       "    </tr>\n",
       "    <tr>\n",
       "      <th>i2</th>\n",
       "      <td>12</td>\n",
       "      <td>18</td>\n",
       "    </tr>\n",
       "    <tr>\n",
       "      <th>i3</th>\n",
       "      <td>10</td>\n",
       "      <td>16</td>\n",
       "    </tr>\n",
       "    <tr>\n",
       "      <th>i4</th>\n",
       "      <td>12</td>\n",
       "      <td>17</td>\n",
       "    </tr>\n",
       "  </tbody>\n",
       "</table>\n",
       "</div>"
      ],
      "text/plain": [
       "     A   B\n",
       "i1  11  14\n",
       "i2  12  18\n",
       "i3  10  16\n",
       "i4  12  17"
      ]
     },
     "execution_count": 412,
     "metadata": {},
     "output_type": "execute_result"
    }
   ],
   "source": [
    "diccionario ={'A':[11,12,10,12],'B':[14,18,16,17]}\n",
    "dataframe=pd.DataFrame(diccionario, index =['i1','i2','i3','i4'])\n",
    "dataframe"
   ]
  },
  {
   "cell_type": "code",
   "execution_count": 414,
   "id": "2a21bd9e-353b-4a9d-b634-f703357df395",
   "metadata": {},
   "outputs": [
    {
     "data": {
      "text/plain": [
       "array([11, 12, 10], dtype=int64)"
      ]
     },
     "execution_count": 414,
     "metadata": {},
     "output_type": "execute_result"
    }
   ],
   "source": [
    "#vemos que tenemos valores repetidos en la columna A\n",
    "dataframe['A'].unique()  #nos da los valores únicos"
   ]
  },
  {
   "cell_type": "code",
   "execution_count": 418,
   "id": "94eae9ff-00fc-4aeb-99b0-238ac2109332",
   "metadata": {},
   "outputs": [
    {
     "data": {
      "text/plain": [
       "3"
      ]
     },
     "execution_count": 418,
     "metadata": {},
     "output_type": "execute_result"
    }
   ],
   "source": [
    "dataframe['A'].nunique() #nos cuenta cuantos valores son únicos, en este caso 3"
   ]
  },
  {
   "cell_type": "code",
   "execution_count": 420,
   "id": "fe213537-28da-41a1-ab82-18556acd4c51",
   "metadata": {},
   "outputs": [
    {
     "data": {
      "text/plain": [
       "A\n",
       "12    2\n",
       "11    1\n",
       "10    1\n",
       "Name: count, dtype: int64"
      ]
     },
     "execution_count": 420,
     "metadata": {},
     "output_type": "execute_result"
    }
   ],
   "source": [
    "dataframe['A'].value_counts()   #nos cuenta las coincidencias"
   ]
  },
  {
   "cell_type": "code",
   "execution_count": 422,
   "id": "cdf29f4f-16ed-4e42-8c2d-86878f7215c9",
   "metadata": {},
   "outputs": [
    {
     "data": {
      "text/plain": [
       "i1    22\n",
       "i2    24\n",
       "i3    20\n",
       "i4    24\n",
       "Name: A, dtype: int64"
      ]
     },
     "execution_count": 422,
     "metadata": {},
     "output_type": "execute_result"
    }
   ],
   "source": [
    "def multiplicar(x):\n",
    "    return x*2\n",
    "\n",
    "dataframe['A'].apply(multiplicar)  #nos aplicar la funcion multiplicar a la columna A"
   ]
  },
  {
   "cell_type": "code",
   "execution_count": 426,
   "id": "33ab7764-6caa-4597-b3e8-fb1f960fc55d",
   "metadata": {},
   "outputs": [
    {
     "data": {
      "text/html": [
       "<div>\n",
       "<style scoped>\n",
       "    .dataframe tbody tr th:only-of-type {\n",
       "        vertical-align: middle;\n",
       "    }\n",
       "\n",
       "    .dataframe tbody tr th {\n",
       "        vertical-align: top;\n",
       "    }\n",
       "\n",
       "    .dataframe thead th {\n",
       "        text-align: right;\n",
       "    }\n",
       "</style>\n",
       "<table border=\"1\" class=\"dataframe\">\n",
       "  <thead>\n",
       "    <tr style=\"text-align: right;\">\n",
       "      <th></th>\n",
       "      <th>A</th>\n",
       "      <th>B</th>\n",
       "    </tr>\n",
       "  </thead>\n",
       "  <tbody>\n",
       "    <tr>\n",
       "      <th>i1</th>\n",
       "      <td>11</td>\n",
       "      <td>14</td>\n",
       "    </tr>\n",
       "    <tr>\n",
       "      <th>i2</th>\n",
       "      <td>12</td>\n",
       "      <td>18</td>\n",
       "    </tr>\n",
       "    <tr>\n",
       "      <th>i3</th>\n",
       "      <td>10</td>\n",
       "      <td>16</td>\n",
       "    </tr>\n",
       "    <tr>\n",
       "      <th>i4</th>\n",
       "      <td>12</td>\n",
       "      <td>17</td>\n",
       "    </tr>\n",
       "  </tbody>\n",
       "</table>\n",
       "</div>"
      ],
      "text/plain": [
       "     A   B\n",
       "i1  11  14\n",
       "i2  12  18\n",
       "i3  10  16\n",
       "i4  12  17"
      ]
     },
     "execution_count": 426,
     "metadata": {},
     "output_type": "execute_result"
    }
   ],
   "source": [
    "dataframe"
   ]
  },
  {
   "cell_type": "code",
   "execution_count": 430,
   "id": "47973120-8b40-44ad-83b5-80996652e07e",
   "metadata": {},
   "outputs": [],
   "source": [
    "#esto tb se puede hacer con la funcion lambda"
   ]
  },
  {
   "cell_type": "code",
   "execution_count": 434,
   "id": "367f507a-8162-488e-8b5d-9397b365d3e9",
   "metadata": {},
   "outputs": [
    {
     "data": {
      "text/plain": [
       "i1    110\n",
       "i2    120\n",
       "i3    100\n",
       "i4    120\n",
       "Name: A, dtype: int64"
      ]
     },
     "execution_count": 434,
     "metadata": {},
     "output_type": "execute_result"
    }
   ],
   "source": [
    "dataframe['A'].apply(lambda x: x*10)"
   ]
  },
  {
   "cell_type": "code",
   "execution_count": 436,
   "id": "013044fe-b350-42ae-824d-e400d3a8770b",
   "metadata": {},
   "outputs": [
    {
     "data": {
      "text/html": [
       "<div>\n",
       "<style scoped>\n",
       "    .dataframe tbody tr th:only-of-type {\n",
       "        vertical-align: middle;\n",
       "    }\n",
       "\n",
       "    .dataframe tbody tr th {\n",
       "        vertical-align: top;\n",
       "    }\n",
       "\n",
       "    .dataframe thead th {\n",
       "        text-align: right;\n",
       "    }\n",
       "</style>\n",
       "<table border=\"1\" class=\"dataframe\">\n",
       "  <thead>\n",
       "    <tr style=\"text-align: right;\">\n",
       "      <th></th>\n",
       "      <th>A</th>\n",
       "    </tr>\n",
       "  </thead>\n",
       "  <tbody>\n",
       "    <tr>\n",
       "      <th>i1</th>\n",
       "      <td>11</td>\n",
       "    </tr>\n",
       "    <tr>\n",
       "      <th>i2</th>\n",
       "      <td>12</td>\n",
       "    </tr>\n",
       "    <tr>\n",
       "      <th>i3</th>\n",
       "      <td>10</td>\n",
       "    </tr>\n",
       "    <tr>\n",
       "      <th>i4</th>\n",
       "      <td>12</td>\n",
       "    </tr>\n",
       "  </tbody>\n",
       "</table>\n",
       "</div>"
      ],
      "text/plain": [
       "     A\n",
       "i1  11\n",
       "i2  12\n",
       "i3  10\n",
       "i4  12"
      ]
     },
     "execution_count": 436,
     "metadata": {},
     "output_type": "execute_result"
    }
   ],
   "source": [
    "#borrar una columna \n",
    "dataframe.drop('B', axis =1)  #para columnas axis=1 para filas es axis=0 por defecto"
   ]
  },
  {
   "cell_type": "code",
   "execution_count": 440,
   "id": "53eb43c4-cceb-40e0-96c1-1f8be9ce0381",
   "metadata": {},
   "outputs": [
    {
     "data": {
      "text/html": [
       "<div>\n",
       "<style scoped>\n",
       "    .dataframe tbody tr th:only-of-type {\n",
       "        vertical-align: middle;\n",
       "    }\n",
       "\n",
       "    .dataframe tbody tr th {\n",
       "        vertical-align: top;\n",
       "    }\n",
       "\n",
       "    .dataframe thead th {\n",
       "        text-align: right;\n",
       "    }\n",
       "</style>\n",
       "<table border=\"1\" class=\"dataframe\">\n",
       "  <thead>\n",
       "    <tr style=\"text-align: right;\">\n",
       "      <th></th>\n",
       "      <th>A</th>\n",
       "      <th>B</th>\n",
       "    </tr>\n",
       "  </thead>\n",
       "  <tbody>\n",
       "    <tr>\n",
       "      <th>i1</th>\n",
       "      <td>11</td>\n",
       "      <td>14</td>\n",
       "    </tr>\n",
       "    <tr>\n",
       "      <th>i2</th>\n",
       "      <td>12</td>\n",
       "      <td>18</td>\n",
       "    </tr>\n",
       "    <tr>\n",
       "      <th>i4</th>\n",
       "      <td>12</td>\n",
       "      <td>17</td>\n",
       "    </tr>\n",
       "  </tbody>\n",
       "</table>\n",
       "</div>"
      ],
      "text/plain": [
       "     A   B\n",
       "i1  11  14\n",
       "i2  12  18\n",
       "i4  12  17"
      ]
     },
     "execution_count": 440,
     "metadata": {},
     "output_type": "execute_result"
    }
   ],
   "source": [
    "dataframe.drop('i3')"
   ]
  },
  {
   "cell_type": "code",
   "execution_count": 448,
   "id": "e970ebcb-f0ba-4345-9544-6d024c309564",
   "metadata": {},
   "outputs": [
    {
     "data": {
      "text/plain": [
       "Index(['A', 'B'], dtype='object')"
      ]
     },
     "execution_count": 448,
     "metadata": {},
     "output_type": "execute_result"
    }
   ],
   "source": [
    "dataframe.columns"
   ]
  },
  {
   "cell_type": "code",
   "execution_count": 450,
   "id": "0d8569b2-8df7-44c8-89db-b8d0e2c83a32",
   "metadata": {},
   "outputs": [
    {
     "data": {
      "text/plain": [
       "Index(['i1', 'i2', 'i3', 'i4'], dtype='object')"
      ]
     },
     "execution_count": 450,
     "metadata": {},
     "output_type": "execute_result"
    }
   ],
   "source": [
    "dataframe.index"
   ]
  },
  {
   "cell_type": "code",
   "execution_count": 452,
   "id": "c2129101-598e-49fb-8be1-ac7fd85c1d07",
   "metadata": {},
   "outputs": [
    {
     "data": {
      "text/html": [
       "<div>\n",
       "<style scoped>\n",
       "    .dataframe tbody tr th:only-of-type {\n",
       "        vertical-align: middle;\n",
       "    }\n",
       "\n",
       "    .dataframe tbody tr th {\n",
       "        vertical-align: top;\n",
       "    }\n",
       "\n",
       "    .dataframe thead th {\n",
       "        text-align: right;\n",
       "    }\n",
       "</style>\n",
       "<table border=\"1\" class=\"dataframe\">\n",
       "  <thead>\n",
       "    <tr style=\"text-align: right;\">\n",
       "      <th></th>\n",
       "      <th>A</th>\n",
       "      <th>B</th>\n",
       "    </tr>\n",
       "  </thead>\n",
       "  <tbody>\n",
       "    <tr>\n",
       "      <th>i1</th>\n",
       "      <td>11</td>\n",
       "      <td>14</td>\n",
       "    </tr>\n",
       "    <tr>\n",
       "      <th>i3</th>\n",
       "      <td>10</td>\n",
       "      <td>16</td>\n",
       "    </tr>\n",
       "    <tr>\n",
       "      <th>i4</th>\n",
       "      <td>12</td>\n",
       "      <td>17</td>\n",
       "    </tr>\n",
       "    <tr>\n",
       "      <th>i2</th>\n",
       "      <td>12</td>\n",
       "      <td>18</td>\n",
       "    </tr>\n",
       "  </tbody>\n",
       "</table>\n",
       "</div>"
      ],
      "text/plain": [
       "     A   B\n",
       "i1  11  14\n",
       "i3  10  16\n",
       "i4  12  17\n",
       "i2  12  18"
      ]
     },
     "execution_count": 452,
     "metadata": {},
     "output_type": "execute_result"
    }
   ],
   "source": [
    "dataframe.sort_values('B')  #ordena por volores según la columna B"
   ]
  },
  {
   "cell_type": "markdown",
   "id": "85505607-a612-42a9-bc57-97686aa948bd",
   "metadata": {},
   "source": [
    "## Importar Ficheros csv, excell, html\n"
   ]
  },
  {
   "cell_type": "code",
   "execution_count": 4,
   "id": "7500b16f-e2c5-4576-81a1-a01d90432e8f",
   "metadata": {},
   "outputs": [],
   "source": [
    "#Pandas - ficheros Excel"
   ]
  },
  {
   "cell_type": "code",
   "execution_count": 20,
   "id": "8b7454cb-b847-4f61-8ecc-1f5501d6a0bf",
   "metadata": {},
   "outputs": [],
   "source": [
    "import pandas as pd"
   ]
  },
  {
   "cell_type": "code",
   "execution_count": null,
   "id": "27fc145f-82a0-4beb-abca-53b709bb0770",
   "metadata": {},
   "outputs": [],
   "source": [
    "#para ver en que directorio estamos (este comando tiene que ir solo sin comentarios)"
   ]
  },
  {
   "cell_type": "code",
   "execution_count": 18,
   "id": "852b3380-7f87-416e-939a-9271b10c8e63",
   "metadata": {},
   "outputs": [
    {
     "data": {
      "text/plain": [
       "'C:\\\\Users\\\\CPU\\\\Jupiter-docus'"
      ]
     },
     "execution_count": 18,
     "metadata": {},
     "output_type": "execute_result"
    }
   ],
   "source": [
    "pwd\n"
   ]
  },
  {
   "cell_type": "code",
   "execution_count": 22,
   "id": "573e55b1-02de-4f82-bbbe-30cb4f6942b1",
   "metadata": {},
   "outputs": [
    {
     "name": "stdout",
     "output_type": "stream",
     "text": [
      " El volumen de la unidad C es OS\n",
      " El n£mero de serie del volumen es: F45D-8185\n",
      "\n",
      " Directorio de C:\\Users\\CPU\\Jupiter-docus\n",
      "\n",
      "01/08/2024  09:51    <DIR>          .\n",
      "01/08/2024  09:51    <DIR>          ..\n",
      "01/08/2024  09:47    <DIR>          .ipynb_checkpoints\n",
      "20/07/2024  23:03            30.718 01-apuntes-basicos.ipynb\n",
      "01/08/2024  09:50    <DIR>          01-DataScience-Udemy\n",
      "21/07/2024  20:35            25.146 02.apuntes-numpy.ipynb\n",
      "20/07/2024  13:00    <DIR>          02-MachineLearning-Udemy\n",
      "01/08/2024  09:51           109.625 03.apuntes.Pandas.ipynb\n",
      "01/08/2024  09:48               617 04.Matplotlib-analisis de datos.ipynb\n",
      "20/07/2024  13:00    <DIR>          1ndsessiontechnical\n",
      "20/07/2024  13:00    <DIR>          2ndsessiontechnical\n",
      "09/07/2024  13:31    <DIR>          3ndsessiontechnical\n",
      "18/07/2024  13:41    <DIR>          4ndsessiontechnical\n",
      "21/07/2024  23:38             5.508 Ejemplo_excel.xlsx\n",
      "20/07/2024  12:49    <DIR>          Seccion6_Tarea\n",
      "               5 archivos        171.614 bytes\n",
      "              10 dirs  71.570.735.104 bytes libres\n"
     ]
    }
   ],
   "source": [
    "ls"
   ]
  },
  {
   "cell_type": "code",
   "execution_count": null,
   "id": "0f892cdf-b41d-4ff2-944a-1f44c0cc8e70",
   "metadata": {},
   "outputs": [],
   "source": [
    "#vemos que tenemos el fichero xlsx para importar sus datos, el nombre del fichero entre comillas"
   ]
  },
  {
   "cell_type": "code",
   "execution_count": 26,
   "id": "2fcc08a9-b708-490d-8914-7e8ca9d40126",
   "metadata": {
    "scrolled": true
   },
   "outputs": [
    {
     "data": {
      "text/html": [
       "<div>\n",
       "<style scoped>\n",
       "    .dataframe tbody tr th:only-of-type {\n",
       "        vertical-align: middle;\n",
       "    }\n",
       "\n",
       "    .dataframe tbody tr th {\n",
       "        vertical-align: top;\n",
       "    }\n",
       "\n",
       "    .dataframe thead th {\n",
       "        text-align: right;\n",
       "    }\n",
       "</style>\n",
       "<table border=\"1\" class=\"dataframe\">\n",
       "  <thead>\n",
       "    <tr style=\"text-align: right;\">\n",
       "      <th></th>\n",
       "      <th>Unnamed: 0</th>\n",
       "      <th>a</th>\n",
       "      <th>b</th>\n",
       "      <th>c</th>\n",
       "      <th>d</th>\n",
       "    </tr>\n",
       "  </thead>\n",
       "  <tbody>\n",
       "    <tr>\n",
       "      <th>0</th>\n",
       "      <td>0</td>\n",
       "      <td>0</td>\n",
       "      <td>1</td>\n",
       "      <td>2</td>\n",
       "      <td>3</td>\n",
       "    </tr>\n",
       "    <tr>\n",
       "      <th>1</th>\n",
       "      <td>1</td>\n",
       "      <td>4</td>\n",
       "      <td>5</td>\n",
       "      <td>6</td>\n",
       "      <td>7</td>\n",
       "    </tr>\n",
       "    <tr>\n",
       "      <th>2</th>\n",
       "      <td>2</td>\n",
       "      <td>8</td>\n",
       "      <td>9</td>\n",
       "      <td>10</td>\n",
       "      <td>11</td>\n",
       "    </tr>\n",
       "    <tr>\n",
       "      <th>3</th>\n",
       "      <td>3</td>\n",
       "      <td>12</td>\n",
       "      <td>13</td>\n",
       "      <td>14</td>\n",
       "      <td>15</td>\n",
       "    </tr>\n",
       "  </tbody>\n",
       "</table>\n",
       "</div>"
      ],
      "text/plain": [
       "   Unnamed: 0   a   b   c   d\n",
       "0           0   0   1   2   3\n",
       "1           1   4   5   6   7\n",
       "2           2   8   9  10  11\n",
       "3           3  12  13  14  15"
      ]
     },
     "execution_count": 26,
     "metadata": {},
     "output_type": "execute_result"
    }
   ],
   "source": [
    "dataframe = pd.read_excel('Ejemplo_excel.xlsx')\n",
    "dataframe"
   ]
  },
  {
   "cell_type": "code",
   "execution_count": 28,
   "id": "22883823-f3ca-4f25-831c-6a619a0c8c38",
   "metadata": {},
   "outputs": [],
   "source": [
    "#añadimos una columna y guardamos el archivo en excell de nuevo"
   ]
  },
  {
   "cell_type": "code",
   "execution_count": 35,
   "id": "ce127184-9259-45dc-b9d4-d9318ee30ae9",
   "metadata": {},
   "outputs": [],
   "source": [
    "dataframe['e'] =[5,5,5,5]"
   ]
  },
  {
   "cell_type": "code",
   "execution_count": 37,
   "id": "d73f8f19-5763-4f60-a826-ee656a18cdd5",
   "metadata": {},
   "outputs": [
    {
     "data": {
      "text/html": [
       "<div>\n",
       "<style scoped>\n",
       "    .dataframe tbody tr th:only-of-type {\n",
       "        vertical-align: middle;\n",
       "    }\n",
       "\n",
       "    .dataframe tbody tr th {\n",
       "        vertical-align: top;\n",
       "    }\n",
       "\n",
       "    .dataframe thead th {\n",
       "        text-align: right;\n",
       "    }\n",
       "</style>\n",
       "<table border=\"1\" class=\"dataframe\">\n",
       "  <thead>\n",
       "    <tr style=\"text-align: right;\">\n",
       "      <th></th>\n",
       "      <th>Unnamed: 0</th>\n",
       "      <th>a</th>\n",
       "      <th>b</th>\n",
       "      <th>c</th>\n",
       "      <th>d</th>\n",
       "      <th>e</th>\n",
       "    </tr>\n",
       "  </thead>\n",
       "  <tbody>\n",
       "    <tr>\n",
       "      <th>0</th>\n",
       "      <td>0</td>\n",
       "      <td>0</td>\n",
       "      <td>1</td>\n",
       "      <td>2</td>\n",
       "      <td>3</td>\n",
       "      <td>5</td>\n",
       "    </tr>\n",
       "    <tr>\n",
       "      <th>1</th>\n",
       "      <td>1</td>\n",
       "      <td>4</td>\n",
       "      <td>5</td>\n",
       "      <td>6</td>\n",
       "      <td>7</td>\n",
       "      <td>5</td>\n",
       "    </tr>\n",
       "    <tr>\n",
       "      <th>2</th>\n",
       "      <td>2</td>\n",
       "      <td>8</td>\n",
       "      <td>9</td>\n",
       "      <td>10</td>\n",
       "      <td>11</td>\n",
       "      <td>5</td>\n",
       "    </tr>\n",
       "    <tr>\n",
       "      <th>3</th>\n",
       "      <td>3</td>\n",
       "      <td>12</td>\n",
       "      <td>13</td>\n",
       "      <td>14</td>\n",
       "      <td>15</td>\n",
       "      <td>5</td>\n",
       "    </tr>\n",
       "  </tbody>\n",
       "</table>\n",
       "</div>"
      ],
      "text/plain": [
       "   Unnamed: 0   a   b   c   d  e\n",
       "0           0   0   1   2   3  5\n",
       "1           1   4   5   6   7  5\n",
       "2           2   8   9  10  11  5\n",
       "3           3  12  13  14  15  5"
      ]
     },
     "execution_count": 37,
     "metadata": {},
     "output_type": "execute_result"
    }
   ],
   "source": [
    "dataframe"
   ]
  },
  {
   "cell_type": "code",
   "execution_count": 39,
   "id": "70a2a05a-22a1-4c30-95c5-0e09a650a8a2",
   "metadata": {},
   "outputs": [],
   "source": [
    "dataframe.to_excel('salida.xlsx', sheet_name='Datos1')"
   ]
  },
  {
   "cell_type": "code",
   "execution_count": 41,
   "id": "a35bf58a-ab09-4c6c-9aa1-348efa4d8c48",
   "metadata": {},
   "outputs": [
    {
     "name": "stdout",
     "output_type": "stream",
     "text": [
      " El volumen de la unidad C es OS\n",
      " El n£mero de serie del volumen es: F45D-8185\n",
      "\n",
      " Directorio de C:\\Users\\CPU\\Jupiter-docus\n",
      "\n",
      "01/08/2024  09:57    <DIR>          .\n",
      "01/08/2024  09:57    <DIR>          ..\n",
      "01/08/2024  09:47    <DIR>          .ipynb_checkpoints\n",
      "20/07/2024  23:03            30.718 01-apuntes-basicos.ipynb\n",
      "01/08/2024  09:50    <DIR>          01-DataScience-Udemy\n",
      "21/07/2024  20:35            25.146 02.apuntes-numpy.ipynb\n",
      "20/07/2024  13:00    <DIR>          02-MachineLearning-Udemy\n",
      "01/08/2024  09:55           113.357 03.apuntes.Pandas.ipynb\n",
      "01/08/2024  09:48               617 04.Matplotlib-analisis de datos.ipynb\n",
      "20/07/2024  13:00    <DIR>          1ndsessiontechnical\n",
      "20/07/2024  13:00    <DIR>          2ndsessiontechnical\n",
      "09/07/2024  13:31    <DIR>          3ndsessiontechnical\n",
      "18/07/2024  13:41    <DIR>          4ndsessiontechnical\n",
      "21/07/2024  23:38             5.508 Ejemplo_excel.xlsx\n",
      "01/08/2024  09:57             5.091 salida.xlsx\n",
      "20/07/2024  12:49    <DIR>          Seccion6_Tarea\n",
      "               6 archivos        180.437 bytes\n",
      "              10 dirs  71.326.744.576 bytes libres\n"
     ]
    }
   ],
   "source": [
    "ls"
   ]
  },
  {
   "cell_type": "code",
   "execution_count": null,
   "id": "8af9e42b-9f4b-4450-8242-a21f4e8adcb4",
   "metadata": {},
   "outputs": [],
   "source": [
    "#se graba el fichero nuevo con los datos nuevos y con el nombre de la hoja ya definido"
   ]
  },
  {
   "cell_type": "code",
   "execution_count": null,
   "id": "88671868-7050-4d19-af56-001cee9ddc75",
   "metadata": {},
   "outputs": [],
   "source": [
    "## Ficheros desde HTML\n",
    "#definimos la variable con la web donde está la tabla que queremos extraer: https://es.wikipedia.org/wiki/Anexo:Pa%C3%ADses_y_territorios_dependientes_por_poblaci%C3%B3n"
   ]
  },
  {
   "cell_type": "code",
   "execution_count": 43,
   "id": "6a9ebfd4-cf99-4954-90a5-ce368d750e93",
   "metadata": {},
   "outputs": [],
   "source": [
    "pagina_web ='https://es.wikipedia.org/wiki/Anexo:Pa%C3%ADses_y_territorios_dependientes_por_poblaci%C3%B3n'"
   ]
  },
  {
   "cell_type": "code",
   "execution_count": 49,
   "id": "71d0203c-0f0b-4558-bf62-c9d653434947",
   "metadata": {},
   "outputs": [],
   "source": [
    "datos = pd.read_html(pagina_web)"
   ]
  },
  {
   "cell_type": "code",
   "execution_count": 51,
   "id": "491ad41d-7faa-4ace-9c4c-c3dcdda62139",
   "metadata": {},
   "outputs": [
    {
     "data": {
      "text/plain": [
       "[     N.º                   País (o territorio dependiente)  \\\n",
       " 0      1                                        China[12]​   \n",
       " 1      2                                             India   \n",
       " 2      3                                    Estados Unidos   \n",
       " 3      4                                         Indonesia   \n",
       " 4      5                                          Pakistán   \n",
       " ..   ...                                               ...   \n",
       " 241  242                           Islas Cocos (Australia)   \n",
       " 242  243  Islas Ultramarinas Menores de los Estados Unidos   \n",
       " 243  244                               Islas Pitcairn (RU)   \n",
       " 244  NaN                                             Mundo   \n",
       " 245   N°                   País (o territorio dependiente)   \n",
       " \n",
       "     Proyección exponencial de la población al 1/7/2024[7]​  \\\n",
       " 0                                        1 408 628 000       \n",
       " 1                                        1 404 910 000       \n",
       " 2                                          336 762 000       \n",
       " 3                                          288 431 000       \n",
       " 4                                          249 805 000       \n",
       " ..                                                 ...       \n",
       " 241                                                600       \n",
       " 242                                                100       \n",
       " 243                                                 50       \n",
       " 244                                      8 014 986 000       \n",
       " 245  Proyección exponencial de la población al 1/7/...       \n",
       " \n",
       "      Total mun- dial (%) Cambio medio anual (%)[8]​  \\\n",
       " 0                   1757                       -015   \n",
       " 1                   1753                        090   \n",
       " 2                    420                        052   \n",
       " 3                    360                        172   \n",
       " 4                    312                        256   \n",
       " ..                   ...                        ...   \n",
       " 241                  000                        174   \n",
       " 242                  000                       -496   \n",
       " 243                  000                       -041   \n",
       " 244                10000                        107   \n",
       " 245  Total mun- dial (%)     Cambio medio anual (%)   \n",
       " \n",
       "      Cambio absoluto anual promedio  Cambio medio abs. total anual (%)  \\\n",
       " 0                        -2 077 000                                  -   \n",
       " 1                        12 669 000                               1466   \n",
       " 2                         1 749 000                                202   \n",
       " 3                         4 959 000                                574   \n",
       " 4                         6 403 000                                741   \n",
       " ..                              ...                                ...   \n",
       " 241                               0                                000   \n",
       " 242                               0                                000   \n",
       " 243                               0                                000   \n",
       " 244                      86 409 000                              10000   \n",
       " 245  Cambio absoluto anual promedio  Cambio medio abs. total anual (%)   \n",
       " \n",
       "     Años para even- tual du- pli- ca- ción[9]​  \\\n",
       " 0                                            -   \n",
       " 1                                           77   \n",
       " 2                                          134   \n",
       " 3                                           41   \n",
       " 4                                           27   \n",
       " ..                                         ...   \n",
       " 241                                         40   \n",
       " 242                                          -   \n",
       " 243                                          -   \n",
       " 244                                         65   \n",
       " 245     Años para even- tual du- pli- ca- ción   \n",
       " \n",
       "     Censo más reciente, última estimación oficial, proyección de la ONU o reloj de población nacional  \\\n",
       " 0                                        1 409 670 000                                                  \n",
       " 1                                        1 404 910 000                                                  \n",
       " 2                                          336 836 000                                                  \n",
       " 3                                          271 350 000                                                  \n",
       " 4                                          241 499 431                                                  \n",
       " ..                                                 ...                                                  \n",
       " 241                                                593                                                  \n",
       " 242                                                190                                                  \n",
       " 243                                                 47                                                  \n",
       " 244                                      8 124 869 000                                                  \n",
       " 245  Censo más reciente, última estimación oficial,...                                                  \n",
       " \n",
       "     Fecha de esta última cifra de población en particular (d/mm/aaaa)[10]​  \\\n",
       " 0                                           31/12/2023                       \n",
       " 1                                            1/07/2024                       \n",
       " 2                                           30/07/2024                       \n",
       " 3                                              12/2020                       \n",
       " 4                                            1/03/2023                       \n",
       " ..                                                 ...                       \n",
       " 241                                         11/08/2021                       \n",
       " 242                                          1/04/2010                       \n",
       " 243                                          1/07/2021                       \n",
       " 244                                         30/07/2024                       \n",
       " 245  Fecha de esta última cifra de población en par...                       \n",
       " \n",
       "     Tipo[11]​  \\\n",
       " 0           E   \n",
       " 1           A   \n",
       " 2           R   \n",
       " 3           E   \n",
       " 4           C   \n",
       " ..        ...   \n",
       " 241         C   \n",
       " 242         C   \n",
       " 243         E   \n",
       " 244         R   \n",
       " 245      Tipo   \n",
       " \n",
       "     Enlace o hipervínculo (usualmente de tipo oficial) de esta última cifra de población  \n",
       " 0                                     www.stats.gov.cn                                    \n",
       " 1                                    main.mohfw.gov.in                                    \n",
       " 2                                       www.census.gov                                    \n",
       " 3                                        www.bps.go.id                                    \n",
       " 4                                       www.pbs.gov.pk                                    \n",
       " ..                                                 ...                                    \n",
       " 241                              www.citypopulation.de                                    \n",
       " 242                                   www.statoids.com                                    \n",
       " 243                               www.visitpitcairn.pn                                    \n",
       " 244                              www.worldometers.info                                    \n",
       " 245  Enlace o hipervínculo (usualmente de tipo ofic...                                    \n",
       " \n",
       " [246 rows x 12 columns],\n",
       "         Continente, subcontinente o región geográfica  \\\n",
       " 0                                              África   \n",
       " 1                                      África Central   \n",
       " 2                                    África del Norte   \n",
       " 3                                      África del Sur   \n",
       " 4                                   África Occidental   \n",
       " ..                                                ...   \n",
       " 92  Organización del Tratado del Atlántico Norte (...   \n",
       " 93                                      Países árabes   \n",
       " 94                               Próximos once (N-11)   \n",
       " 95                       Unión Económica Euroasiática   \n",
       " 96      Continente, subcontinente o región geográfica   \n",
       " \n",
       "    Proyección exponencial de la población al 1/7/2024  Total mun- dial (%)  \\\n",
       " 0                                       1 465 510 000                 1828   \n",
       " 1                                         217 382 000                  271   \n",
       " 2                                         261 078 000                  326   \n",
       " 3                                          73 569 000                  092   \n",
       " 4                                         447 105 000                  558   \n",
       " ..                                                ...                  ...   \n",
       " 92                                        967 899 000                 1208   \n",
       " 93                                        468 979 000                  585   \n",
       " 94                                      1 620 615 000                 2022   \n",
       " 95                                        175 624 000                  219   \n",
       " 96  Proyección exponencial de la población al 1/7/...  Total mun- dial (%)   \n",
       " \n",
       "     Cambio medio anual (%)  Cambio medio absoluto anual  \\\n",
       " 0                      262                   38 476 000   \n",
       " 1                      348                    7 667 000   \n",
       " 2                      172                    4 482 000   \n",
       " 3                      177                    1 298 000   \n",
       " 4                      284                   12 695 000   \n",
       " ..                     ...                          ...   \n",
       " 92                     053                    5 144 000   \n",
       " 93                     190                    8 909 000   \n",
       " 94                     166                   26 868 000   \n",
       " 95                     027                      478 000   \n",
       " 96  Cambio medio anual (%)  Cambio medio absoluto anual   \n",
       " \n",
       "     Cambio medio abs. total anual (%)  Años para even- tual dupli- ca- ción  \n",
       " 0                                4453                                    27  \n",
       " 1                                 887                                    20  \n",
       " 2                                 519                                    41  \n",
       " 3                                 150                                    40  \n",
       " 4                                1469                                    25  \n",
       " ..                                ...                                   ...  \n",
       " 92                                595                                   131  \n",
       " 93                               1031                                    37  \n",
       " 94                               3109                                    42  \n",
       " 95                                055                                   257  \n",
       " 96  Cambio medio abs. total anual (%)  Años para even- tual dupli- ca- ción  \n",
       " \n",
       " [97 rows x 7 columns],\n",
       "                                                      0  \\\n",
       " 0    Tabla de países y territorios dependientes por...   \n",
       " 1    N° País (o territorio dependiente) Población e...   \n",
       " 2                                                   N°   \n",
       " 3                                                    1   \n",
       " 4                                                    2   \n",
       " ..                                                 ...   \n",
       " 714                                                234   \n",
       " 715                                                235   \n",
       " 716                                                236   \n",
       " 717                                                237   \n",
       " 718                                                  -   \n",
       " \n",
       "                                                      1  \\\n",
       " 0    Tabla de países y territorios dependientes por...   \n",
       " 1    N° País (o territorio dependiente) Población e...   \n",
       " 2                      País (o territorio dependiente)   \n",
       " 3                                                China   \n",
       " 4                                                India   \n",
       " ..                                                 ...   \n",
       " 714                                Islas Malvinas (RU)   \n",
       " 715                                          Niue (NZ)   \n",
       " 716                                       Tokelau (NZ)   \n",
       " 717                                Ciudad del Vaticano   \n",
       " 718                                              Mundo   \n",
       " \n",
       "                                                      2                    3  \n",
       " 0    Tabla de países y territorios dependientes por...                  NaN  \n",
       " 1    N° País (o territorio dependiente) Población e...                  NaN  \n",
       " 2    Población estimada por la ONU para mediados de...  % del total mundial  \n",
       " 3                                          543 979 000                 2177  \n",
       " 4                                          357 021 000                 1428  \n",
       " ..                                                 ...                  ...  \n",
       " 714                                              3 000                  000  \n",
       " 715                                              2 000                  000  \n",
       " 716                                              2 000                  000  \n",
       " 717                                              1 000                  000  \n",
       " 718                                  6 148 898 000 000                10000  \n",
       " \n",
       " [719 rows x 4 columns],\n",
       "       N° País (o territorio dependiente)  \\\n",
       " 0      1                           China   \n",
       " 1      2                           India   \n",
       " 2      3                  Estados Unidos   \n",
       " 3      4                           Rusia   \n",
       " 4      5                           Japón   \n",
       " ..   ...                             ...   \n",
       " 233  234         San Bartolomé (Francia)   \n",
       " 234  235                    Tokelau (NZ)   \n",
       " 235  236             Ciudad del Vaticano   \n",
       " 236  237                 San Martín (PB)   \n",
       " 237    -                           Mundo   \n",
       " \n",
       "     Población estimada por la ONU para mediados del año  1950  \\\n",
       " 0                                          543 979 000          \n",
       " 1                                          357 021 000          \n",
       " 2                                          148 282 000          \n",
       " 3                                          102 580 000          \n",
       " 4                                           84 353 000          \n",
       " ..                                                 ...          \n",
       " 233                                              2 000          \n",
       " 234                                              2 000          \n",
       " 235                                              1 000          \n",
       " 236                                              1 000          \n",
       " 237                                  2 499 327 000 000          \n",
       " \n",
       "      % del total mundial  \n",
       " 0                   2177  \n",
       " 1                   1428  \n",
       " 2                    593  \n",
       " 3                    410  \n",
       " 4                    338  \n",
       " ..                   ...  \n",
       " 233                    0  \n",
       " 234                    0  \n",
       " 235                    0  \n",
       " 236                    0  \n",
       " 237                10000  \n",
       " \n",
       " [238 rows x 4 columns],\n",
       "       N° País (o territorio dependiente)  \\\n",
       " 0      1                           China   \n",
       " 1      2                           India   \n",
       " 2      3                  Estados Unidos   \n",
       " 3      4                           Rusia   \n",
       " 4      5                       Indonesia   \n",
       " ..   ...                             ...   \n",
       " 233  234         San Bartolomé (Francia)   \n",
       " 234  235             Islas Malvinas (RU)   \n",
       " 235  236                    Tokelau (NZ)   \n",
       " 236  237             Ciudad del Vaticano   \n",
       " 237    -                           Mundo   \n",
       " \n",
       "     Población estimada por la ONU para mediados del año  1975  \\\n",
       " 0                                          915 125 000          \n",
       " 1                                          623 524 000          \n",
       " 2                                          211 275 000          \n",
       " 3                                          133 842 000          \n",
       " 4                                          131 213 000          \n",
       " ..                                                 ...          \n",
       " 233                                              3 000          \n",
       " 234                                              2 000          \n",
       " 235                                              2 000          \n",
       " 236                                              1 000          \n",
       " 237                                  4 069 441 000 000          \n",
       " \n",
       "      % del total mundial  \n",
       " 0                   2249  \n",
       " 1                   1532  \n",
       " 2                    519  \n",
       " 3                    329  \n",
       " 4                    322  \n",
       " ..                   ...  \n",
       " 233                    0  \n",
       " 234                    0  \n",
       " 235                    0  \n",
       " 236                    0  \n",
       " 237                10000  \n",
       " \n",
       " [238 rows x 4 columns],\n",
       "       N° País (o territorio dependiente)  \\\n",
       " 0      1                           China   \n",
       " 1      2                           India   \n",
       " 2      3                  Estados Unidos   \n",
       " 3      4                       Indonesia   \n",
       " 4      5                          Brasil   \n",
       " ..   ...                             ...   \n",
       " 233  234             Islas Malvinas (RU)   \n",
       " 234  235                       Niue (NZ)   \n",
       " 235  236                    Tokelau (NZ)   \n",
       " 236  237             Ciudad del Vaticano   \n",
       " 237    -                           Mundo   \n",
       " \n",
       "     Población estimada por la ONU para mediados del año  2000  \\\n",
       " 0                                        1 264 099 000          \n",
       " 1                                        1 059 634 000          \n",
       " 2                                          282 399 000          \n",
       " 3                                          214 072 000          \n",
       " 4                                          175 874 000          \n",
       " ..                                                 ...          \n",
       " 233                                              3 000          \n",
       " 234                                              2 000          \n",
       " 235                                              2 000          \n",
       " 236                                              1 000          \n",
       " 237                                  6 148 898 000 000          \n",
       " \n",
       "      % del total mundial  \n",
       " 0                   2056  \n",
       " 1                   1723  \n",
       " 2                    459  \n",
       " 3                    348  \n",
       " 4                    286  \n",
       " ..                   ...  \n",
       " 233                    0  \n",
       " 234                    0  \n",
       " 235                    0  \n",
       " 236                    0  \n",
       " 237                10000  \n",
       " \n",
       " [238 rows x 4 columns],\n",
       "                         0                                    1\n",
       " 0  Control de autoridades  Proyectos Wikimedia  Datos: Q712280]"
      ]
     },
     "execution_count": 51,
     "metadata": {},
     "output_type": "execute_result"
    }
   ],
   "source": [
    "datos"
   ]
  },
  {
   "cell_type": "code",
   "execution_count": 53,
   "id": "56eeb6b9-16f5-4588-b65c-0eab6de555a8",
   "metadata": {},
   "outputs": [
    {
     "data": {
      "text/plain": [
       "list"
      ]
     },
     "execution_count": 53,
     "metadata": {},
     "output_type": "execute_result"
    }
   ],
   "source": [
    "type(datos)\n",
    "#guarda todo como una lista"
   ]
  },
  {
   "cell_type": "code",
   "execution_count": null,
   "id": "7dbbe277-e684-4680-b099-867800b0bd35",
   "metadata": {},
   "outputs": [],
   "source": [
    "#accedemos a la primera fila"
   ]
  },
  {
   "cell_type": "code",
   "execution_count": 55,
   "id": "8cd0ad7a-9742-418f-8675-07445c94abf9",
   "metadata": {},
   "outputs": [
    {
     "data": {
      "text/html": [
       "<div>\n",
       "<style scoped>\n",
       "    .dataframe tbody tr th:only-of-type {\n",
       "        vertical-align: middle;\n",
       "    }\n",
       "\n",
       "    .dataframe tbody tr th {\n",
       "        vertical-align: top;\n",
       "    }\n",
       "\n",
       "    .dataframe thead th {\n",
       "        text-align: right;\n",
       "    }\n",
       "</style>\n",
       "<table border=\"1\" class=\"dataframe\">\n",
       "  <thead>\n",
       "    <tr style=\"text-align: right;\">\n",
       "      <th></th>\n",
       "      <th>N.º</th>\n",
       "      <th>País (o territorio dependiente)</th>\n",
       "      <th>Proyección exponencial de la población al 1/7/2024[7]​</th>\n",
       "      <th>Total mun- dial (%)</th>\n",
       "      <th>Cambio medio anual (%)[8]​</th>\n",
       "      <th>Cambio absoluto anual promedio</th>\n",
       "      <th>Cambio medio abs. total anual (%)</th>\n",
       "      <th>Años para even- tual du- pli- ca- ción[9]​</th>\n",
       "      <th>Censo más reciente, última estimación oficial, proyección de la ONU o reloj de población nacional</th>\n",
       "      <th>Fecha de esta última cifra de población en particular (d/mm/aaaa)[10]​</th>\n",
       "      <th>Tipo[11]​</th>\n",
       "      <th>Enlace o hipervínculo (usualmente de tipo oficial) de esta última cifra de población</th>\n",
       "    </tr>\n",
       "  </thead>\n",
       "  <tbody>\n",
       "    <tr>\n",
       "      <th>0</th>\n",
       "      <td>1</td>\n",
       "      <td>China[12]​</td>\n",
       "      <td>1 408 628 000</td>\n",
       "      <td>1757</td>\n",
       "      <td>-015</td>\n",
       "      <td>-2 077 000</td>\n",
       "      <td>-</td>\n",
       "      <td>-</td>\n",
       "      <td>1 409 670 000</td>\n",
       "      <td>31/12/2023</td>\n",
       "      <td>E</td>\n",
       "      <td>www.stats.gov.cn</td>\n",
       "    </tr>\n",
       "    <tr>\n",
       "      <th>1</th>\n",
       "      <td>2</td>\n",
       "      <td>India</td>\n",
       "      <td>1 404 910 000</td>\n",
       "      <td>1753</td>\n",
       "      <td>090</td>\n",
       "      <td>12 669 000</td>\n",
       "      <td>1466</td>\n",
       "      <td>77</td>\n",
       "      <td>1 404 910 000</td>\n",
       "      <td>1/07/2024</td>\n",
       "      <td>A</td>\n",
       "      <td>main.mohfw.gov.in</td>\n",
       "    </tr>\n",
       "    <tr>\n",
       "      <th>2</th>\n",
       "      <td>3</td>\n",
       "      <td>Estados Unidos</td>\n",
       "      <td>336 762 000</td>\n",
       "      <td>420</td>\n",
       "      <td>052</td>\n",
       "      <td>1 749 000</td>\n",
       "      <td>202</td>\n",
       "      <td>134</td>\n",
       "      <td>336 836 000</td>\n",
       "      <td>30/07/2024</td>\n",
       "      <td>R</td>\n",
       "      <td>www.census.gov</td>\n",
       "    </tr>\n",
       "    <tr>\n",
       "      <th>3</th>\n",
       "      <td>4</td>\n",
       "      <td>Indonesia</td>\n",
       "      <td>288 431 000</td>\n",
       "      <td>360</td>\n",
       "      <td>172</td>\n",
       "      <td>4 959 000</td>\n",
       "      <td>574</td>\n",
       "      <td>41</td>\n",
       "      <td>271 350 000</td>\n",
       "      <td>12/2020</td>\n",
       "      <td>E</td>\n",
       "      <td>www.bps.go.id</td>\n",
       "    </tr>\n",
       "    <tr>\n",
       "      <th>4</th>\n",
       "      <td>5</td>\n",
       "      <td>Pakistán</td>\n",
       "      <td>249 805 000</td>\n",
       "      <td>312</td>\n",
       "      <td>256</td>\n",
       "      <td>6 403 000</td>\n",
       "      <td>741</td>\n",
       "      <td>27</td>\n",
       "      <td>241 499 431</td>\n",
       "      <td>1/03/2023</td>\n",
       "      <td>C</td>\n",
       "      <td>www.pbs.gov.pk</td>\n",
       "    </tr>\n",
       "    <tr>\n",
       "      <th>...</th>\n",
       "      <td>...</td>\n",
       "      <td>...</td>\n",
       "      <td>...</td>\n",
       "      <td>...</td>\n",
       "      <td>...</td>\n",
       "      <td>...</td>\n",
       "      <td>...</td>\n",
       "      <td>...</td>\n",
       "      <td>...</td>\n",
       "      <td>...</td>\n",
       "      <td>...</td>\n",
       "      <td>...</td>\n",
       "    </tr>\n",
       "    <tr>\n",
       "      <th>241</th>\n",
       "      <td>242</td>\n",
       "      <td>Islas Cocos (Australia)</td>\n",
       "      <td>600</td>\n",
       "      <td>000</td>\n",
       "      <td>174</td>\n",
       "      <td>0</td>\n",
       "      <td>000</td>\n",
       "      <td>40</td>\n",
       "      <td>593</td>\n",
       "      <td>11/08/2021</td>\n",
       "      <td>C</td>\n",
       "      <td>www.citypopulation.de</td>\n",
       "    </tr>\n",
       "    <tr>\n",
       "      <th>242</th>\n",
       "      <td>243</td>\n",
       "      <td>Islas Ultramarinas Menores de los Estados Unidos</td>\n",
       "      <td>100</td>\n",
       "      <td>000</td>\n",
       "      <td>-496</td>\n",
       "      <td>0</td>\n",
       "      <td>000</td>\n",
       "      <td>-</td>\n",
       "      <td>190</td>\n",
       "      <td>1/04/2010</td>\n",
       "      <td>C</td>\n",
       "      <td>www.statoids.com</td>\n",
       "    </tr>\n",
       "    <tr>\n",
       "      <th>243</th>\n",
       "      <td>244</td>\n",
       "      <td>Islas Pitcairn (RU)</td>\n",
       "      <td>50</td>\n",
       "      <td>000</td>\n",
       "      <td>-041</td>\n",
       "      <td>0</td>\n",
       "      <td>000</td>\n",
       "      <td>-</td>\n",
       "      <td>47</td>\n",
       "      <td>1/07/2021</td>\n",
       "      <td>E</td>\n",
       "      <td>www.visitpitcairn.pn</td>\n",
       "    </tr>\n",
       "    <tr>\n",
       "      <th>244</th>\n",
       "      <td>NaN</td>\n",
       "      <td>Mundo</td>\n",
       "      <td>8 014 986 000</td>\n",
       "      <td>10000</td>\n",
       "      <td>107</td>\n",
       "      <td>86 409 000</td>\n",
       "      <td>10000</td>\n",
       "      <td>65</td>\n",
       "      <td>8 124 869 000</td>\n",
       "      <td>30/07/2024</td>\n",
       "      <td>R</td>\n",
       "      <td>www.worldometers.info</td>\n",
       "    </tr>\n",
       "    <tr>\n",
       "      <th>245</th>\n",
       "      <td>N°</td>\n",
       "      <td>País (o territorio dependiente)</td>\n",
       "      <td>Proyección exponencial de la población al 1/7/...</td>\n",
       "      <td>Total mun- dial (%)</td>\n",
       "      <td>Cambio medio anual (%)</td>\n",
       "      <td>Cambio absoluto anual promedio</td>\n",
       "      <td>Cambio medio abs. total anual (%)</td>\n",
       "      <td>Años para even- tual du- pli- ca- ción</td>\n",
       "      <td>Censo más reciente, última estimación oficial,...</td>\n",
       "      <td>Fecha de esta última cifra de población en par...</td>\n",
       "      <td>Tipo</td>\n",
       "      <td>Enlace o hipervínculo (usualmente de tipo ofic...</td>\n",
       "    </tr>\n",
       "  </tbody>\n",
       "</table>\n",
       "<p>246 rows × 12 columns</p>\n",
       "</div>"
      ],
      "text/plain": [
       "     N.º                   País (o territorio dependiente)  \\\n",
       "0      1                                        China[12]​   \n",
       "1      2                                             India   \n",
       "2      3                                    Estados Unidos   \n",
       "3      4                                         Indonesia   \n",
       "4      5                                          Pakistán   \n",
       "..   ...                                               ...   \n",
       "241  242                           Islas Cocos (Australia)   \n",
       "242  243  Islas Ultramarinas Menores de los Estados Unidos   \n",
       "243  244                               Islas Pitcairn (RU)   \n",
       "244  NaN                                             Mundo   \n",
       "245   N°                   País (o territorio dependiente)   \n",
       "\n",
       "    Proyección exponencial de la población al 1/7/2024[7]​  \\\n",
       "0                                        1 408 628 000       \n",
       "1                                        1 404 910 000       \n",
       "2                                          336 762 000       \n",
       "3                                          288 431 000       \n",
       "4                                          249 805 000       \n",
       "..                                                 ...       \n",
       "241                                                600       \n",
       "242                                                100       \n",
       "243                                                 50       \n",
       "244                                      8 014 986 000       \n",
       "245  Proyección exponencial de la población al 1/7/...       \n",
       "\n",
       "     Total mun- dial (%) Cambio medio anual (%)[8]​  \\\n",
       "0                   1757                       -015   \n",
       "1                   1753                        090   \n",
       "2                    420                        052   \n",
       "3                    360                        172   \n",
       "4                    312                        256   \n",
       "..                   ...                        ...   \n",
       "241                  000                        174   \n",
       "242                  000                       -496   \n",
       "243                  000                       -041   \n",
       "244                10000                        107   \n",
       "245  Total mun- dial (%)     Cambio medio anual (%)   \n",
       "\n",
       "     Cambio absoluto anual promedio  Cambio medio abs. total anual (%)  \\\n",
       "0                        -2 077 000                                  -   \n",
       "1                        12 669 000                               1466   \n",
       "2                         1 749 000                                202   \n",
       "3                         4 959 000                                574   \n",
       "4                         6 403 000                                741   \n",
       "..                              ...                                ...   \n",
       "241                               0                                000   \n",
       "242                               0                                000   \n",
       "243                               0                                000   \n",
       "244                      86 409 000                              10000   \n",
       "245  Cambio absoluto anual promedio  Cambio medio abs. total anual (%)   \n",
       "\n",
       "    Años para even- tual du- pli- ca- ción[9]​  \\\n",
       "0                                            -   \n",
       "1                                           77   \n",
       "2                                          134   \n",
       "3                                           41   \n",
       "4                                           27   \n",
       "..                                         ...   \n",
       "241                                         40   \n",
       "242                                          -   \n",
       "243                                          -   \n",
       "244                                         65   \n",
       "245     Años para even- tual du- pli- ca- ción   \n",
       "\n",
       "    Censo más reciente, última estimación oficial, proyección de la ONU o reloj de población nacional  \\\n",
       "0                                        1 409 670 000                                                  \n",
       "1                                        1 404 910 000                                                  \n",
       "2                                          336 836 000                                                  \n",
       "3                                          271 350 000                                                  \n",
       "4                                          241 499 431                                                  \n",
       "..                                                 ...                                                  \n",
       "241                                                593                                                  \n",
       "242                                                190                                                  \n",
       "243                                                 47                                                  \n",
       "244                                      8 124 869 000                                                  \n",
       "245  Censo más reciente, última estimación oficial,...                                                  \n",
       "\n",
       "    Fecha de esta última cifra de población en particular (d/mm/aaaa)[10]​  \\\n",
       "0                                           31/12/2023                       \n",
       "1                                            1/07/2024                       \n",
       "2                                           30/07/2024                       \n",
       "3                                              12/2020                       \n",
       "4                                            1/03/2023                       \n",
       "..                                                 ...                       \n",
       "241                                         11/08/2021                       \n",
       "242                                          1/04/2010                       \n",
       "243                                          1/07/2021                       \n",
       "244                                         30/07/2024                       \n",
       "245  Fecha de esta última cifra de población en par...                       \n",
       "\n",
       "    Tipo[11]​  \\\n",
       "0           E   \n",
       "1           A   \n",
       "2           R   \n",
       "3           E   \n",
       "4           C   \n",
       "..        ...   \n",
       "241         C   \n",
       "242         C   \n",
       "243         E   \n",
       "244         R   \n",
       "245      Tipo   \n",
       "\n",
       "    Enlace o hipervínculo (usualmente de tipo oficial) de esta última cifra de población  \n",
       "0                                     www.stats.gov.cn                                    \n",
       "1                                    main.mohfw.gov.in                                    \n",
       "2                                       www.census.gov                                    \n",
       "3                                        www.bps.go.id                                    \n",
       "4                                       www.pbs.gov.pk                                    \n",
       "..                                                 ...                                    \n",
       "241                              www.citypopulation.de                                    \n",
       "242                                   www.statoids.com                                    \n",
       "243                               www.visitpitcairn.pn                                    \n",
       "244                              www.worldometers.info                                    \n",
       "245  Enlace o hipervínculo (usualmente de tipo ofic...                                    \n",
       "\n",
       "[246 rows x 12 columns]"
      ]
     },
     "execution_count": 55,
     "metadata": {},
     "output_type": "execute_result"
    }
   ],
   "source": [
    "datos[0]"
   ]
  },
  {
   "cell_type": "code",
   "execution_count": null,
   "id": "b3781812-3106-4b30-ab3c-9acf5b853ddd",
   "metadata": {},
   "outputs": [],
   "source": [
    "#ahí está nuestra información de la tabla"
   ]
  },
  {
   "cell_type": "code",
   "execution_count": 59,
   "id": "4f5b7fab-d176-4f82-89f1-718520577e18",
   "metadata": {},
   "outputs": [],
   "source": [
    "dataframe = datos[0]"
   ]
  },
  {
   "cell_type": "code",
   "execution_count": 65,
   "id": "ac683307-e518-4a55-ba59-0dea3646df37",
   "metadata": {},
   "outputs": [
    {
     "data": {
      "text/html": [
       "<div>\n",
       "<style scoped>\n",
       "    .dataframe tbody tr th:only-of-type {\n",
       "        vertical-align: middle;\n",
       "    }\n",
       "\n",
       "    .dataframe tbody tr th {\n",
       "        vertical-align: top;\n",
       "    }\n",
       "\n",
       "    .dataframe thead th {\n",
       "        text-align: right;\n",
       "    }\n",
       "</style>\n",
       "<table border=\"1\" class=\"dataframe\">\n",
       "  <thead>\n",
       "    <tr style=\"text-align: right;\">\n",
       "      <th></th>\n",
       "      <th>N.º</th>\n",
       "      <th>País (o territorio dependiente)</th>\n",
       "      <th>Proyección exponencial de la población al 1/7/2024[7]​</th>\n",
       "      <th>Total mun- dial (%)</th>\n",
       "      <th>Cambio medio anual (%)[8]​</th>\n",
       "      <th>Cambio absoluto anual promedio</th>\n",
       "      <th>Cambio medio abs. total anual (%)</th>\n",
       "      <th>Años para even- tual du- pli- ca- ción[9]​</th>\n",
       "      <th>Censo más reciente, última estimación oficial, proyección de la ONU o reloj de población nacional</th>\n",
       "      <th>Fecha de esta última cifra de población en particular (d/mm/aaaa)[10]​</th>\n",
       "      <th>Tipo[11]​</th>\n",
       "      <th>Enlace o hipervínculo (usualmente de tipo oficial) de esta última cifra de población</th>\n",
       "    </tr>\n",
       "  </thead>\n",
       "  <tbody>\n",
       "    <tr>\n",
       "      <th>0</th>\n",
       "      <td>1</td>\n",
       "      <td>China[12]​</td>\n",
       "      <td>1 408 628 000</td>\n",
       "      <td>1757</td>\n",
       "      <td>-015</td>\n",
       "      <td>-2 077 000</td>\n",
       "      <td>-</td>\n",
       "      <td>-</td>\n",
       "      <td>1 409 670 000</td>\n",
       "      <td>31/12/2023</td>\n",
       "      <td>E</td>\n",
       "      <td>www.stats.gov.cn</td>\n",
       "    </tr>\n",
       "    <tr>\n",
       "      <th>1</th>\n",
       "      <td>2</td>\n",
       "      <td>India</td>\n",
       "      <td>1 404 910 000</td>\n",
       "      <td>1753</td>\n",
       "      <td>090</td>\n",
       "      <td>12 669 000</td>\n",
       "      <td>1466</td>\n",
       "      <td>77</td>\n",
       "      <td>1 404 910 000</td>\n",
       "      <td>1/07/2024</td>\n",
       "      <td>A</td>\n",
       "      <td>main.mohfw.gov.in</td>\n",
       "    </tr>\n",
       "    <tr>\n",
       "      <th>2</th>\n",
       "      <td>3</td>\n",
       "      <td>Estados Unidos</td>\n",
       "      <td>336 762 000</td>\n",
       "      <td>420</td>\n",
       "      <td>052</td>\n",
       "      <td>1 749 000</td>\n",
       "      <td>202</td>\n",
       "      <td>134</td>\n",
       "      <td>336 836 000</td>\n",
       "      <td>30/07/2024</td>\n",
       "      <td>R</td>\n",
       "      <td>www.census.gov</td>\n",
       "    </tr>\n",
       "    <tr>\n",
       "      <th>3</th>\n",
       "      <td>4</td>\n",
       "      <td>Indonesia</td>\n",
       "      <td>288 431 000</td>\n",
       "      <td>360</td>\n",
       "      <td>172</td>\n",
       "      <td>4 959 000</td>\n",
       "      <td>574</td>\n",
       "      <td>41</td>\n",
       "      <td>271 350 000</td>\n",
       "      <td>12/2020</td>\n",
       "      <td>E</td>\n",
       "      <td>www.bps.go.id</td>\n",
       "    </tr>\n",
       "    <tr>\n",
       "      <th>4</th>\n",
       "      <td>5</td>\n",
       "      <td>Pakistán</td>\n",
       "      <td>249 805 000</td>\n",
       "      <td>312</td>\n",
       "      <td>256</td>\n",
       "      <td>6 403 000</td>\n",
       "      <td>741</td>\n",
       "      <td>27</td>\n",
       "      <td>241 499 431</td>\n",
       "      <td>1/03/2023</td>\n",
       "      <td>C</td>\n",
       "      <td>www.pbs.gov.pk</td>\n",
       "    </tr>\n",
       "    <tr>\n",
       "      <th>5</th>\n",
       "      <td>6</td>\n",
       "      <td>Nigeria</td>\n",
       "      <td>229 931 000</td>\n",
       "      <td>287</td>\n",
       "      <td>273</td>\n",
       "      <td>6 286 000</td>\n",
       "      <td>727</td>\n",
       "      <td>26</td>\n",
       "      <td>223 800 000</td>\n",
       "      <td>1/07/2023</td>\n",
       "      <td>E</td>\n",
       "      <td>cdn.sanity.io</td>\n",
       "    </tr>\n",
       "    <tr>\n",
       "      <th>6</th>\n",
       "      <td>7</td>\n",
       "      <td>Brasil</td>\n",
       "      <td>205 122 000</td>\n",
       "      <td>256</td>\n",
       "      <td>052</td>\n",
       "      <td>1 073 000</td>\n",
       "      <td>124</td>\n",
       "      <td>133</td>\n",
       "      <td>203 080 756</td>\n",
       "      <td>1/08/2022</td>\n",
       "      <td>C</td>\n",
       "      <td>censo2022.ibge.gov.br</td>\n",
       "    </tr>\n",
       "    <tr>\n",
       "      <th>7</th>\n",
       "      <td>8</td>\n",
       "      <td>Bangladés</td>\n",
       "      <td>174 989 000</td>\n",
       "      <td>218</td>\n",
       "      <td>147</td>\n",
       "      <td>2 580 000</td>\n",
       "      <td>299</td>\n",
       "      <td>47</td>\n",
       "      <td>169 828 911</td>\n",
       "      <td>15/06/2022</td>\n",
       "      <td>C</td>\n",
       "      <td>bdnews24.com</td>\n",
       "    </tr>\n",
       "    <tr>\n",
       "      <th>8</th>\n",
       "      <td>9</td>\n",
       "      <td>Rusia[13]​</td>\n",
       "      <td>146 331 000</td>\n",
       "      <td>183</td>\n",
       "      <td>018</td>\n",
       "      <td>257 000</td>\n",
       "      <td>030</td>\n",
       "      <td>396</td>\n",
       "      <td>146 203 613</td>\n",
       "      <td>1/01/2024</td>\n",
       "      <td>E</td>\n",
       "      <td>rosstat.gov.ru</td>\n",
       "    </tr>\n",
       "    <tr>\n",
       "      <th>9</th>\n",
       "      <td>10</td>\n",
       "      <td>México</td>\n",
       "      <td>132 552 000</td>\n",
       "      <td>165</td>\n",
       "      <td>118</td>\n",
       "      <td>1 570 000</td>\n",
       "      <td>182</td>\n",
       "      <td>59</td>\n",
       "      <td>126 014 024</td>\n",
       "      <td>15/03/2020</td>\n",
       "      <td>C</td>\n",
       "      <td>www.inegi.org.mx</td>\n",
       "    </tr>\n",
       "  </tbody>\n",
       "</table>\n",
       "</div>"
      ],
      "text/plain": [
       "  N.º País (o territorio dependiente)  \\\n",
       "0   1                      China[12]​   \n",
       "1   2                           India   \n",
       "2   3                  Estados Unidos   \n",
       "3   4                       Indonesia   \n",
       "4   5                        Pakistán   \n",
       "5   6                         Nigeria   \n",
       "6   7                          Brasil   \n",
       "7   8                       Bangladés   \n",
       "8   9                      Rusia[13]​   \n",
       "9  10                          México   \n",
       "\n",
       "  Proyección exponencial de la población al 1/7/2024[7]​ Total mun- dial (%)  \\\n",
       "0                                      1 408 628 000                    1757   \n",
       "1                                      1 404 910 000                    1753   \n",
       "2                                        336 762 000                     420   \n",
       "3                                        288 431 000                     360   \n",
       "4                                        249 805 000                     312   \n",
       "5                                        229 931 000                     287   \n",
       "6                                        205 122 000                     256   \n",
       "7                                        174 989 000                     218   \n",
       "8                                        146 331 000                     183   \n",
       "9                                        132 552 000                     165   \n",
       "\n",
       "  Cambio medio anual (%)[8]​ Cambio absoluto anual promedio  \\\n",
       "0                       -015                     -2 077 000   \n",
       "1                        090                     12 669 000   \n",
       "2                        052                      1 749 000   \n",
       "3                        172                      4 959 000   \n",
       "4                        256                      6 403 000   \n",
       "5                        273                      6 286 000   \n",
       "6                        052                      1 073 000   \n",
       "7                        147                      2 580 000   \n",
       "8                        018                        257 000   \n",
       "9                        118                      1 570 000   \n",
       "\n",
       "  Cambio medio abs. total anual (%)  \\\n",
       "0                                 -   \n",
       "1                              1466   \n",
       "2                               202   \n",
       "3                               574   \n",
       "4                               741   \n",
       "5                               727   \n",
       "6                               124   \n",
       "7                               299   \n",
       "8                               030   \n",
       "9                               182   \n",
       "\n",
       "  Años para even- tual du- pli- ca- ción[9]​  \\\n",
       "0                                          -   \n",
       "1                                         77   \n",
       "2                                        134   \n",
       "3                                         41   \n",
       "4                                         27   \n",
       "5                                         26   \n",
       "6                                        133   \n",
       "7                                         47   \n",
       "8                                        396   \n",
       "9                                         59   \n",
       "\n",
       "  Censo más reciente, última estimación oficial, proyección de la ONU o reloj de población nacional  \\\n",
       "0                                      1 409 670 000                                                  \n",
       "1                                      1 404 910 000                                                  \n",
       "2                                        336 836 000                                                  \n",
       "3                                        271 350 000                                                  \n",
       "4                                        241 499 431                                                  \n",
       "5                                        223 800 000                                                  \n",
       "6                                        203 080 756                                                  \n",
       "7                                        169 828 911                                                  \n",
       "8                                        146 203 613                                                  \n",
       "9                                        126 014 024                                                  \n",
       "\n",
       "  Fecha de esta última cifra de población en particular (d/mm/aaaa)[10]​  \\\n",
       "0                                         31/12/2023                       \n",
       "1                                          1/07/2024                       \n",
       "2                                         30/07/2024                       \n",
       "3                                            12/2020                       \n",
       "4                                          1/03/2023                       \n",
       "5                                          1/07/2023                       \n",
       "6                                          1/08/2022                       \n",
       "7                                         15/06/2022                       \n",
       "8                                          1/01/2024                       \n",
       "9                                         15/03/2020                       \n",
       "\n",
       "  Tipo[11]​  \\\n",
       "0         E   \n",
       "1         A   \n",
       "2         R   \n",
       "3         E   \n",
       "4         C   \n",
       "5         E   \n",
       "6         C   \n",
       "7         C   \n",
       "8         E   \n",
       "9         C   \n",
       "\n",
       "  Enlace o hipervínculo (usualmente de tipo oficial) de esta última cifra de población  \n",
       "0                                   www.stats.gov.cn                                    \n",
       "1                                  main.mohfw.gov.in                                    \n",
       "2                                     www.census.gov                                    \n",
       "3                                      www.bps.go.id                                    \n",
       "4                                     www.pbs.gov.pk                                    \n",
       "5                                      cdn.sanity.io                                    \n",
       "6                              censo2022.ibge.gov.br                                    \n",
       "7                                       bdnews24.com                                    \n",
       "8                                     rosstat.gov.ru                                    \n",
       "9                                   www.inegi.org.mx                                    "
      ]
     },
     "execution_count": 65,
     "metadata": {},
     "output_type": "execute_result"
    }
   ],
   "source": [
    "dataframe.head(10)\n"
   ]
  },
  {
   "cell_type": "markdown",
   "id": "fac2bd33-aed6-43da-b453-632ebad3d4d4",
   "metadata": {},
   "source": [
    "## PANDAS Y SQL  \n",
    "\n",
    "vamos a trabajar con SQLAlchemy para ello hay que instalarlo  \n",
    "    conda install sqlalchemy  \n",
    "    pip install sqlalchemy  "
   ]
  },
  {
   "cell_type": "code",
   "execution_count": 77,
   "id": "9fb9de35-4ea0-45f7-84a3-5788f8a8e958",
   "metadata": {},
   "outputs": [],
   "source": [
    "# conda install sqlalchemy desde el terminal de anaconda"
   ]
  },
  {
   "cell_type": "code",
   "execution_count": 79,
   "id": "5511bf9c-a6cc-4241-8534-3cbfd8543e48",
   "metadata": {},
   "outputs": [],
   "source": [
    "import pandas as pd"
   ]
  },
  {
   "cell_type": "code",
   "execution_count": 89,
   "id": "c3665450-dd60-4877-8098-7a7714f38890",
   "metadata": {},
   "outputs": [],
   "source": [
    "from sqlalchemy import create_engine"
   ]
  },
  {
   "cell_type": "code",
   "execution_count": 81,
   "id": "6d6f390b-65c0-48cb-b0b2-fb251690ee27",
   "metadata": {},
   "outputs": [],
   "source": [
    "diccionario ={'A':[10,20,30],'B':[40,50,60]}"
   ]
  },
  {
   "cell_type": "code",
   "execution_count": 83,
   "id": "b3600e51-2577-4695-ac1e-8cd631870b25",
   "metadata": {},
   "outputs": [],
   "source": [
    "dataframe = pd.DataFrame(diccionario)"
   ]
  },
  {
   "cell_type": "code",
   "execution_count": 85,
   "id": "994218ce-0c53-4d79-bf05-0adbb3d4fb8d",
   "metadata": {},
   "outputs": [
    {
     "data": {
      "text/html": [
       "<div>\n",
       "<style scoped>\n",
       "    .dataframe tbody tr th:only-of-type {\n",
       "        vertical-align: middle;\n",
       "    }\n",
       "\n",
       "    .dataframe tbody tr th {\n",
       "        vertical-align: top;\n",
       "    }\n",
       "\n",
       "    .dataframe thead th {\n",
       "        text-align: right;\n",
       "    }\n",
       "</style>\n",
       "<table border=\"1\" class=\"dataframe\">\n",
       "  <thead>\n",
       "    <tr style=\"text-align: right;\">\n",
       "      <th></th>\n",
       "      <th>A</th>\n",
       "      <th>B</th>\n",
       "    </tr>\n",
       "  </thead>\n",
       "  <tbody>\n",
       "    <tr>\n",
       "      <th>0</th>\n",
       "      <td>10</td>\n",
       "      <td>40</td>\n",
       "    </tr>\n",
       "    <tr>\n",
       "      <th>1</th>\n",
       "      <td>20</td>\n",
       "      <td>50</td>\n",
       "    </tr>\n",
       "    <tr>\n",
       "      <th>2</th>\n",
       "      <td>30</td>\n",
       "      <td>60</td>\n",
       "    </tr>\n",
       "  </tbody>\n",
       "</table>\n",
       "</div>"
      ],
      "text/plain": [
       "    A   B\n",
       "0  10  40\n",
       "1  20  50\n",
       "2  30  60"
      ]
     },
     "execution_count": 85,
     "metadata": {},
     "output_type": "execute_result"
    }
   ],
   "source": [
    "dataframe"
   ]
  },
  {
   "cell_type": "code",
   "execution_count": null,
   "id": "d5c8f879-333c-4ac5-a6fa-d56df903d723",
   "metadata": {},
   "outputs": [],
   "source": [
    "#vamos a grabar este dataframe dentro de una base de datos\n",
    "#creamos un motor en memoria de la base de datos"
   ]
  },
  {
   "cell_type": "code",
   "execution_count": 91,
   "id": "9d9255fa-d3ef-4876-8eb4-86fcb7edd6f0",
   "metadata": {},
   "outputs": [],
   "source": [
    "engine = create_engine('sqlite:///:memory:')"
   ]
  },
  {
   "cell_type": "code",
   "execution_count": 93,
   "id": "4b486950-72c3-47ab-b6b7-8b47ba01e380",
   "metadata": {},
   "outputs": [
    {
     "data": {
      "text/plain": [
       "3"
      ]
     },
     "execution_count": 93,
     "metadata": {},
     "output_type": "execute_result"
    }
   ],
   "source": [
    "dataframe.to_sql('tabla', engine, index=False)\n",
    "#index=False le indica que no grabe el index en la tabla"
   ]
  },
  {
   "cell_type": "code",
   "execution_count": 95,
   "id": "96155a88-0009-4845-b6d9-d36fe19bcb4a",
   "metadata": {},
   "outputs": [],
   "source": [
    "#vamos a recuperar los datos, llamamos a la tabla sql desde la conexión engine\n",
    "datos_leidos_bd = pd.read_sql('tabla',con=engine)"
   ]
  },
  {
   "cell_type": "code",
   "execution_count": 97,
   "id": "4d101049-86ef-48a4-855f-2db3cf45f241",
   "metadata": {},
   "outputs": [
    {
     "data": {
      "text/html": [
       "<div>\n",
       "<style scoped>\n",
       "    .dataframe tbody tr th:only-of-type {\n",
       "        vertical-align: middle;\n",
       "    }\n",
       "\n",
       "    .dataframe tbody tr th {\n",
       "        vertical-align: top;\n",
       "    }\n",
       "\n",
       "    .dataframe thead th {\n",
       "        text-align: right;\n",
       "    }\n",
       "</style>\n",
       "<table border=\"1\" class=\"dataframe\">\n",
       "  <thead>\n",
       "    <tr style=\"text-align: right;\">\n",
       "      <th></th>\n",
       "      <th>A</th>\n",
       "      <th>B</th>\n",
       "    </tr>\n",
       "  </thead>\n",
       "  <tbody>\n",
       "    <tr>\n",
       "      <th>0</th>\n",
       "      <td>10</td>\n",
       "      <td>40</td>\n",
       "    </tr>\n",
       "    <tr>\n",
       "      <th>1</th>\n",
       "      <td>20</td>\n",
       "      <td>50</td>\n",
       "    </tr>\n",
       "    <tr>\n",
       "      <th>2</th>\n",
       "      <td>30</td>\n",
       "      <td>60</td>\n",
       "    </tr>\n",
       "  </tbody>\n",
       "</table>\n",
       "</div>"
      ],
      "text/plain": [
       "    A   B\n",
       "0  10  40\n",
       "1  20  50\n",
       "2  30  60"
      ]
     },
     "execution_count": 97,
     "metadata": {},
     "output_type": "execute_result"
    }
   ],
   "source": [
    "datos_leidos_bd"
   ]
  },
  {
   "cell_type": "markdown",
   "id": "fdfb684d-a690-4913-9d58-ded71c9bc592",
   "metadata": {},
   "source": [
    "### Ejercicio 1\n",
    "Desarrolla una función llamada calcular_promedio que tome como entrada un DataFrame de pandas que contiene datos numéricos y calcule el promedio de cada columna. La función debe devolver un nuevo DataFrame que contenga los promedios de cada columna.\n"
   ]
  },
  {
   "cell_type": "code",
   "execution_count": 99,
   "id": "1e7370a9-5951-4ec0-9c0c-94a4e84b1db8",
   "metadata": {},
   "outputs": [
    {
     "name": "stdout",
     "output_type": "stream",
     "text": [
      "A     2.5\n",
      "B     6.5\n",
      "C    10.5\n",
      "dtype: float64\n"
     ]
    }
   ],
   "source": [
    "import pandas as pd\n",
    "\n",
    "def calcular_promedio(dataframe):\n",
    "    promedios = dataframe.mean()\n",
    "    \n",
    "    return promedios\n",
    "    \n",
    "# Ejemplo de uso\n",
    "data = {\n",
    "    'A': [1, 2, 3, 4],\n",
    "    'B': [5, 6, 7, 8],\n",
    "    'C': [9, 10, 11, 12]\n",
    "}\n",
    "df = pd.DataFrame(data)\n",
    "resultado = calcular_promedio(df)\n",
    "print(resultado)\n",
    "    "
   ]
  },
  {
   "cell_type": "markdown",
   "id": "52f228eb-5eb4-473f-8273-bbe061cb5845",
   "metadata": {},
   "source": [
    "Seleccionar datos\r\n",
    "Desarrolla una función llamada seleccionar_datos que tome como entrada un DataFrame de pandas que contiene información sobre estudiantes (por ejemplo, nombre, edad, calificaciones, etc.) y seleccione un subconjunto de datos basado en ciertos criterios.\r\n",
    "\r\n",
    "Los criterios se pueden basar en el nombre, edad o calificacio  \n",
    "Utilizar la función query para selecionar datos basados en un criterio proporcionado por una cadena de texto  \n",
    "\n",
    "Importa la biblioteca pandas con el alias pd.\r\n",
    "\r\n",
    "Define una función llamada seleccionar_datos que tome un DataFrame dataframe y ciertos criterios de selección como argumentos.\r\n",
    "\r\n",
    "Utilizar la función query para selecionar datos basados en un criterio proporcionado por una cadena de texto\r\n",
    "\r\n",
    "Devuelve el subconjunto de datos como un nuevo DataFrame.nes"
   ]
  },
  {
   "cell_type": "code",
   "execution_count": 102,
   "id": "6fb209a4-cdb5-4792-b35d-d780e180c85c",
   "metadata": {},
   "outputs": [
    {
     "name": "stdout",
     "output_type": "stream",
     "text": [
      "  nombre  edad  calificaciones\n",
      "0  Alice    20              90\n",
      "1    Bob    22              88\n",
      "3  David    25              95\n"
     ]
    }
   ],
   "source": [
    "import pandas as pd\n",
    "\n",
    "def seleccionar_datos(dataframe, criterio):\n",
    "    resultado = dataframe.query(criterio)\n",
    "    return resultado\n",
    "\n",
    "# Ejemplo de uso\n",
    "data = {\n",
    "    'nombre': ['Alice', 'Bob', 'Charlie', 'David'],\n",
    "    'edad': [20, 22, 18, 25],\n",
    "    'calificaciones': [90, 88, 75, 95]\n",
    "}\n",
    " \n",
    "df = pd.DataFrame(data)\n",
    "criterio = 'edad > 18'\n",
    "resultado = seleccionar_datos(df, criterio)\n",
    "print(resultado)"
   ]
  },
  {
   "cell_type": "markdown",
   "id": "0606da15-bb87-4266-a3b5-82f304dfc464",
   "metadata": {},
   "source": [
    "Rellenar Valores Nulos con la Media de una Columna\r\n",
    "Desarrolla una función llamada rellenar_con_media que tome como entrada un DataFrame de pandas y el nombre de una columna. La función debe calcular la media de esa columna y luego llenar los valores nulos en esa columna con la media calculada."
   ]
  },
  {
   "cell_type": "code",
   "execution_count": 104,
   "id": "5c5c1d18-d40c-46e1-8ce6-e19bbd82bd72",
   "metadata": {},
   "outputs": [
    {
     "name": "stdout",
     "output_type": "stream",
     "text": [
      "    nombre  edad  calificaciones\n",
      "0    Alice  20.0            90.0\n",
      "1      Bob   NaN            88.0\n",
      "2  Charlie  18.0            91.0\n",
      "3    David  25.0            91.0\n",
      "4      Eve   NaN            95.0\n"
     ]
    }
   ],
   "source": [
    "import pandas as pd\n",
    "\n",
    "def rellenar_con_media(dataframe, columna):\n",
    "    media = dataframe[columna].mean()\n",
    "    \n",
    "    # Llenar los valores nulos en la columna especificada con la media calculada\n",
    "    dataframe[columna] = dataframe[columna].fillna(media)\n",
    "    \n",
    "    return dataframe\n",
    "    \n",
    "# Ejemplo de uso\n",
    "data = {\n",
    "    'nombre': ['Alice', 'Bob', 'Charlie', 'David', 'Eve'],\n",
    "    'edad': [20, None, 18, 25, None],\n",
    "    'calificaciones': [90, 88, None, None, 95]\n",
    "}\n",
    " \n",
    "df = pd.DataFrame(data)\n",
    "columna = 'calificaciones'\n",
    " \n",
    "resultado = rellenar_con_media(df, columna)\n",
    "print(resultado)"
   ]
  },
  {
   "cell_type": "code",
   "execution_count": null,
   "id": "641089bc-8892-41dc-8380-862cb1d86f81",
   "metadata": {},
   "outputs": [],
   "source": []
  },
  {
   "cell_type": "code",
   "execution_count": null,
   "id": "c56f60ff-0d5b-40fe-a459-a02390c7c711",
   "metadata": {},
   "outputs": [],
   "source": []
  },
  {
   "cell_type": "code",
   "execution_count": null,
   "id": "59c30bb4-e22d-420e-9d93-ef7b56d02091",
   "metadata": {},
   "outputs": [],
   "source": []
  }
 ],
 "metadata": {
  "kernelspec": {
   "display_name": "Python 3 (ipykernel)",
   "language": "python",
   "name": "python3"
  },
  "language_info": {
   "codemirror_mode": {
    "name": "ipython",
    "version": 3
   },
   "file_extension": ".py",
   "mimetype": "text/x-python",
   "name": "python",
   "nbconvert_exporter": "python",
   "pygments_lexer": "ipython3",
   "version": "3.11.7"
  }
 },
 "nbformat": 4,
 "nbformat_minor": 5
}
