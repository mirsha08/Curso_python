{
 "cells": [
  {
   "cell_type": "markdown",
   "id": "57e937b6-4c86-48fe-a3b9-2977b98ccbc1",
   "metadata": {},
   "source": [
    "# NumPy\n",
    "\n",
    "Para instalar Numpy:  \n",
    "-desde Anaconda: conda install numpy  \n",
    "-cmd: pip install numpy  \n",
    "\n",
    "Numpy para trabajar con arrays, matrices, vectores"
   ]
  },
  {
   "cell_type": "code",
   "execution_count": 6,
   "id": "8dfca90a-8913-4231-9537-db428bd94fbb",
   "metadata": {},
   "outputs": [],
   "source": [
    "import numpy as np"
   ]
  },
  {
   "cell_type": "code",
   "execution_count": 8,
   "id": "399f8bec-266c-470c-a6f5-b6cc34283a38",
   "metadata": {},
   "outputs": [],
   "source": [
    "#creamos un array a partir de una lista\n",
    "lista = [1,2,3,4,5,6]"
   ]
  },
  {
   "cell_type": "code",
   "execution_count": 14,
   "id": "f15e2422-9b84-4953-aa9a-3da877a04518",
   "metadata": {},
   "outputs": [
    {
     "data": {
      "text/plain": [
       "array([1, 2, 3, 4, 5, 6])"
      ]
     },
     "execution_count": 14,
     "metadata": {},
     "output_type": "execute_result"
    }
   ],
   "source": [
    "array = np.array(lista)\n",
    "array"
   ]
  },
  {
   "cell_type": "code",
   "execution_count": 16,
   "id": "e6311065-575f-4bd0-b4ea-8c9893d0d650",
   "metadata": {},
   "outputs": [
    {
     "data": {
      "text/plain": [
       "[[1, 2, 3], [4, 5, 6], [7, 8, 9]]"
      ]
     },
     "execution_count": 16,
     "metadata": {},
     "output_type": "execute_result"
    }
   ],
   "source": [
    "#matriz\n",
    "lista2 = [[1,2,3],[4,5,6],[7,8,9]]\n",
    "lista2"
   ]
  },
  {
   "cell_type": "code",
   "execution_count": 20,
   "id": "d87768cd-9cf4-4a3c-9ea5-ced7af9f8fec",
   "metadata": {},
   "outputs": [
    {
     "data": {
      "text/plain": [
       "array([[1, 2, 3],\n",
       "       [4, 5, 6],\n",
       "       [7, 8, 9]])"
      ]
     },
     "execution_count": 20,
     "metadata": {},
     "output_type": "execute_result"
    }
   ],
   "source": [
    "array2=np.array(lista2)\n",
    "array2"
   ]
  },
  {
   "cell_type": "markdown",
   "id": "91314b7e-81e4-4f98-80fc-7b5cb33d42b1",
   "metadata": {},
   "source": [
    "### Numpy arrays - arange, zeros, ones, linspace, eye"
   ]
  },
  {
   "cell_type": "code",
   "execution_count": 30,
   "id": "de3a8290-0d1f-4686-9c8e-136eb5fb67cc",
   "metadata": {},
   "outputs": [],
   "source": [
    "import numpy as np\n",
    "array = np.arange(5)  #genera un array de 5 eltos que empieza en 0"
   ]
  },
  {
   "cell_type": "code",
   "execution_count": 32,
   "id": "d0205e70-e436-4f94-8d14-094dd15f0a14",
   "metadata": {},
   "outputs": [
    {
     "data": {
      "text/plain": [
       "array([0, 1, 2, 3, 4])"
      ]
     },
     "execution_count": 32,
     "metadata": {},
     "output_type": "execute_result"
    }
   ],
   "source": [
    "array"
   ]
  },
  {
   "cell_type": "code",
   "execution_count": 44,
   "id": "2684d408-f4bc-4531-a982-327dfdad7b1d",
   "metadata": {},
   "outputs": [
    {
     "data": {
      "text/plain": [
       "array([ 1,  4,  7, 10, 13, 16, 19])"
      ]
     },
     "execution_count": 44,
     "metadata": {},
     "output_type": "execute_result"
    }
   ],
   "source": [
    "np.arange(1,20,3)  #(inicio,final, paso)"
   ]
  },
  {
   "cell_type": "code",
   "execution_count": 50,
   "id": "b87dad34-c892-4005-883a-48ee5c69c862",
   "metadata": {},
   "outputs": [
    {
     "data": {
      "text/plain": [
       "array([[0., 0., 0., 0.],\n",
       "       [0., 0., 0., 0.],\n",
       "       [0., 0., 0., 0.]])"
      ]
     },
     "execution_count": 50,
     "metadata": {},
     "output_type": "execute_result"
    }
   ],
   "source": [
    "#zeros: genera una matriz o un array de la forma\n",
    "\n",
    "np.zeros((3,4)) genera una matriz de filasxcolumnas con todos los eltos de valor 0, si ponemos solo un numero será una fila"
   ]
  },
  {
   "cell_type": "code",
   "execution_count": 52,
   "id": "20455386-8450-4730-b833-231c39379de8",
   "metadata": {},
   "outputs": [
    {
     "data": {
      "text/plain": [
       "array([[1., 1., 1., 1.],\n",
       "       [1., 1., 1., 1.],\n",
       "       [1., 1., 1., 1.]])"
      ]
     },
     "execution_count": 52,
     "metadata": {},
     "output_type": "execute_result"
    }
   ],
   "source": [
    "np.ones((3,4))  #lo mismo pero con ones, unos"
   ]
  },
  {
   "cell_type": "code",
   "execution_count": 56,
   "id": "73b1922b-5792-44e1-a938-c696d256eea8",
   "metadata": {},
   "outputs": [
    {
     "data": {
      "text/plain": [
       "array([5.        , 5.33333333, 5.66666667, 6.        , 6.33333333,\n",
       "       6.66666667, 7.        , 7.33333333, 7.66666667, 8.        ])"
      ]
     },
     "execution_count": 56,
     "metadata": {},
     "output_type": "execute_result"
    }
   ],
   "source": [
    "#linspace\n",
    "np.linspace(5,8,10)  #genera una matriz con el primer elto, y ultimo elto y 50 es el número de eltos generado"
   ]
  },
  {
   "cell_type": "code",
   "execution_count": 60,
   "id": "d791ff32-595f-48bb-aba7-4aeee53b8c5c",
   "metadata": {},
   "outputs": [
    {
     "data": {
      "text/plain": [
       "array([[1., 0., 0., 0., 0.],\n",
       "       [0., 1., 0., 0., 0.],\n",
       "       [0., 0., 1., 0., 0.],\n",
       "       [0., 0., 0., 1., 0.],\n",
       "       [0., 0., 0., 0., 1.]])"
      ]
     },
     "execution_count": 60,
     "metadata": {},
     "output_type": "execute_result"
    }
   ],
   "source": [
    "#eye - genera una matriz cuadrada\n",
    "np.eye(5)  #genera una matriz de 5x5, con todos los eltos 0 menos la diagonal principal que es a 1"
   ]
  },
  {
   "cell_type": "markdown",
   "id": "c9be0fff-5910-4b7b-aced-41f0ddc4c386",
   "metadata": {},
   "source": [
    "### Numpy arrays - números aleatorios - rand, randn, randint"
   ]
  },
  {
   "cell_type": "code",
   "execution_count": 67,
   "id": "ab7d7d0a-0d51-46e3-9ffa-d2912ec41701",
   "metadata": {},
   "outputs": [],
   "source": [
    "import numpy as np"
   ]
  },
  {
   "cell_type": "code",
   "execution_count": 69,
   "id": "864e3684-f2ab-49a7-a79c-757842076612",
   "metadata": {},
   "outputs": [
    {
     "data": {
      "text/plain": [
       "array([0.40361325, 0.94628834, 0.74992836, 0.14512086, 0.5427122 ])"
      ]
     },
     "execution_count": 69,
     "metadata": {},
     "output_type": "execute_result"
    }
   ],
   "source": [
    "np.random.rand(5)  #array de una fila aleatorio de 5 eltos"
   ]
  },
  {
   "cell_type": "code",
   "execution_count": 73,
   "id": "e70aed2f-6dd2-4281-873b-c5e4e9b03b29",
   "metadata": {},
   "outputs": [
    {
     "data": {
      "text/plain": [
       "array([[0.18125858, 0.60182427, 0.4641686 , 0.51164834, 0.54311819],\n",
       "       [0.36238735, 0.28517607, 0.65266046, 0.69953047, 0.08675788]])"
      ]
     },
     "execution_count": 73,
     "metadata": {},
     "output_type": "execute_result"
    }
   ],
   "source": [
    "np.random.rand(2,5)"
   ]
  },
  {
   "cell_type": "code",
   "execution_count": 75,
   "id": "3a7a87ae-dade-4559-b2af-47ccd8759cdc",
   "metadata": {},
   "outputs": [
    {
     "data": {
      "text/plain": [
       "array([ 2.39093202,  0.11677019, -1.57410147, -1.61376556,  0.33357678])"
      ]
     },
     "execution_count": 75,
     "metadata": {},
     "output_type": "execute_result"
    }
   ],
   "source": [
    "np.random.randn(5)  #genera numeros normales, incluidos negativos Return a sample (or samples) from the \"standard normal\" distribution."
   ]
  },
  {
   "cell_type": "code",
   "execution_count": 87,
   "id": "f66d5529-628e-4a73-8c02-97d5f70e1d89",
   "metadata": {},
   "outputs": [
    {
     "data": {
      "text/plain": [
       "5"
      ]
     },
     "execution_count": 87,
     "metadata": {},
     "output_type": "execute_result"
    }
   ],
   "source": [
    "np.random.randint(1,6)  #genera un número entero aletario entre los rangos que le damos"
   ]
  },
  {
   "cell_type": "code",
   "execution_count": 91,
   "id": "cf7b34c4-b459-4f4b-b632-139dcf9ed3b4",
   "metadata": {},
   "outputs": [
    {
     "data": {
      "text/plain": [
       "array([4, 4, 9, 5, 3])"
      ]
     },
     "execution_count": 91,
     "metadata": {},
     "output_type": "execute_result"
    }
   ],
   "source": [
    "np.random.randint(1,10,5)"
   ]
  },
  {
   "cell_type": "markdown",
   "id": "0861eb42-ee65-4fa0-8d92-6d88ae4a5604",
   "metadata": {},
   "source": [
    "### Numpy arrays - reshape, max, min"
   ]
  },
  {
   "cell_type": "code",
   "execution_count": 99,
   "id": "67f03175-9748-4e53-9b59-a112f90dc498",
   "metadata": {},
   "outputs": [
    {
     "data": {
      "text/plain": [
       "array([11, 84, 96, 36, 68, 78, 46, 72, 27, 74,  9,  7, 93, 19, 29, 89, 89,\n",
       "       81, 66,  5, 53, 33, 72, 15, 32])"
      ]
     },
     "execution_count": 99,
     "metadata": {},
     "output_type": "execute_result"
    }
   ],
   "source": [
    "array = np.random.randint(1,100,25)\n",
    "array"
   ]
  },
  {
   "cell_type": "code",
   "execution_count": 111,
   "id": "7d5843c0-7bea-4fa3-92eb-3cb6dabf72fd",
   "metadata": {},
   "outputs": [
    {
     "data": {
      "text/plain": [
       "array([[11, 84, 96, 36, 68],\n",
       "       [78, 46, 72, 27, 74],\n",
       "       [ 9,  7, 93, 19, 29],\n",
       "       [89, 89, 81, 66,  5],\n",
       "       [53, 33, 72, 15, 32]])"
      ]
     },
     "execution_count": 111,
     "metadata": {},
     "output_type": "execute_result"
    }
   ],
   "source": [
    "#para transformar este array en una matriz, para cambiar el formato de las matrices tambien\n",
    "matriz = array.reshape(5,5)  #siempre que el filasxcolumnas sea igual al numero de eltos que teniamos 5x5=25 para que entren todos\n",
    "matriz"
   ]
  },
  {
   "cell_type": "code",
   "execution_count": 128,
   "id": "38ace93a-ec26-44e7-8ffa-e8ff5799c493",
   "metadata": {},
   "outputs": [
    {
     "name": "stdout",
     "output_type": "stream",
     "text": [
      "El valor maximo es 96 que está en la posicion 2\n"
     ]
    }
   ],
   "source": [
    "valor_maximo = array.max()\n",
    "posicion_valor_maximo = array.argmax()\n",
    "print(\"El valor maximo es {} que está en la posicion {}\".format(valor_maximo, posicion_valor_maximo))"
   ]
  },
  {
   "cell_type": "code",
   "execution_count": 124,
   "id": "a5943cb4-a833-4b8d-8a1e-5f77853d0dd2",
   "metadata": {},
   "outputs": [
    {
     "name": "stdout",
     "output_type": "stream",
     "text": [
      "El valor mínimo es 5 que está en la posicion 19\n"
     ]
    }
   ],
   "source": [
    "valor_min= array.min()\n",
    "posicion_valor_min =array.argmin()\n",
    "print(\"El valor mínimo es {} que está en la posicion {}\".format(valor_min, posicion_valor_min))"
   ]
  },
  {
   "cell_type": "markdown",
   "id": "a7cd631f-75d6-47a2-b310-7328679dc3be",
   "metadata": {},
   "source": [
    "### Indexación en los arrays"
   ]
  },
  {
   "cell_type": "code",
   "execution_count": 138,
   "id": "e103f7e8-fa1c-4457-bbda-b13c16b977ca",
   "metadata": {},
   "outputs": [
    {
     "data": {
      "text/plain": [
       "5"
      ]
     },
     "execution_count": 138,
     "metadata": {},
     "output_type": "execute_result"
    }
   ],
   "source": [
    "array[19]"
   ]
  },
  {
   "cell_type": "code",
   "execution_count": 140,
   "id": "1797abe1-546a-4f67-8203-328a63f79dc2",
   "metadata": {},
   "outputs": [
    {
     "data": {
      "text/plain": [
       "32"
      ]
     },
     "execution_count": 140,
     "metadata": {},
     "output_type": "execute_result"
    }
   ],
   "source": [
    "#ultimo elto del array\n",
    "array[-1]"
   ]
  },
  {
   "cell_type": "code",
   "execution_count": 142,
   "id": "4d3170ed-a50a-4a16-a2e5-56e88fecd5f8",
   "metadata": {},
   "outputs": [
    {
     "data": {
      "text/plain": [
       "array([11, 84, 96, 36, 68, 78, 46, 72, 27, 74,  9,  7, 93, 19, 29, 89, 89,\n",
       "       81, 66,  5, 53, 33, 72, 15, 32])"
      ]
     },
     "execution_count": 142,
     "metadata": {},
     "output_type": "execute_result"
    }
   ],
   "source": [
    "array[:]  #todo el array\n",
    "array[5:] #desde la posicion 5 hasta el final\n",
    "array[:4] #hasta la posicion 4 (sin incluirla)"
   ]
  },
  {
   "cell_type": "code",
   "execution_count": 146,
   "id": "1da0427e-f7ac-4170-9402-0f1d804a3f17",
   "metadata": {},
   "outputs": [
    {
     "data": {
      "text/plain": [
       "array([11, 84, 96, 36, 68, 78, 46, 72, 27, 74,  9,  7, 93, 19, 29, 89, 89,\n",
       "       81, 66,  5, 53, 33, 72, 15, 32])"
      ]
     },
     "execution_count": 146,
     "metadata": {},
     "output_type": "execute_result"
    }
   ],
   "source": [
    "#copia de un array\n",
    "array2= array.copy()\n",
    "array2\n"
   ]
  },
  {
   "cell_type": "code",
   "execution_count": 148,
   "id": "806f2bed-0f79-42c9-a0ee-c26b097c2894",
   "metadata": {},
   "outputs": [
    {
     "data": {
      "text/plain": [
       "array([[11, 84, 96, 36, 68],\n",
       "       [78, 46, 72, 27, 74],\n",
       "       [ 9,  7, 93, 19, 29],\n",
       "       [89, 89, 81, 66,  5],\n",
       "       [53, 33, 72, 15, 32]])"
      ]
     },
     "execution_count": 148,
     "metadata": {},
     "output_type": "execute_result"
    }
   ],
   "source": [
    "#para dos dimensiones, como matriz\n",
    "matriz"
   ]
  },
  {
   "cell_type": "code",
   "execution_count": 154,
   "id": "ae28e860-6990-4f55-900b-4f79d1fe4f04",
   "metadata": {},
   "outputs": [
    {
     "data": {
      "text/plain": [
       "36"
      ]
     },
     "execution_count": 154,
     "metadata": {},
     "output_type": "execute_result"
    }
   ],
   "source": [
    "matriz[0][3] #[fila][columna] tambien vale con coma [fila,columna]"
   ]
  },
  {
   "cell_type": "code",
   "execution_count": 156,
   "id": "c9da4acd-180d-45a7-9727-acc0deaa39d9",
   "metadata": {},
   "outputs": [
    {
     "data": {
      "text/plain": [
       "36"
      ]
     },
     "execution_count": 156,
     "metadata": {},
     "output_type": "execute_result"
    }
   ],
   "source": [
    "matriz[0,3]"
   ]
  },
  {
   "cell_type": "code",
   "execution_count": 152,
   "id": "4bdf1840-c470-4543-b2dd-d1f1b41e7cbc",
   "metadata": {},
   "outputs": [
    {
     "data": {
      "text/plain": [
       "array([ 9,  7, 93, 19, 29])"
      ]
     },
     "execution_count": 152,
     "metadata": {},
     "output_type": "execute_result"
    }
   ],
   "source": [
    "#seleccionar una fila\n",
    "matriz[2]"
   ]
  },
  {
   "cell_type": "code",
   "execution_count": 158,
   "id": "f36ce415-597d-4048-bd79-73ecae09d133",
   "metadata": {},
   "outputs": [
    {
     "data": {
      "text/plain": [
       "array([11, 78,  9, 89, 53])"
      ]
     },
     "execution_count": 158,
     "metadata": {},
     "output_type": "execute_result"
    }
   ],
   "source": [
    "matriz[:,0]  #para localizar una unica columna, primero le decimos que todas las filas, y luego qué columna "
   ]
  },
  {
   "cell_type": "code",
   "execution_count": 164,
   "id": "438f3a3e-f618-4e45-9106-2f25543c6591",
   "metadata": {},
   "outputs": [
    {
     "data": {
      "text/plain": [
       "array([68, 74, 29,  5, 32])"
      ]
     },
     "execution_count": 164,
     "metadata": {},
     "output_type": "execute_result"
    }
   ],
   "source": [
    "matriz[:,-1]  #ultima columna"
   ]
  },
  {
   "cell_type": "markdown",
   "id": "868e9cce-4f6a-4bbf-b26c-6f7a23647119",
   "metadata": {},
   "source": [
    "### Seleccionar eltos de un array según una condición"
   ]
  },
  {
   "cell_type": "code",
   "execution_count": 175,
   "id": "5bc3b50d-84cc-486c-8dc1-0c0914d1a812",
   "metadata": {},
   "outputs": [
    {
     "data": {
      "text/plain": [
       "array([0, 1, 2, 3, 4, 5, 6, 7, 8, 9])"
      ]
     },
     "execution_count": 175,
     "metadata": {},
     "output_type": "execute_result"
    }
   ],
   "source": [
    "array = np.arange(0,10)\n",
    "array"
   ]
  },
  {
   "cell_type": "code",
   "execution_count": 177,
   "id": "e8c152d9-e0d3-4edc-bd9d-8b3825795d8a",
   "metadata": {},
   "outputs": [
    {
     "data": {
      "text/plain": [
       "array([False, False, False, False, False, False,  True,  True,  True,\n",
       "        True])"
      ]
     },
     "execution_count": 177,
     "metadata": {},
     "output_type": "execute_result"
    }
   ],
   "source": [
    "condicion = array >5\n",
    "condicion  #nos da booleanos de false o true para ver si se cumple la condición"
   ]
  },
  {
   "cell_type": "code",
   "execution_count": 183,
   "id": "756ff0c2-6168-499f-a6a3-e88d84d89536",
   "metadata": {},
   "outputs": [
    {
     "data": {
      "text/plain": [
       "array([6, 7, 8, 9])"
      ]
     },
     "execution_count": 183,
     "metadata": {},
     "output_type": "execute_result"
    }
   ],
   "source": [
    "array[condicion]  #los que la condición es true"
   ]
  },
  {
   "cell_type": "code",
   "execution_count": 191,
   "id": "7985b091-0999-4fb0-991d-94917bfeb336",
   "metadata": {},
   "outputs": [
    {
     "data": {
      "text/plain": [
       "array([0, 2, 4, 6, 8])"
      ]
     },
     "execution_count": 191,
     "metadata": {},
     "output_type": "execute_result"
    }
   ],
   "source": [
    "array_pares = array[array%2==0]\n",
    "array_pares"
   ]
  },
  {
   "cell_type": "markdown",
   "id": "a237b33a-11e9-454f-89f0-acaa35bf200f",
   "metadata": {},
   "source": [
    "### Operaciones sobre los arrays"
   ]
  },
  {
   "cell_type": "code",
   "execution_count": 217,
   "id": "afe6e3f0-f196-4e76-8daa-797208b08a2e",
   "metadata": {},
   "outputs": [
    {
     "data": {
      "text/plain": [
       "array([  0, 101, 202, 303, 404, 505, 606, 707, 808, 909])"
      ]
     },
     "execution_count": 217,
     "metadata": {},
     "output_type": "execute_result"
    }
   ],
   "source": [
    "operacion = array + array *100\n",
    "operacion"
   ]
  },
  {
   "cell_type": "code",
   "execution_count": 211,
   "id": "109f241c-52f3-4912-8459-6c4ab458b023",
   "metadata": {},
   "outputs": [
    {
     "data": {
      "text/plain": [
       "array([ 0,  1,  4,  9, 16, 25, 36, 49, 64, 81])"
      ]
     },
     "execution_count": 211,
     "metadata": {},
     "output_type": "execute_result"
    }
   ],
   "source": [
    "#func  sobre los array. escribe np. y pulsa tab y verás las func a poder utilizar\n",
    "np.square(array)"
   ]
  },
  {
   "cell_type": "code",
   "execution_count": 219,
   "id": "207088ed-d5a7-4461-8c0f-95cbc43c0ae8",
   "metadata": {},
   "outputs": [
    {
     "data": {
      "text/plain": [
       "909"
      ]
     },
     "execution_count": 219,
     "metadata": {},
     "output_type": "execute_result"
    }
   ],
   "source": [
    "np.max(operacion)"
   ]
  },
  {
   "cell_type": "markdown",
   "id": "34036e1d-37af-4a57-ac3b-0794aa8ffb79",
   "metadata": {},
   "source": [
    "---"
   ]
  },
  {
   "cell_type": "code",
   "execution_count": null,
   "id": "e5f79cf3-1dd9-4c61-8fb0-c906a1f733d2",
   "metadata": {},
   "outputs": [],
   "source": [
    "#Ejercicios\n"
   ]
  },
  {
   "cell_type": "code",
   "execution_count": null,
   "id": "5fa07d58-84a3-4095-a034-eefc19e700d9",
   "metadata": {},
   "outputs": [],
   "source": [
    "#Crea una lista de num secuencias, con min 10 y max 39\n",
    "#convierte esta en lista en matris de 3x10\n",
    "#muestra el valor del elto de la esquina superior derecha de la matriz"
   ]
  },
  {
   "cell_type": "code",
   "execution_count": 236,
   "id": "8cf0861a-33fd-4f8d-a2ac-6682f295be16",
   "metadata": {},
   "outputs": [
    {
     "data": {
      "text/plain": [
       "array([[10, 11, 12, 13, 14, 15, 16, 17, 18, 19],\n",
       "       [20, 21, 22, 23, 24, 25, 26, 27, 28, 29],\n",
       "       [30, 31, 32, 33, 34, 35, 36, 37, 38, 39]])"
      ]
     },
     "execution_count": 236,
     "metadata": {},
     "output_type": "execute_result"
    }
   ],
   "source": [
    "import numpy as np\n",
    "lista = np.arange(10,40)\n",
    "lista =lista.reshape(3,10)\n",
    "lista"
   ]
  },
  {
   "cell_type": "code",
   "execution_count": 238,
   "id": "331d374a-f6c8-4802-b337-62b8d3af4cd2",
   "metadata": {},
   "outputs": [
    {
     "data": {
      "text/plain": [
       "19"
      ]
     },
     "execution_count": 238,
     "metadata": {},
     "output_type": "execute_result"
    }
   ],
   "source": [
    "lista[0,9]"
   ]
  },
  {
   "cell_type": "code",
   "execution_count": 240,
   "id": "754aeb82-4e09-45b6-82cf-e6f7732dd495",
   "metadata": {},
   "outputs": [],
   "source": [
    "#Crea un array de 1 dimension con 9 valores enteros aleatorios entre 0 y 100\n",
    "#convierte el array en matriz de 3x3\n",
    "#muestra en pantalla el valor esquina inferior derecha"
   ]
  },
  {
   "cell_type": "code",
   "execution_count": 257,
   "id": "c5ad8a2a-44cc-462e-9341-4a7f6f37f958",
   "metadata": {},
   "outputs": [
    {
     "name": "stdout",
     "output_type": "stream",
     "text": [
      "[27 54  9 97 96 55 64 84 12]\n",
      "[[27 54  9]\n",
      " [97 96 55]\n",
      " [64 84 12]]\n",
      "12\n"
     ]
    }
   ],
   "source": [
    "import numpy as np\n",
    "lista = np.random.randint(0,100,9)\n",
    "print(lista)\n",
    "lista = lista.reshape(3,3)\n",
    "print(lista)\n",
    "print(lista[2][2])"
   ]
  },
  {
   "cell_type": "code",
   "execution_count": null,
   "id": "a7a4a9cc-f201-4b9a-8bd4-02e82b1f0a23",
   "metadata": {},
   "outputs": [],
   "source": []
  },
  {
   "cell_type": "code",
   "execution_count": 261,
   "id": "e7cec756-441f-4b5e-ac34-75cea8343498",
   "metadata": {},
   "outputs": [
    {
     "name": "stdout",
     "output_type": "stream",
     "text": [
      "[4 9 7 6 1]\n"
     ]
    }
   ],
   "source": [
    "def fun(N, min, max):\n",
    "    return np.random.randint(min, max, N)\n",
    "\n",
    "N=5\n",
    "min= 1\n",
    "max = 10\n",
    "\n",
    "resultado = fun(N,min, max)\n",
    "print(resultado)"
   ]
  },
  {
   "cell_type": "markdown",
   "id": "dc8a8c7a-2bce-472e-b1ec-a7292630c462",
   "metadata": {},
   "source": [
    "'''Desarrolla una función llamada generar_numeros_enteros_aleatorios\n",
    "que tome como entrada el número de elementos N, un valor mínimo minimo y un valor máximo maximo, \n",
    "y utilice NumPy para generar una lista de N números enteros aleatorios en el rango [minimo, maximo].\n",
    "SUGERENCIA: Utiliza la función tolist() para convertir la salida de randint() en una lista\n",
    "'''"
   ]
  },
  {
   "cell_type": "code",
   "execution_count": 265,
   "id": "1ad4422a-1c8e-400f-9cb3-300ad8d69c94",
   "metadata": {},
   "outputs": [
    {
     "name": "stdout",
     "output_type": "stream",
     "text": [
      "[10, 2, 6, 10, 2]\n"
     ]
    }
   ],
   "source": [
    "import numpy as np\n",
    "def generar_numeros_enteros_aletarios(N,minimo, maximo):\n",
    "    return np.random.randint(minimo, maximo + 1, size=N).tolist()\n",
    "\n",
    "# Ejemplo de uso\n",
    "N = 5\n",
    "minimo = 1\n",
    "maximo = 10\n",
    "resultado = generar_numeros_enteros_aletarios(N, minimo, maximo)\n",
    "print(resultado)\n"
   ]
  },
  {
   "cell_type": "markdown",
   "id": "7ebbc9fe-16fd-4d14-a437-6df798bedfa4",
   "metadata": {},
   "source": [
    "'''\n",
    "Desarrolla una función llamada generar_secuencia_numerica \n",
    "que tome como entrada un valor mínimo minimo, un valor máximo maximo y un paso paso, \n",
    "utilice NumPy para generar una secuencia de números en el rango [minimo, maximo) con el paso especificado.\n",
    "\n",
    "'''"
   ]
  },
  {
   "cell_type": "code",
   "execution_count": 271,
   "id": "d1dd5680-d24b-4d64-8561-c4859d0049b5",
   "metadata": {},
   "outputs": [
    {
     "name": "stdout",
     "output_type": "stream",
     "text": [
      "[0, 2, 4, 6, 8]\n"
     ]
    }
   ],
   "source": [
    "import numpy as np\n",
    "def generar_secuencia_numerica(minimo, maximo, paso):\n",
    "    return np.arange(minimo, maximo, paso).tolist()\n",
    "# Ejemplo de uso\n",
    "minimo = 0\n",
    "maximo = 10\n",
    "paso = 2\n",
    "resultado = generar_secuencia_numerica(minimo, maximo, paso)\n",
    "print(resultado)"
   ]
  },
  {
   "cell_type": "code",
   "execution_count": null,
   "id": "70ca6967-ccfb-4424-bb64-746da4965b5a",
   "metadata": {},
   "outputs": [],
   "source": []
  },
  {
   "cell_type": "code",
   "execution_count": null,
   "id": "52b315b7-ee20-464d-a13a-d543c191a669",
   "metadata": {},
   "outputs": [],
   "source": []
  }
 ],
 "metadata": {
  "kernelspec": {
   "display_name": "Python 3 (ipykernel)",
   "language": "python",
   "name": "python3"
  },
  "language_info": {
   "codemirror_mode": {
    "name": "ipython",
    "version": 3
   },
   "file_extension": ".py",
   "mimetype": "text/x-python",
   "name": "python",
   "nbconvert_exporter": "python",
   "pygments_lexer": "ipython3",
   "version": "3.11.7"
  }
 },
 "nbformat": 4,
 "nbformat_minor": 5
}
